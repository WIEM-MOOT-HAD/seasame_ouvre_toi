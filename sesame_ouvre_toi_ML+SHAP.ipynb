{
  "cells": [
    {
      "cell_type": "markdown",
      "metadata": {
        "id": "view-in-github",
        "colab_type": "text"
      },
      "source": [
        "<a href=\"https://colab.research.google.com/github/WIEM-MOOT-HAD/seasame_ouvre_toi/blob/main/sesame_ouvre_toi_ML%2BSHAP.ipynb\" target=\"_parent\"><img src=\"https://colab.research.google.com/assets/colab-badge.svg\" alt=\"Open In Colab\"/></a>"
      ]
    },
    {
      "cell_type": "markdown",
      "source": [
        "#### Set up colab and dataset"
      ],
      "metadata": {
        "id": "Lax63lgN87lv"
      }
    },
    {
      "cell_type": "code",
      "execution_count": 18,
      "metadata": {
        "id": "5Nk99791wUXm",
        "colab": {
          "base_uri": "https://localhost:8080/"
        },
        "outputId": "98073346-f707-42b1-c52b-e3bc9d4e98d4"
      },
      "outputs": [
        {
          "output_type": "stream",
          "name": "stdout",
          "text": [
            "Drive already mounted at /content/drive; to attempt to forcibly remount, call drive.mount(\"/content/drive\", force_remount=True).\n"
          ]
        }
      ],
      "source": [
        "#mount drive\n",
        "from google.colab import drive\n",
        "drive.mount('/content/drive')"
      ]
    },
    {
      "cell_type": "code",
      "execution_count": 19,
      "metadata": {
        "colab": {
          "base_uri": "https://localhost:8080/"
        },
        "id": "-ULCjKIe3OtX",
        "outputId": "3f9cfb8c-b3b7-4075-e0c3-56ccbf72f105"
      },
      "outputs": [
        {
          "output_type": "stream",
          "name": "stdout",
          "text": [
            "Looking in indexes: https://pypi.org/simple, https://us-python.pkg.dev/colab-wheels/public/simple/\n",
            "Requirement already satisfied: pycaret in /usr/local/lib/python3.10/dist-packages (3.0.2)\n",
            "Requirement already satisfied: ipython>=5.5.0 in /usr/local/lib/python3.10/dist-packages (from pycaret) (7.34.0)\n",
            "Requirement already satisfied: ipywidgets>=7.6.5 in /usr/local/lib/python3.10/dist-packages (from pycaret) (7.7.1)\n",
            "Requirement already satisfied: tqdm>=4.62.0 in /usr/local/lib/python3.10/dist-packages (from pycaret) (4.65.0)\n",
            "Requirement already satisfied: numpy<1.24,>=1.21 in /usr/local/lib/python3.10/dist-packages (from pycaret) (1.22.4)\n",
            "Requirement already satisfied: pandas<2.0.0,>=1.3.0 in /usr/local/lib/python3.10/dist-packages (from pycaret) (1.5.3)\n",
            "Requirement already satisfied: jinja2>=1.2 in /usr/local/lib/python3.10/dist-packages (from pycaret) (3.1.2)\n",
            "Requirement already satisfied: scipy<2.0.0 in /usr/local/lib/python3.10/dist-packages (from pycaret) (1.10.1)\n",
            "Requirement already satisfied: joblib>=1.2.0 in /usr/local/lib/python3.10/dist-packages (from pycaret) (1.2.0)\n",
            "Requirement already satisfied: scikit-learn>=1.0 in /usr/local/lib/python3.10/dist-packages (from pycaret) (1.2.2)\n",
            "Requirement already satisfied: pyod>=1.0.8 in /usr/local/lib/python3.10/dist-packages (from pycaret) (1.0.9)\n",
            "Requirement already satisfied: imbalanced-learn>=0.8.1 in /usr/local/lib/python3.10/dist-packages (from pycaret) (0.10.1)\n",
            "Requirement already satisfied: category-encoders>=2.4.0 in /usr/local/lib/python3.10/dist-packages (from pycaret) (2.6.1)\n",
            "Requirement already satisfied: lightgbm>=3.0.0 in /usr/local/lib/python3.10/dist-packages (from pycaret) (3.3.5)\n",
            "Requirement already satisfied: numba>=0.55.0 in /usr/local/lib/python3.10/dist-packages (from pycaret) (0.56.4)\n",
            "Requirement already satisfied: requests>=2.27.1 in /usr/local/lib/python3.10/dist-packages (from pycaret) (2.27.1)\n",
            "Requirement already satisfied: psutil>=5.9.0 in /usr/local/lib/python3.10/dist-packages (from pycaret) (5.9.5)\n",
            "Requirement already satisfied: markupsafe>=2.0.1 in /usr/local/lib/python3.10/dist-packages (from pycaret) (2.1.2)\n",
            "Requirement already satisfied: importlib-metadata>=4.12.0 in /usr/local/lib/python3.10/dist-packages (from pycaret) (6.6.0)\n",
            "Requirement already satisfied: nbformat>=4.2.0 in /usr/local/lib/python3.10/dist-packages (from pycaret) (5.8.0)\n",
            "Requirement already satisfied: cloudpickle in /usr/local/lib/python3.10/dist-packages (from pycaret) (2.2.1)\n",
            "Requirement already satisfied: deprecation>=2.1.0 in /usr/local/lib/python3.10/dist-packages (from pycaret) (2.1.0)\n",
            "Requirement already satisfied: xxhash in /usr/local/lib/python3.10/dist-packages (from pycaret) (3.2.0)\n",
            "Requirement already satisfied: matplotlib>=3.3.0 in /usr/local/lib/python3.10/dist-packages (from pycaret) (3.7.1)\n",
            "Requirement already satisfied: scikit-plot>=0.3.7 in /usr/local/lib/python3.10/dist-packages (from pycaret) (0.3.7)\n",
            "Requirement already satisfied: yellowbrick>=1.4 in /usr/local/lib/python3.10/dist-packages (from pycaret) (1.5)\n",
            "Requirement already satisfied: plotly>=5.0.0 in /usr/local/lib/python3.10/dist-packages (from pycaret) (5.13.1)\n",
            "Requirement already satisfied: kaleido>=0.2.1 in /usr/local/lib/python3.10/dist-packages (from pycaret) (0.2.1)\n",
            "Requirement already satisfied: schemdraw==0.15 in /usr/local/lib/python3.10/dist-packages (from pycaret) (0.15)\n",
            "Requirement already satisfied: plotly-resampler>=0.8.3.1 in /usr/local/lib/python3.10/dist-packages (from pycaret) (0.8.3.2)\n",
            "Requirement already satisfied: statsmodels>=0.12.1 in /usr/local/lib/python3.10/dist-packages (from pycaret) (0.13.5)\n",
            "Requirement already satisfied: sktime!=0.17.1,<0.17.2,>=0.16.1 in /usr/local/lib/python3.10/dist-packages (from pycaret) (0.17.0)\n",
            "Requirement already satisfied: tbats>=1.1.3 in /usr/local/lib/python3.10/dist-packages (from pycaret) (1.1.3)\n",
            "Requirement already satisfied: pmdarima!=1.8.1,<3.0.0,>=1.8.0 in /usr/local/lib/python3.10/dist-packages (from pycaret) (2.0.3)\n",
            "Requirement already satisfied: wurlitzer in /usr/local/lib/python3.10/dist-packages (from pycaret) (3.0.3)\n",
            "Requirement already satisfied: patsy>=0.5.1 in /usr/local/lib/python3.10/dist-packages (from category-encoders>=2.4.0->pycaret) (0.5.3)\n",
            "Requirement already satisfied: packaging in /usr/local/lib/python3.10/dist-packages (from deprecation>=2.1.0->pycaret) (23.1)\n",
            "Requirement already satisfied: threadpoolctl>=2.0.0 in /usr/local/lib/python3.10/dist-packages (from imbalanced-learn>=0.8.1->pycaret) (3.1.0)\n",
            "Requirement already satisfied: zipp>=0.5 in /usr/local/lib/python3.10/dist-packages (from importlib-metadata>=4.12.0->pycaret) (3.15.0)\n",
            "Requirement already satisfied: setuptools>=18.5 in /usr/local/lib/python3.10/dist-packages (from ipython>=5.5.0->pycaret) (67.7.2)\n",
            "Requirement already satisfied: jedi>=0.16 in /usr/local/lib/python3.10/dist-packages (from ipython>=5.5.0->pycaret) (0.18.2)\n",
            "Requirement already satisfied: decorator in /usr/local/lib/python3.10/dist-packages (from ipython>=5.5.0->pycaret) (4.4.2)\n",
            "Requirement already satisfied: pickleshare in /usr/local/lib/python3.10/dist-packages (from ipython>=5.5.0->pycaret) (0.7.5)\n",
            "Requirement already satisfied: traitlets>=4.2 in /usr/local/lib/python3.10/dist-packages (from ipython>=5.5.0->pycaret) (5.7.1)\n",
            "Requirement already satisfied: prompt-toolkit!=3.0.0,!=3.0.1,<3.1.0,>=2.0.0 in /usr/local/lib/python3.10/dist-packages (from ipython>=5.5.0->pycaret) (3.0.38)\n",
            "Requirement already satisfied: pygments in /usr/local/lib/python3.10/dist-packages (from ipython>=5.5.0->pycaret) (2.14.0)\n",
            "Requirement already satisfied: backcall in /usr/local/lib/python3.10/dist-packages (from ipython>=5.5.0->pycaret) (0.2.0)\n",
            "Requirement already satisfied: matplotlib-inline in /usr/local/lib/python3.10/dist-packages (from ipython>=5.5.0->pycaret) (0.1.6)\n",
            "Requirement already satisfied: pexpect>4.3 in /usr/local/lib/python3.10/dist-packages (from ipython>=5.5.0->pycaret) (4.8.0)\n",
            "Requirement already satisfied: ipykernel>=4.5.1 in /usr/local/lib/python3.10/dist-packages (from ipywidgets>=7.6.5->pycaret) (5.5.6)\n",
            "Requirement already satisfied: ipython-genutils~=0.2.0 in /usr/local/lib/python3.10/dist-packages (from ipywidgets>=7.6.5->pycaret) (0.2.0)\n",
            "Requirement already satisfied: widgetsnbextension~=3.6.0 in /usr/local/lib/python3.10/dist-packages (from ipywidgets>=7.6.5->pycaret) (3.6.4)\n",
            "Requirement already satisfied: jupyterlab-widgets>=1.0.0 in /usr/local/lib/python3.10/dist-packages (from ipywidgets>=7.6.5->pycaret) (3.0.7)\n",
            "Requirement already satisfied: wheel in /usr/local/lib/python3.10/dist-packages (from lightgbm>=3.0.0->pycaret) (0.40.0)\n",
            "Requirement already satisfied: contourpy>=1.0.1 in /usr/local/lib/python3.10/dist-packages (from matplotlib>=3.3.0->pycaret) (1.0.7)\n",
            "Requirement already satisfied: cycler>=0.10 in /usr/local/lib/python3.10/dist-packages (from matplotlib>=3.3.0->pycaret) (0.11.0)\n",
            "Requirement already satisfied: fonttools>=4.22.0 in /usr/local/lib/python3.10/dist-packages (from matplotlib>=3.3.0->pycaret) (4.39.3)\n",
            "Requirement already satisfied: kiwisolver>=1.0.1 in /usr/local/lib/python3.10/dist-packages (from matplotlib>=3.3.0->pycaret) (1.4.4)\n",
            "Requirement already satisfied: pillow>=6.2.0 in /usr/local/lib/python3.10/dist-packages (from matplotlib>=3.3.0->pycaret) (8.4.0)\n",
            "Requirement already satisfied: pyparsing>=2.3.1 in /usr/local/lib/python3.10/dist-packages (from matplotlib>=3.3.0->pycaret) (3.0.9)\n",
            "Requirement already satisfied: python-dateutil>=2.7 in /usr/local/lib/python3.10/dist-packages (from matplotlib>=3.3.0->pycaret) (2.8.2)\n",
            "Requirement already satisfied: fastjsonschema in /usr/local/lib/python3.10/dist-packages (from nbformat>=4.2.0->pycaret) (2.16.3)\n",
            "Requirement already satisfied: jsonschema>=2.6 in /usr/local/lib/python3.10/dist-packages (from nbformat>=4.2.0->pycaret) (4.3.3)\n",
            "Requirement already satisfied: jupyter-core in /usr/local/lib/python3.10/dist-packages (from nbformat>=4.2.0->pycaret) (5.3.0)\n",
            "Requirement already satisfied: llvmlite<0.40,>=0.39.0dev0 in /usr/local/lib/python3.10/dist-packages (from numba>=0.55.0->pycaret) (0.39.1)\n",
            "Requirement already satisfied: pytz>=2020.1 in /usr/local/lib/python3.10/dist-packages (from pandas<2.0.0,>=1.3.0->pycaret) (2022.7.1)\n",
            "Requirement already satisfied: tenacity>=6.2.0 in /usr/local/lib/python3.10/dist-packages (from plotly>=5.0.0->pycaret) (8.2.2)\n",
            "Requirement already satisfied: dash<3.0.0,>=2.2.0 in /usr/local/lib/python3.10/dist-packages (from plotly-resampler>=0.8.3.1->pycaret) (2.10.0)\n",
            "Requirement already satisfied: jupyter-dash>=0.4.2 in /usr/local/lib/python3.10/dist-packages (from plotly-resampler>=0.8.3.1->pycaret) (0.4.2)\n",
            "Requirement already satisfied: orjson<4.0.0,>=3.8.0 in /usr/local/lib/python3.10/dist-packages (from plotly-resampler>=0.8.3.1->pycaret) (3.8.14)\n",
            "Requirement already satisfied: trace-updater>=0.0.8 in /usr/local/lib/python3.10/dist-packages (from plotly-resampler>=0.8.3.1->pycaret) (0.0.9.1)\n",
            "Requirement already satisfied: Cython!=0.29.18,!=0.29.31,>=0.29 in /usr/local/lib/python3.10/dist-packages (from pmdarima!=1.8.1,<3.0.0,>=1.8.0->pycaret) (0.29.34)\n",
            "Requirement already satisfied: urllib3 in /usr/local/lib/python3.10/dist-packages (from pmdarima!=1.8.1,<3.0.0,>=1.8.0->pycaret) (1.26.15)\n",
            "Requirement already satisfied: six in /usr/local/lib/python3.10/dist-packages (from pyod>=1.0.8->pycaret) (1.16.0)\n",
            "Requirement already satisfied: certifi>=2017.4.17 in /usr/local/lib/python3.10/dist-packages (from requests>=2.27.1->pycaret) (2022.12.7)\n",
            "Requirement already satisfied: charset-normalizer~=2.0.0 in /usr/local/lib/python3.10/dist-packages (from requests>=2.27.1->pycaret) (2.0.12)\n",
            "Requirement already satisfied: idna<4,>=2.5 in /usr/local/lib/python3.10/dist-packages (from requests>=2.27.1->pycaret) (3.4)\n",
            "Requirement already satisfied: deprecated>=1.2.13 in /usr/local/lib/python3.10/dist-packages (from sktime!=0.17.1,<0.17.2,>=0.16.1->pycaret) (1.2.14)\n",
            "Requirement already satisfied: Flask<=2.2.3,>=1.0.4 in /usr/local/lib/python3.10/dist-packages (from dash<3.0.0,>=2.2.0->plotly-resampler>=0.8.3.1->pycaret) (2.2.3)\n",
            "Requirement already satisfied: Werkzeug<=2.2.3 in /usr/local/lib/python3.10/dist-packages (from dash<3.0.0,>=2.2.0->plotly-resampler>=0.8.3.1->pycaret) (2.2.3)\n",
            "Requirement already satisfied: dash-html-components==2.0.0 in /usr/local/lib/python3.10/dist-packages (from dash<3.0.0,>=2.2.0->plotly-resampler>=0.8.3.1->pycaret) (2.0.0)\n",
            "Requirement already satisfied: dash-core-components==2.0.0 in /usr/local/lib/python3.10/dist-packages (from dash<3.0.0,>=2.2.0->plotly-resampler>=0.8.3.1->pycaret) (2.0.0)\n",
            "Requirement already satisfied: dash-table==5.0.0 in /usr/local/lib/python3.10/dist-packages (from dash<3.0.0,>=2.2.0->plotly-resampler>=0.8.3.1->pycaret) (5.0.0)\n",
            "Requirement already satisfied: wrapt<2,>=1.10 in /usr/local/lib/python3.10/dist-packages (from deprecated>=1.2.13->sktime!=0.17.1,<0.17.2,>=0.16.1->pycaret) (1.14.1)\n",
            "Requirement already satisfied: jupyter-client in /usr/local/lib/python3.10/dist-packages (from ipykernel>=4.5.1->ipywidgets>=7.6.5->pycaret) (6.1.12)\n",
            "Requirement already satisfied: tornado>=4.2 in /usr/local/lib/python3.10/dist-packages (from ipykernel>=4.5.1->ipywidgets>=7.6.5->pycaret) (6.3.1)\n",
            "Requirement already satisfied: parso<0.9.0,>=0.8.0 in /usr/local/lib/python3.10/dist-packages (from jedi>=0.16->ipython>=5.5.0->pycaret) (0.8.3)\n",
            "Requirement already satisfied: attrs>=17.4.0 in /usr/local/lib/python3.10/dist-packages (from jsonschema>=2.6->nbformat>=4.2.0->pycaret) (23.1.0)\n",
            "Requirement already satisfied: pyrsistent!=0.17.0,!=0.17.1,!=0.17.2,>=0.14.0 in /usr/local/lib/python3.10/dist-packages (from jsonschema>=2.6->nbformat>=4.2.0->pycaret) (0.19.3)\n",
            "Requirement already satisfied: retrying in /usr/local/lib/python3.10/dist-packages (from jupyter-dash>=0.4.2->plotly-resampler>=0.8.3.1->pycaret) (1.3.4)\n",
            "Requirement already satisfied: ansi2html in /usr/local/lib/python3.10/dist-packages (from jupyter-dash>=0.4.2->plotly-resampler>=0.8.3.1->pycaret) (1.8.0)\n",
            "Requirement already satisfied: nest-asyncio in /usr/local/lib/python3.10/dist-packages (from jupyter-dash>=0.4.2->plotly-resampler>=0.8.3.1->pycaret) (1.5.6)\n",
            "Requirement already satisfied: ptyprocess>=0.5 in /usr/local/lib/python3.10/dist-packages (from pexpect>4.3->ipython>=5.5.0->pycaret) (0.7.0)\n",
            "Requirement already satisfied: wcwidth in /usr/local/lib/python3.10/dist-packages (from prompt-toolkit!=3.0.0,!=3.0.1,<3.1.0,>=2.0.0->ipython>=5.5.0->pycaret) (0.2.6)\n",
            "Requirement already satisfied: notebook>=4.4.1 in /usr/local/lib/python3.10/dist-packages (from widgetsnbextension~=3.6.0->ipywidgets>=7.6.5->pycaret) (6.4.8)\n",
            "Requirement already satisfied: platformdirs>=2.5 in /usr/local/lib/python3.10/dist-packages (from jupyter-core->nbformat>=4.2.0->pycaret) (3.3.0)\n",
            "Requirement already satisfied: itsdangerous>=2.0 in /usr/local/lib/python3.10/dist-packages (from Flask<=2.2.3,>=1.0.4->dash<3.0.0,>=2.2.0->plotly-resampler>=0.8.3.1->pycaret) (2.1.2)\n",
            "Requirement already satisfied: click>=8.0 in /usr/local/lib/python3.10/dist-packages (from Flask<=2.2.3,>=1.0.4->dash<3.0.0,>=2.2.0->plotly-resampler>=0.8.3.1->pycaret) (8.1.3)\n",
            "Requirement already satisfied: pyzmq>=17 in /usr/local/lib/python3.10/dist-packages (from notebook>=4.4.1->widgetsnbextension~=3.6.0->ipywidgets>=7.6.5->pycaret) (23.2.1)\n",
            "Requirement already satisfied: argon2-cffi in /usr/local/lib/python3.10/dist-packages (from notebook>=4.4.1->widgetsnbextension~=3.6.0->ipywidgets>=7.6.5->pycaret) (21.3.0)\n",
            "Requirement already satisfied: nbconvert in /usr/local/lib/python3.10/dist-packages (from notebook>=4.4.1->widgetsnbextension~=3.6.0->ipywidgets>=7.6.5->pycaret) (6.5.4)\n",
            "Requirement already satisfied: Send2Trash>=1.8.0 in /usr/local/lib/python3.10/dist-packages (from notebook>=4.4.1->widgetsnbextension~=3.6.0->ipywidgets>=7.6.5->pycaret) (1.8.0)\n",
            "Requirement already satisfied: terminado>=0.8.3 in /usr/local/lib/python3.10/dist-packages (from notebook>=4.4.1->widgetsnbextension~=3.6.0->ipywidgets>=7.6.5->pycaret) (0.17.1)\n",
            "Requirement already satisfied: prometheus-client in /usr/local/lib/python3.10/dist-packages (from notebook>=4.4.1->widgetsnbextension~=3.6.0->ipywidgets>=7.6.5->pycaret) (0.16.0)\n",
            "Requirement already satisfied: argon2-cffi-bindings in /usr/local/lib/python3.10/dist-packages (from argon2-cffi->notebook>=4.4.1->widgetsnbextension~=3.6.0->ipywidgets>=7.6.5->pycaret) (21.2.0)\n",
            "Requirement already satisfied: lxml in /usr/local/lib/python3.10/dist-packages (from nbconvert->notebook>=4.4.1->widgetsnbextension~=3.6.0->ipywidgets>=7.6.5->pycaret) (4.9.2)\n",
            "Requirement already satisfied: beautifulsoup4 in /usr/local/lib/python3.10/dist-packages (from nbconvert->notebook>=4.4.1->widgetsnbextension~=3.6.0->ipywidgets>=7.6.5->pycaret) (4.11.2)\n",
            "Requirement already satisfied: bleach in /usr/local/lib/python3.10/dist-packages (from nbconvert->notebook>=4.4.1->widgetsnbextension~=3.6.0->ipywidgets>=7.6.5->pycaret) (6.0.0)\n",
            "Requirement already satisfied: defusedxml in /usr/local/lib/python3.10/dist-packages (from nbconvert->notebook>=4.4.1->widgetsnbextension~=3.6.0->ipywidgets>=7.6.5->pycaret) (0.7.1)\n",
            "Requirement already satisfied: entrypoints>=0.2.2 in /usr/local/lib/python3.10/dist-packages (from nbconvert->notebook>=4.4.1->widgetsnbextension~=3.6.0->ipywidgets>=7.6.5->pycaret) (0.4)\n",
            "Requirement already satisfied: jupyterlab-pygments in /usr/local/lib/python3.10/dist-packages (from nbconvert->notebook>=4.4.1->widgetsnbextension~=3.6.0->ipywidgets>=7.6.5->pycaret) (0.2.2)\n",
            "Requirement already satisfied: mistune<2,>=0.8.1 in /usr/local/lib/python3.10/dist-packages (from nbconvert->notebook>=4.4.1->widgetsnbextension~=3.6.0->ipywidgets>=7.6.5->pycaret) (0.8.4)\n",
            "Requirement already satisfied: nbclient>=0.5.0 in /usr/local/lib/python3.10/dist-packages (from nbconvert->notebook>=4.4.1->widgetsnbextension~=3.6.0->ipywidgets>=7.6.5->pycaret) (0.7.4)\n",
            "Requirement already satisfied: pandocfilters>=1.4.1 in /usr/local/lib/python3.10/dist-packages (from nbconvert->notebook>=4.4.1->widgetsnbextension~=3.6.0->ipywidgets>=7.6.5->pycaret) (1.5.0)\n",
            "Requirement already satisfied: tinycss2 in /usr/local/lib/python3.10/dist-packages (from nbconvert->notebook>=4.4.1->widgetsnbextension~=3.6.0->ipywidgets>=7.6.5->pycaret) (1.2.1)\n",
            "Requirement already satisfied: cffi>=1.0.1 in /usr/local/lib/python3.10/dist-packages (from argon2-cffi-bindings->argon2-cffi->notebook>=4.4.1->widgetsnbextension~=3.6.0->ipywidgets>=7.6.5->pycaret) (1.15.1)\n",
            "Requirement already satisfied: soupsieve>1.2 in /usr/local/lib/python3.10/dist-packages (from beautifulsoup4->nbconvert->notebook>=4.4.1->widgetsnbextension~=3.6.0->ipywidgets>=7.6.5->pycaret) (2.4.1)\n",
            "Requirement already satisfied: webencodings in /usr/local/lib/python3.10/dist-packages (from bleach->nbconvert->notebook>=4.4.1->widgetsnbextension~=3.6.0->ipywidgets>=7.6.5->pycaret) (0.5.1)\n",
            "Requirement already satisfied: pycparser in /usr/local/lib/python3.10/dist-packages (from cffi>=1.0.1->argon2-cffi-bindings->argon2-cffi->notebook>=4.4.1->widgetsnbextension~=3.6.0->ipywidgets>=7.6.5->pycaret) (2.21)\n",
            "Looking in indexes: https://pypi.org/simple, https://us-python.pkg.dev/colab-wheels/public/simple/\n",
            "Requirement already satisfied: shap in /usr/local/lib/python3.10/dist-packages (0.41.0)\n",
            "Requirement already satisfied: numpy in /usr/local/lib/python3.10/dist-packages (from shap) (1.22.4)\n",
            "Requirement already satisfied: scipy in /usr/local/lib/python3.10/dist-packages (from shap) (1.10.1)\n",
            "Requirement already satisfied: scikit-learn in /usr/local/lib/python3.10/dist-packages (from shap) (1.2.2)\n",
            "Requirement already satisfied: pandas in /usr/local/lib/python3.10/dist-packages (from shap) (1.5.3)\n",
            "Requirement already satisfied: tqdm>4.25.0 in /usr/local/lib/python3.10/dist-packages (from shap) (4.65.0)\n",
            "Requirement already satisfied: packaging>20.9 in /usr/local/lib/python3.10/dist-packages (from shap) (23.1)\n",
            "Requirement already satisfied: slicer==0.0.7 in /usr/local/lib/python3.10/dist-packages (from shap) (0.0.7)\n",
            "Requirement already satisfied: numba in /usr/local/lib/python3.10/dist-packages (from shap) (0.56.4)\n",
            "Requirement already satisfied: cloudpickle in /usr/local/lib/python3.10/dist-packages (from shap) (2.2.1)\n",
            "Requirement already satisfied: llvmlite<0.40,>=0.39.0dev0 in /usr/local/lib/python3.10/dist-packages (from numba->shap) (0.39.1)\n",
            "Requirement already satisfied: setuptools in /usr/local/lib/python3.10/dist-packages (from numba->shap) (67.7.2)\n",
            "Requirement already satisfied: python-dateutil>=2.8.1 in /usr/local/lib/python3.10/dist-packages (from pandas->shap) (2.8.2)\n",
            "Requirement already satisfied: pytz>=2020.1 in /usr/local/lib/python3.10/dist-packages (from pandas->shap) (2022.7.1)\n",
            "Requirement already satisfied: joblib>=1.1.1 in /usr/local/lib/python3.10/dist-packages (from scikit-learn->shap) (1.2.0)\n",
            "Requirement already satisfied: threadpoolctl>=2.0.0 in /usr/local/lib/python3.10/dist-packages (from scikit-learn->shap) (3.1.0)\n",
            "Requirement already satisfied: six>=1.5 in /usr/local/lib/python3.10/dist-packages (from python-dateutil>=2.8.1->pandas->shap) (1.16.0)\n"
          ]
        }
      ],
      "source": [
        "# install librairies\n",
        "!pip install pycaret\n",
        "!pip install shap"
      ]
    },
    {
      "cell_type": "code",
      "execution_count": 20,
      "metadata": {
        "id": "sEDVZmlGwH4R"
      },
      "outputs": [],
      "source": [
        "#import librairies\n",
        "import pandas as pd\n",
        "import numpy as np\n",
        "from sklearn.model_selection import train_test_split\n",
        "from sklearn import preprocessing\n",
        "from pycaret.classification import *\n",
        "from pycaret.classification import ClassificationExperiment\n",
        "from sklearn.ensemble import RandomForestClassifier\n",
        "from xgboost import XGBClassifier\n",
        "from sklearn.metrics import classification_report, confusion_matrix\n",
        "from sklearn.metrics import precision_score, recall_score\n",
        "import shap\n",
        "from datetime import datetime\n",
        "from datetime import date\n",
        "from pycaret.classification import *\n",
        "import matplotlib.pyplot as plt\n",
        "import seaborn as sns\n"
      ]
    },
    {
      "cell_type": "code",
      "execution_count": 21,
      "metadata": {
        "id": "V1O8SudMwhpd"
      },
      "outputs": [],
      "source": [
        "#import data\n",
        "data1 = pd.read_csv(\"/content/drive/MyDrive/Sesame_ouvre_toi/data/compas-scores-raw.csv\")"
      ]
    },
    {
      "cell_type": "markdown",
      "metadata": {
        "id": "QQWywtNWIWoK"
      },
      "source": [
        "###### Some features Ingineering"
      ]
    },
    {
      "cell_type": "code",
      "execution_count": 22,
      "metadata": {
        "id": "e3tA1zHEy7Gj"
      },
      "outputs": [],
      "source": [
        "#drop unusuful columns: \n",
        "data1.drop(['Person_ID','AssessmentID', 'Case_ID','LastName','FirstName', 'MiddleName', 'ScaleSet_ID','Scale_ID', \"AssessmentReason\",\n",
        "           \"Screening_Date\",\"IsCompleted\",\"IsDeleted\"],\n",
        "           axis=1, inplace=True)"
      ]
    },
    {
      "cell_type": "code",
      "source": [
        "data1.head()"
      ],
      "metadata": {
        "colab": {
          "base_uri": "https://localhost:8080/",
          "height": 374
        },
        "id": "z2IkuQVNb5FW",
        "outputId": "6385173a-fc3c-45cf-92e5-e6f480fc4fbb"
      },
      "execution_count": 23,
      "outputs": [
        {
          "output_type": "execute_result",
          "data": {
            "text/plain": [
              "  Agency_Text Sex_Code_Text Ethnic_Code_Text DateOfBirth            ScaleSet  \\\n",
              "0    PRETRIAL          Male        Caucasian    12/05/92  Risk and Prescreen   \n",
              "1    PRETRIAL          Male        Caucasian    12/05/92  Risk and Prescreen   \n",
              "2    PRETRIAL          Male        Caucasian    12/05/92  Risk and Prescreen   \n",
              "3    PRETRIAL          Male        Caucasian    09/16/84  Risk and Prescreen   \n",
              "4    PRETRIAL          Male        Caucasian    09/16/84  Risk and Prescreen   \n",
              "\n",
              "  Language LegalStatus CustodyStatus MaritalStatus  RecSupervisionLevel  \\\n",
              "0  English    Pretrial   Jail Inmate        Single                    1   \n",
              "1  English    Pretrial   Jail Inmate        Single                    1   \n",
              "2  English    Pretrial   Jail Inmate        Single                    1   \n",
              "3  English    Pretrial   Jail Inmate       Married                    1   \n",
              "4  English    Pretrial   Jail Inmate       Married                    1   \n",
              "\n",
              "  RecSupervisionLevelText                DisplayText  RawScore  DecileScore  \\\n",
              "0                     Low           Risk of Violence     -2.08            4   \n",
              "1                     Low         Risk of Recidivism     -1.06            2   \n",
              "2                     Low  Risk of Failure to Appear     15.00            1   \n",
              "3                     Low           Risk of Violence     -2.84            2   \n",
              "4                     Low         Risk of Recidivism     -1.50            1   \n",
              "\n",
              "  ScoreText AssessmentType  \n",
              "0       Low            New  \n",
              "1       Low            New  \n",
              "2       Low            New  \n",
              "3       Low            New  \n",
              "4       Low            New  "
            ],
            "text/html": [
              "\n",
              "  <div id=\"df-8bd35043-5612-4fcf-b6aa-486e91e36746\">\n",
              "    <div class=\"colab-df-container\">\n",
              "      <div>\n",
              "<style scoped>\n",
              "    .dataframe tbody tr th:only-of-type {\n",
              "        vertical-align: middle;\n",
              "    }\n",
              "\n",
              "    .dataframe tbody tr th {\n",
              "        vertical-align: top;\n",
              "    }\n",
              "\n",
              "    .dataframe thead th {\n",
              "        text-align: right;\n",
              "    }\n",
              "</style>\n",
              "<table border=\"1\" class=\"dataframe\">\n",
              "  <thead>\n",
              "    <tr style=\"text-align: right;\">\n",
              "      <th></th>\n",
              "      <th>Agency_Text</th>\n",
              "      <th>Sex_Code_Text</th>\n",
              "      <th>Ethnic_Code_Text</th>\n",
              "      <th>DateOfBirth</th>\n",
              "      <th>ScaleSet</th>\n",
              "      <th>Language</th>\n",
              "      <th>LegalStatus</th>\n",
              "      <th>CustodyStatus</th>\n",
              "      <th>MaritalStatus</th>\n",
              "      <th>RecSupervisionLevel</th>\n",
              "      <th>RecSupervisionLevelText</th>\n",
              "      <th>DisplayText</th>\n",
              "      <th>RawScore</th>\n",
              "      <th>DecileScore</th>\n",
              "      <th>ScoreText</th>\n",
              "      <th>AssessmentType</th>\n",
              "    </tr>\n",
              "  </thead>\n",
              "  <tbody>\n",
              "    <tr>\n",
              "      <th>0</th>\n",
              "      <td>PRETRIAL</td>\n",
              "      <td>Male</td>\n",
              "      <td>Caucasian</td>\n",
              "      <td>12/05/92</td>\n",
              "      <td>Risk and Prescreen</td>\n",
              "      <td>English</td>\n",
              "      <td>Pretrial</td>\n",
              "      <td>Jail Inmate</td>\n",
              "      <td>Single</td>\n",
              "      <td>1</td>\n",
              "      <td>Low</td>\n",
              "      <td>Risk of Violence</td>\n",
              "      <td>-2.08</td>\n",
              "      <td>4</td>\n",
              "      <td>Low</td>\n",
              "      <td>New</td>\n",
              "    </tr>\n",
              "    <tr>\n",
              "      <th>1</th>\n",
              "      <td>PRETRIAL</td>\n",
              "      <td>Male</td>\n",
              "      <td>Caucasian</td>\n",
              "      <td>12/05/92</td>\n",
              "      <td>Risk and Prescreen</td>\n",
              "      <td>English</td>\n",
              "      <td>Pretrial</td>\n",
              "      <td>Jail Inmate</td>\n",
              "      <td>Single</td>\n",
              "      <td>1</td>\n",
              "      <td>Low</td>\n",
              "      <td>Risk of Recidivism</td>\n",
              "      <td>-1.06</td>\n",
              "      <td>2</td>\n",
              "      <td>Low</td>\n",
              "      <td>New</td>\n",
              "    </tr>\n",
              "    <tr>\n",
              "      <th>2</th>\n",
              "      <td>PRETRIAL</td>\n",
              "      <td>Male</td>\n",
              "      <td>Caucasian</td>\n",
              "      <td>12/05/92</td>\n",
              "      <td>Risk and Prescreen</td>\n",
              "      <td>English</td>\n",
              "      <td>Pretrial</td>\n",
              "      <td>Jail Inmate</td>\n",
              "      <td>Single</td>\n",
              "      <td>1</td>\n",
              "      <td>Low</td>\n",
              "      <td>Risk of Failure to Appear</td>\n",
              "      <td>15.00</td>\n",
              "      <td>1</td>\n",
              "      <td>Low</td>\n",
              "      <td>New</td>\n",
              "    </tr>\n",
              "    <tr>\n",
              "      <th>3</th>\n",
              "      <td>PRETRIAL</td>\n",
              "      <td>Male</td>\n",
              "      <td>Caucasian</td>\n",
              "      <td>09/16/84</td>\n",
              "      <td>Risk and Prescreen</td>\n",
              "      <td>English</td>\n",
              "      <td>Pretrial</td>\n",
              "      <td>Jail Inmate</td>\n",
              "      <td>Married</td>\n",
              "      <td>1</td>\n",
              "      <td>Low</td>\n",
              "      <td>Risk of Violence</td>\n",
              "      <td>-2.84</td>\n",
              "      <td>2</td>\n",
              "      <td>Low</td>\n",
              "      <td>New</td>\n",
              "    </tr>\n",
              "    <tr>\n",
              "      <th>4</th>\n",
              "      <td>PRETRIAL</td>\n",
              "      <td>Male</td>\n",
              "      <td>Caucasian</td>\n",
              "      <td>09/16/84</td>\n",
              "      <td>Risk and Prescreen</td>\n",
              "      <td>English</td>\n",
              "      <td>Pretrial</td>\n",
              "      <td>Jail Inmate</td>\n",
              "      <td>Married</td>\n",
              "      <td>1</td>\n",
              "      <td>Low</td>\n",
              "      <td>Risk of Recidivism</td>\n",
              "      <td>-1.50</td>\n",
              "      <td>1</td>\n",
              "      <td>Low</td>\n",
              "      <td>New</td>\n",
              "    </tr>\n",
              "  </tbody>\n",
              "</table>\n",
              "</div>\n",
              "      <button class=\"colab-df-convert\" onclick=\"convertToInteractive('df-8bd35043-5612-4fcf-b6aa-486e91e36746')\"\n",
              "              title=\"Convert this dataframe to an interactive table.\"\n",
              "              style=\"display:none;\">\n",
              "        \n",
              "  <svg xmlns=\"http://www.w3.org/2000/svg\" height=\"24px\"viewBox=\"0 0 24 24\"\n",
              "       width=\"24px\">\n",
              "    <path d=\"M0 0h24v24H0V0z\" fill=\"none\"/>\n",
              "    <path d=\"M18.56 5.44l.94 2.06.94-2.06 2.06-.94-2.06-.94-.94-2.06-.94 2.06-2.06.94zm-11 1L8.5 8.5l.94-2.06 2.06-.94-2.06-.94L8.5 2.5l-.94 2.06-2.06.94zm10 10l.94 2.06.94-2.06 2.06-.94-2.06-.94-.94-2.06-.94 2.06-2.06.94z\"/><path d=\"M17.41 7.96l-1.37-1.37c-.4-.4-.92-.59-1.43-.59-.52 0-1.04.2-1.43.59L10.3 9.45l-7.72 7.72c-.78.78-.78 2.05 0 2.83L4 21.41c.39.39.9.59 1.41.59.51 0 1.02-.2 1.41-.59l7.78-7.78 2.81-2.81c.8-.78.8-2.07 0-2.86zM5.41 20L4 18.59l7.72-7.72 1.47 1.35L5.41 20z\"/>\n",
              "  </svg>\n",
              "      </button>\n",
              "      \n",
              "  <style>\n",
              "    .colab-df-container {\n",
              "      display:flex;\n",
              "      flex-wrap:wrap;\n",
              "      gap: 12px;\n",
              "    }\n",
              "\n",
              "    .colab-df-convert {\n",
              "      background-color: #E8F0FE;\n",
              "      border: none;\n",
              "      border-radius: 50%;\n",
              "      cursor: pointer;\n",
              "      display: none;\n",
              "      fill: #1967D2;\n",
              "      height: 32px;\n",
              "      padding: 0 0 0 0;\n",
              "      width: 32px;\n",
              "    }\n",
              "\n",
              "    .colab-df-convert:hover {\n",
              "      background-color: #E2EBFA;\n",
              "      box-shadow: 0px 1px 2px rgba(60, 64, 67, 0.3), 0px 1px 3px 1px rgba(60, 64, 67, 0.15);\n",
              "      fill: #174EA6;\n",
              "    }\n",
              "\n",
              "    [theme=dark] .colab-df-convert {\n",
              "      background-color: #3B4455;\n",
              "      fill: #D2E3FC;\n",
              "    }\n",
              "\n",
              "    [theme=dark] .colab-df-convert:hover {\n",
              "      background-color: #434B5C;\n",
              "      box-shadow: 0px 1px 3px 1px rgba(0, 0, 0, 0.15);\n",
              "      filter: drop-shadow(0px 1px 2px rgba(0, 0, 0, 0.3));\n",
              "      fill: #FFFFFF;\n",
              "    }\n",
              "  </style>\n",
              "\n",
              "      <script>\n",
              "        const buttonEl =\n",
              "          document.querySelector('#df-8bd35043-5612-4fcf-b6aa-486e91e36746 button.colab-df-convert');\n",
              "        buttonEl.style.display =\n",
              "          google.colab.kernel.accessAllowed ? 'block' : 'none';\n",
              "\n",
              "        async function convertToInteractive(key) {\n",
              "          const element = document.querySelector('#df-8bd35043-5612-4fcf-b6aa-486e91e36746');\n",
              "          const dataTable =\n",
              "            await google.colab.kernel.invokeFunction('convertToInteractive',\n",
              "                                                     [key], {});\n",
              "          if (!dataTable) return;\n",
              "\n",
              "          const docLinkHtml = 'Like what you see? Visit the ' +\n",
              "            '<a target=\"_blank\" href=https://colab.research.google.com/notebooks/data_table.ipynb>data table notebook</a>'\n",
              "            + ' to learn more about interactive tables.';\n",
              "          element.innerHTML = '';\n",
              "          dataTable['output_type'] = 'display_data';\n",
              "          await google.colab.output.renderOutput(dataTable, element);\n",
              "          const docLink = document.createElement('div');\n",
              "          docLink.innerHTML = docLinkHtml;\n",
              "          element.appendChild(docLink);\n",
              "        }\n",
              "      </script>\n",
              "    </div>\n",
              "  </div>\n",
              "  "
            ]
          },
          "metadata": {},
          "execution_count": 23
        }
      ]
    },
    {
      "cell_type": "code",
      "execution_count": 24,
      "metadata": {
        "colab": {
          "base_uri": "https://localhost:8080/"
        },
        "id": "bPPgtPcXzVgC",
        "outputId": "86a2cbee-5a4c-41d8-ee47-50aa1c337192"
      },
      "outputs": [
        {
          "output_type": "execute_result",
          "data": {
            "text/plain": [
              "African-American    27018\n",
              "Caucasian           21783\n",
              "Hispanic             8742\n",
              "Other                2592\n",
              "Asian                 324\n",
              "Native American       219\n",
              "Arabic                 75\n",
              "African-Am             51\n",
              "Oriental               39\n",
              "Name: Ethnic_Code_Text, dtype: int64"
            ]
          },
          "metadata": {},
          "execution_count": 24
        }
      ],
      "source": [
        "#manage ethnic code text column:\n",
        "data1['Ethnic_Code_Text'].replace('African-Am','African-American')\n",
        "data1['Ethnic_Code_Text'].replace('Arabic','Arabic-Oriental')\n",
        "data1['Ethnic_Code_Text'].replace('Oriental','Arabic-Oriental')\n",
        "data1['Ethnic_Code_Text'].value_counts()"
      ]
    },
    {
      "cell_type": "code",
      "execution_count": 25,
      "metadata": {
        "id": "rct05rn-SFZP"
      },
      "outputs": [],
      "source": [
        "# drop nan values in \"ScoreText\" column\n",
        "data1 = data1.dropna(subset=[\"ScoreText\"])"
      ]
    },
    {
      "cell_type": "code",
      "source": [
        "# show correlation matrix \n",
        "heatmap_data = data1\n",
        "\n",
        "corr_matrix = heatmap_data.corr()\n",
        "\n",
        "fig, ax = plt.subplots()\n",
        "heatmap = sns.heatmap(corr_matrix, cmap='coolwarm', annot=True, fmt=\".2f\", cbar=True)\n",
        "plt.title('Correlation Heatmap')\n",
        "\n",
        "plt.show()"
      ],
      "metadata": {
        "colab": {
          "base_uri": "https://localhost:8080/",
          "height": 54
        },
        "id": "Nc5T6a6pOkIP",
        "outputId": "023b8274-80c4-4508-d49b-83ee649c6233"
      },
      "execution_count": 26,
      "outputs": [
        {
          "output_type": "display_data",
          "data": {
            "text/plain": [
              "<Figure size 800x550 with 2 Axes>"
            ],
            "image/png": "[encoded data removed]"
          },
          "metadata": {}
        }
      ]
    },
    {
      "cell_type": "markdown",
      "metadata": {
        "id": "hcFSlPtQwtIM"
      },
      "source": [
        "#### Auto ML using pycaret https://pycaret.org/"
      ]
    },
    {
      "cell_type": "markdown",
      "metadata": {
        "id": "-A8Ibovu98kU"
      },
      "source": [
        "###### Train test split"
      ]
    },
    {
      "cell_type": "code",
      "execution_count": 12,
      "metadata": {
        "id": "YzE_dQMq-Ih-"
      },
      "outputs": [],
      "source": [
        "# define features and target\n",
        "X = data1.drop([\"ScoreText\",\"DecileScore\"], axis = 1)\n",
        "y = data1[\"ScoreText\"]"
      ]
    },
    {
      "cell_type": "code",
      "execution_count": 13,
      "metadata": {
        "id": "l3EsVuAu-EC0"
      },
      "outputs": [],
      "source": [
        "# split data into train and test set with test size=33%\n",
        "X_train, X_test, y_train, y_test = train_test_split(X, y, test_size=0.33, random_state=42)"
      ]
    },
    {
      "cell_type": "markdown",
      "metadata": {
        "id": "Y4P6cMppynFW"
      },
      "source": [
        "###### Classification using pycaret"
      ]
    },
    {
      "cell_type": "code",
      "execution_count": 13,
      "metadata": {
        "colab": {
          "base_uri": "https://localhost:8080/",
          "height": 802
        },
        "id": "xKtP0SEex-uj",
        "outputId": "9d76ae2b-a21b-4258-a778-1e7b46b8d66a"
      },
      "outputs": [
        {
          "output_type": "display_data",
          "data": {
            "text/plain": [
              "<pandas.io.formats.style.Styler at 0x7fc51ca2c550>"
            ],
            "text/html": [
              "<style type=\"text/css\">\n",
              "#T_9ec0f_row11_col1 {\n",
              "  background-color: lightgreen;\n",
              "}\n",
              "</style>\n",
              "<table id=\"T_9ec0f\" class=\"dataframe\">\n",
              "  <thead>\n",
              "    <tr>\n",
              "      <th class=\"blank level0\" >&nbsp;</th>\n",
              "      <th id=\"T_9ec0f_level0_col0\" class=\"col_heading level0 col0\" >Description</th>\n",
              "      <th id=\"T_9ec0f_level0_col1\" class=\"col_heading level0 col1\" >Value</th>\n",
              "    </tr>\n",
              "  </thead>\n",
              "  <tbody>\n",
              "    <tr>\n",
              "      <th id=\"T_9ec0f_level0_row0\" class=\"row_heading level0 row0\" >0</th>\n",
              "      <td id=\"T_9ec0f_row0_col0\" class=\"data row0 col0\" >Session id</td>\n",
              "      <td id=\"T_9ec0f_row0_col1\" class=\"data row0 col1\" >123</td>\n",
              "    </tr>\n",
              "    <tr>\n",
              "      <th id=\"T_9ec0f_level0_row1\" class=\"row_heading level0 row1\" >1</th>\n",
              "      <td id=\"T_9ec0f_row1_col0\" class=\"data row1 col0\" >Target</td>\n",
              "      <td id=\"T_9ec0f_row1_col1\" class=\"data row1 col1\" >ScoreText</td>\n",
              "    </tr>\n",
              "    <tr>\n",
              "      <th id=\"T_9ec0f_level0_row2\" class=\"row_heading level0 row2\" >2</th>\n",
              "      <td id=\"T_9ec0f_row2_col0\" class=\"data row2 col0\" >Target type</td>\n",
              "      <td id=\"T_9ec0f_row2_col1\" class=\"data row2 col1\" >Multiclass</td>\n",
              "    </tr>\n",
              "    <tr>\n",
              "      <th id=\"T_9ec0f_level0_row3\" class=\"row_heading level0 row3\" >3</th>\n",
              "      <td id=\"T_9ec0f_row3_col0\" class=\"data row3 col0\" >Target mapping</td>\n",
              "      <td id=\"T_9ec0f_row3_col1\" class=\"data row3 col1\" >High: 0, Low: 1, Medium: 2</td>\n",
              "    </tr>\n",
              "    <tr>\n",
              "      <th id=\"T_9ec0f_level0_row4\" class=\"row_heading level0 row4\" >4</th>\n",
              "      <td id=\"T_9ec0f_row4_col0\" class=\"data row4 col0\" >Original data shape</td>\n",
              "      <td id=\"T_9ec0f_row4_col1\" class=\"data row4 col1\" >(40734, 15)</td>\n",
              "    </tr>\n",
              "    <tr>\n",
              "      <th id=\"T_9ec0f_level0_row5\" class=\"row_heading level0 row5\" >5</th>\n",
              "      <td id=\"T_9ec0f_row5_col0\" class=\"data row5 col0\" >Transformed data shape</td>\n",
              "      <td id=\"T_9ec0f_row5_col1\" class=\"data row5 col1\" >(40734, 48)</td>\n",
              "    </tr>\n",
              "    <tr>\n",
              "      <th id=\"T_9ec0f_level0_row6\" class=\"row_heading level0 row6\" >6</th>\n",
              "      <td id=\"T_9ec0f_row6_col0\" class=\"data row6 col0\" >Transformed train set shape</td>\n",
              "      <td id=\"T_9ec0f_row6_col1\" class=\"data row6 col1\" >(28513, 48)</td>\n",
              "    </tr>\n",
              "    <tr>\n",
              "      <th id=\"T_9ec0f_level0_row7\" class=\"row_heading level0 row7\" >7</th>\n",
              "      <td id=\"T_9ec0f_row7_col0\" class=\"data row7 col0\" >Transformed test set shape</td>\n",
              "      <td id=\"T_9ec0f_row7_col1\" class=\"data row7 col1\" >(12221, 48)</td>\n",
              "    </tr>\n",
              "    <tr>\n",
              "      <th id=\"T_9ec0f_level0_row8\" class=\"row_heading level0 row8\" >8</th>\n",
              "      <td id=\"T_9ec0f_row8_col0\" class=\"data row8 col0\" >Ordinal features</td>\n",
              "      <td id=\"T_9ec0f_row8_col1\" class=\"data row8 col1\" >4</td>\n",
              "    </tr>\n",
              "    <tr>\n",
              "      <th id=\"T_9ec0f_level0_row9\" class=\"row_heading level0 row9\" >9</th>\n",
              "      <td id=\"T_9ec0f_row9_col0\" class=\"data row9 col0\" >Numeric features</td>\n",
              "      <td id=\"T_9ec0f_row9_col1\" class=\"data row9 col1\" >2</td>\n",
              "    </tr>\n",
              "    <tr>\n",
              "      <th id=\"T_9ec0f_level0_row10\" class=\"row_heading level0 row10\" >10</th>\n",
              "      <td id=\"T_9ec0f_row10_col0\" class=\"data row10 col0\" >Categorical features</td>\n",
              "      <td id=\"T_9ec0f_row10_col1\" class=\"data row10 col1\" >12</td>\n",
              "    </tr>\n",
              "    <tr>\n",
              "      <th id=\"T_9ec0f_level0_row11\" class=\"row_heading level0 row11\" >11</th>\n",
              "      <td id=\"T_9ec0f_row11_col0\" class=\"data row11 col0\" >Preprocess</td>\n",
              "      <td id=\"T_9ec0f_row11_col1\" class=\"data row11 col1\" >True</td>\n",
              "    </tr>\n",
              "    <tr>\n",
              "      <th id=\"T_9ec0f_level0_row12\" class=\"row_heading level0 row12\" >12</th>\n",
              "      <td id=\"T_9ec0f_row12_col0\" class=\"data row12 col0\" >Imputation type</td>\n",
              "      <td id=\"T_9ec0f_row12_col1\" class=\"data row12 col1\" >simple</td>\n",
              "    </tr>\n",
              "    <tr>\n",
              "      <th id=\"T_9ec0f_level0_row13\" class=\"row_heading level0 row13\" >13</th>\n",
              "      <td id=\"T_9ec0f_row13_col0\" class=\"data row13 col0\" >Numeric imputation</td>\n",
              "      <td id=\"T_9ec0f_row13_col1\" class=\"data row13 col1\" >mean</td>\n",
              "    </tr>\n",
              "    <tr>\n",
              "      <th id=\"T_9ec0f_level0_row14\" class=\"row_heading level0 row14\" >14</th>\n",
              "      <td id=\"T_9ec0f_row14_col0\" class=\"data row14 col0\" >Categorical imputation</td>\n",
              "      <td id=\"T_9ec0f_row14_col1\" class=\"data row14 col1\" >mode</td>\n",
              "    </tr>\n",
              "    <tr>\n",
              "      <th id=\"T_9ec0f_level0_row15\" class=\"row_heading level0 row15\" >15</th>\n",
              "      <td id=\"T_9ec0f_row15_col0\" class=\"data row15 col0\" >Maximum one-hot encoding</td>\n",
              "      <td id=\"T_9ec0f_row15_col1\" class=\"data row15 col1\" >25</td>\n",
              "    </tr>\n",
              "    <tr>\n",
              "      <th id=\"T_9ec0f_level0_row16\" class=\"row_heading level0 row16\" >16</th>\n",
              "      <td id=\"T_9ec0f_row16_col0\" class=\"data row16 col0\" >Encoding method</td>\n",
              "      <td id=\"T_9ec0f_row16_col1\" class=\"data row16 col1\" >None</td>\n",
              "    </tr>\n",
              "    <tr>\n",
              "      <th id=\"T_9ec0f_level0_row17\" class=\"row_heading level0 row17\" >17</th>\n",
              "      <td id=\"T_9ec0f_row17_col0\" class=\"data row17 col0\" >Fold Generator</td>\n",
              "      <td id=\"T_9ec0f_row17_col1\" class=\"data row17 col1\" >StratifiedKFold</td>\n",
              "    </tr>\n",
              "    <tr>\n",
              "      <th id=\"T_9ec0f_level0_row18\" class=\"row_heading level0 row18\" >18</th>\n",
              "      <td id=\"T_9ec0f_row18_col0\" class=\"data row18 col0\" >Fold Number</td>\n",
              "      <td id=\"T_9ec0f_row18_col1\" class=\"data row18 col1\" >10</td>\n",
              "    </tr>\n",
              "    <tr>\n",
              "      <th id=\"T_9ec0f_level0_row19\" class=\"row_heading level0 row19\" >19</th>\n",
              "      <td id=\"T_9ec0f_row19_col0\" class=\"data row19 col0\" >CPU Jobs</td>\n",
              "      <td id=\"T_9ec0f_row19_col1\" class=\"data row19 col1\" >-1</td>\n",
              "    </tr>\n",
              "    <tr>\n",
              "      <th id=\"T_9ec0f_level0_row20\" class=\"row_heading level0 row20\" >20</th>\n",
              "      <td id=\"T_9ec0f_row20_col0\" class=\"data row20 col0\" >Use GPU</td>\n",
              "      <td id=\"T_9ec0f_row20_col1\" class=\"data row20 col1\" >False</td>\n",
              "    </tr>\n",
              "    <tr>\n",
              "      <th id=\"T_9ec0f_level0_row21\" class=\"row_heading level0 row21\" >21</th>\n",
              "      <td id=\"T_9ec0f_row21_col0\" class=\"data row21 col0\" >Log Experiment</td>\n",
              "      <td id=\"T_9ec0f_row21_col1\" class=\"data row21 col1\" >False</td>\n",
              "    </tr>\n",
              "    <tr>\n",
              "      <th id=\"T_9ec0f_level0_row22\" class=\"row_heading level0 row22\" >22</th>\n",
              "      <td id=\"T_9ec0f_row22_col0\" class=\"data row22 col0\" >Experiment Name</td>\n",
              "      <td id=\"T_9ec0f_row22_col1\" class=\"data row22 col1\" >clf-default-name</td>\n",
              "    </tr>\n",
              "    <tr>\n",
              "      <th id=\"T_9ec0f_level0_row23\" class=\"row_heading level0 row23\" >23</th>\n",
              "      <td id=\"T_9ec0f_row23_col0\" class=\"data row23 col0\" >USI</td>\n",
              "      <td id=\"T_9ec0f_row23_col1\" class=\"data row23 col1\" >d6ad</td>\n",
              "    </tr>\n",
              "  </tbody>\n",
              "</table>\n"
            ]
          },
          "metadata": {}
        }
      ],
      "source": [
        "s = setup(data= X_train, target = y_train, session_id = 123)"
      ]
    },
    {
      "cell_type": "code",
      "execution_count": 14,
      "metadata": {
        "colab": {
          "base_uri": "https://localhost:8080/",
          "height": 520,
          "referenced_widgets": [
            "8fb5322c07a74197be3c212e82354580",
            "6ee9de578ff947a4989be447142283e9",
            "61133aa6d6b54c188e0d64ab614451bc",
            "8cbf2747a9cb4d1f9aca2b02db0c6d45",
            "5ff6b6f498ec4cf1be0b713ac335384b",
            "78d4ae67ac7e4877b4d3173e5fc4c936",
            "0f50bc913c8840069210cec32286b15b",
            "5365c57e711f4e349c0b7bd1df00255f",
            "bb8a086ddb414c39bf78851ced3d9348",
            "7e41a05b9cb9467b8ee3d216a2e4e454",
            "9d45821f3de94bcebb3a2c73831f2540"
          ]
        },
        "id": "AZdqLQnOQ7ZH",
        "outputId": "d446f7ed-a544-4148-dfc0-145486f3b7e0"
      },
      "outputs": [
        {
          "output_type": "display_data",
          "data": {
            "text/plain": [
              "<IPython.core.display.HTML object>"
            ],
            "text/html": []
          },
          "metadata": {}
        },
        {
          "output_type": "display_data",
          "data": {
            "text/plain": [
              "<pandas.io.formats.style.Styler at 0x7fc51caec0a0>"
            ],
            "text/html": [
              "<style type=\"text/css\">\n",
              "#T_0fce8 th {\n",
              "  text-align: left;\n",
              "}\n",
              "#T_0fce8_row0_col0, #T_0fce8_row1_col0, #T_0fce8_row1_col1, #T_0fce8_row1_col2, #T_0fce8_row1_col3, #T_0fce8_row1_col4, #T_0fce8_row1_col5, #T_0fce8_row1_col6, #T_0fce8_row1_col7, #T_0fce8_row2_col0, #T_0fce8_row2_col1, #T_0fce8_row2_col2, #T_0fce8_row2_col3, #T_0fce8_row2_col4, #T_0fce8_row2_col5, #T_0fce8_row2_col6, #T_0fce8_row2_col7, #T_0fce8_row3_col0, #T_0fce8_row3_col1, #T_0fce8_row3_col2, #T_0fce8_row3_col3, #T_0fce8_row3_col4, #T_0fce8_row3_col5, #T_0fce8_row3_col6, #T_0fce8_row3_col7, #T_0fce8_row4_col0, #T_0fce8_row4_col1, #T_0fce8_row4_col2, #T_0fce8_row4_col3, #T_0fce8_row4_col4, #T_0fce8_row4_col5, #T_0fce8_row4_col6, #T_0fce8_row4_col7, #T_0fce8_row5_col0, #T_0fce8_row5_col1, #T_0fce8_row5_col2, #T_0fce8_row5_col3, #T_0fce8_row5_col4, #T_0fce8_row5_col5, #T_0fce8_row5_col6, #T_0fce8_row5_col7, #T_0fce8_row6_col0, #T_0fce8_row6_col1, #T_0fce8_row6_col2, #T_0fce8_row6_col3, #T_0fce8_row6_col4, #T_0fce8_row6_col5, #T_0fce8_row6_col6, #T_0fce8_row6_col7, #T_0fce8_row7_col0, #T_0fce8_row7_col1, #T_0fce8_row7_col2, #T_0fce8_row7_col3, #T_0fce8_row7_col4, #T_0fce8_row7_col5, #T_0fce8_row7_col6, #T_0fce8_row7_col7, #T_0fce8_row8_col0, #T_0fce8_row8_col1, #T_0fce8_row8_col2, #T_0fce8_row8_col3, #T_0fce8_row8_col4, #T_0fce8_row8_col5, #T_0fce8_row8_col6, #T_0fce8_row8_col7, #T_0fce8_row9_col0, #T_0fce8_row9_col1, #T_0fce8_row9_col2, #T_0fce8_row9_col3, #T_0fce8_row9_col4, #T_0fce8_row9_col5, #T_0fce8_row9_col6, #T_0fce8_row9_col7, #T_0fce8_row10_col0, #T_0fce8_row10_col1, #T_0fce8_row10_col2, #T_0fce8_row10_col3, #T_0fce8_row10_col4, #T_0fce8_row10_col5, #T_0fce8_row10_col6, #T_0fce8_row10_col7, #T_0fce8_row11_col0, #T_0fce8_row11_col1, #T_0fce8_row11_col2, #T_0fce8_row11_col3, #T_0fce8_row11_col4, #T_0fce8_row11_col5, #T_0fce8_row11_col6, #T_0fce8_row11_col7, #T_0fce8_row12_col0, #T_0fce8_row12_col1, #T_0fce8_row12_col2, #T_0fce8_row12_col3, #T_0fce8_row12_col4, #T_0fce8_row12_col5, #T_0fce8_row12_col6, #T_0fce8_row12_col7, #T_0fce8_row13_col0, #T_0fce8_row13_col1, #T_0fce8_row13_col2, #T_0fce8_row13_col3, #T_0fce8_row13_col4, #T_0fce8_row13_col5, #T_0fce8_row13_col6, #T_0fce8_row13_col7, #T_0fce8_row14_col0, #T_0fce8_row14_col1, #T_0fce8_row14_col2, #T_0fce8_row14_col3, #T_0fce8_row14_col4, #T_0fce8_row14_col5, #T_0fce8_row14_col6, #T_0fce8_row14_col7 {\n",
              "  text-align: left;\n",
              "}\n",
              "#T_0fce8_row0_col1, #T_0fce8_row0_col2, #T_0fce8_row0_col3, #T_0fce8_row0_col4, #T_0fce8_row0_col5, #T_0fce8_row0_col6, #T_0fce8_row0_col7 {\n",
              "  text-align: left;\n",
              "  background-color: yellow;\n",
              "}\n",
              "#T_0fce8_row0_col8, #T_0fce8_row1_col8, #T_0fce8_row2_col8, #T_0fce8_row3_col8, #T_0fce8_row4_col8, #T_0fce8_row5_col8, #T_0fce8_row6_col8, #T_0fce8_row7_col8, #T_0fce8_row8_col8, #T_0fce8_row9_col8, #T_0fce8_row10_col8, #T_0fce8_row11_col8, #T_0fce8_row13_col8, #T_0fce8_row14_col8 {\n",
              "  text-align: left;\n",
              "  background-color: lightgrey;\n",
              "}\n",
              "#T_0fce8_row12_col8 {\n",
              "  text-align: left;\n",
              "  background-color: yellow;\n",
              "  background-color: lightgrey;\n",
              "}\n",
              "</style>\n",
              "<table id=\"T_0fce8\" class=\"dataframe\">\n",
              "  <thead>\n",
              "    <tr>\n",
              "      <th class=\"blank level0\" >&nbsp;</th>\n",
              "      <th id=\"T_0fce8_level0_col0\" class=\"col_heading level0 col0\" >Model</th>\n",
              "      <th id=\"T_0fce8_level0_col1\" class=\"col_heading level0 col1\" >Accuracy</th>\n",
              "      <th id=\"T_0fce8_level0_col2\" class=\"col_heading level0 col2\" >AUC</th>\n",
              "      <th id=\"T_0fce8_level0_col3\" class=\"col_heading level0 col3\" >Recall</th>\n",
              "      <th id=\"T_0fce8_level0_col4\" class=\"col_heading level0 col4\" >Prec.</th>\n",
              "      <th id=\"T_0fce8_level0_col5\" class=\"col_heading level0 col5\" >F1</th>\n",
              "      <th id=\"T_0fce8_level0_col6\" class=\"col_heading level0 col6\" >Kappa</th>\n",
              "      <th id=\"T_0fce8_level0_col7\" class=\"col_heading level0 col7\" >MCC</th>\n",
              "      <th id=\"T_0fce8_level0_col8\" class=\"col_heading level0 col8\" >TT (Sec)</th>\n",
              "    </tr>\n",
              "  </thead>\n",
              "  <tbody>\n",
              "    <tr>\n",
              "      <th id=\"T_0fce8_level0_row0\" class=\"row_heading level0 row0\" >xgboost</th>\n",
              "      <td id=\"T_0fce8_row0_col0\" class=\"data row0 col0\" >Extreme Gradient Boosting</td>\n",
              "      <td id=\"T_0fce8_row0_col1\" class=\"data row0 col1\" >0.9973</td>\n",
              "      <td id=\"T_0fce8_row0_col2\" class=\"data row0 col2\" >1.0000</td>\n",
              "      <td id=\"T_0fce8_row0_col3\" class=\"data row0 col3\" >0.9973</td>\n",
              "      <td id=\"T_0fce8_row0_col4\" class=\"data row0 col4\" >0.9973</td>\n",
              "      <td id=\"T_0fce8_row0_col5\" class=\"data row0 col5\" >0.9973</td>\n",
              "      <td id=\"T_0fce8_row0_col6\" class=\"data row0 col6\" >0.9943</td>\n",
              "      <td id=\"T_0fce8_row0_col7\" class=\"data row0 col7\" >0.9943</td>\n",
              "      <td id=\"T_0fce8_row0_col8\" class=\"data row0 col8\" >19.3780</td>\n",
              "    </tr>\n",
              "    <tr>\n",
              "      <th id=\"T_0fce8_level0_row1\" class=\"row_heading level0 row1\" >gbc</th>\n",
              "      <td id=\"T_0fce8_row1_col0\" class=\"data row1 col0\" >Gradient Boosting Classifier</td>\n",
              "      <td id=\"T_0fce8_row1_col1\" class=\"data row1 col1\" >0.9955</td>\n",
              "      <td id=\"T_0fce8_row1_col2\" class=\"data row1 col2\" >0.9999</td>\n",
              "      <td id=\"T_0fce8_row1_col3\" class=\"data row1 col3\" >0.9955</td>\n",
              "      <td id=\"T_0fce8_row1_col4\" class=\"data row1 col4\" >0.9956</td>\n",
              "      <td id=\"T_0fce8_row1_col5\" class=\"data row1 col5\" >0.9956</td>\n",
              "      <td id=\"T_0fce8_row1_col6\" class=\"data row1 col6\" >0.9907</td>\n",
              "      <td id=\"T_0fce8_row1_col7\" class=\"data row1 col7\" >0.9907</td>\n",
              "      <td id=\"T_0fce8_row1_col8\" class=\"data row1 col8\" >13.0090</td>\n",
              "    </tr>\n",
              "    <tr>\n",
              "      <th id=\"T_0fce8_level0_row2\" class=\"row_heading level0 row2\" >lightgbm</th>\n",
              "      <td id=\"T_0fce8_row2_col0\" class=\"data row2 col0\" >Light Gradient Boosting Machine</td>\n",
              "      <td id=\"T_0fce8_row2_col1\" class=\"data row2 col1\" >0.9950</td>\n",
              "      <td id=\"T_0fce8_row2_col2\" class=\"data row2 col2\" >0.9999</td>\n",
              "      <td id=\"T_0fce8_row2_col3\" class=\"data row2 col3\" >0.9950</td>\n",
              "      <td id=\"T_0fce8_row2_col4\" class=\"data row2 col4\" >0.9951</td>\n",
              "      <td id=\"T_0fce8_row2_col5\" class=\"data row2 col5\" >0.9950</td>\n",
              "      <td id=\"T_0fce8_row2_col6\" class=\"data row2 col6\" >0.9896</td>\n",
              "      <td id=\"T_0fce8_row2_col7\" class=\"data row2 col7\" >0.9896</td>\n",
              "      <td id=\"T_0fce8_row2_col8\" class=\"data row2 col8\" >2.8730</td>\n",
              "    </tr>\n",
              "    <tr>\n",
              "      <th id=\"T_0fce8_level0_row3\" class=\"row_heading level0 row3\" >dt</th>\n",
              "      <td id=\"T_0fce8_row3_col0\" class=\"data row3 col0\" >Decision Tree Classifier</td>\n",
              "      <td id=\"T_0fce8_row3_col1\" class=\"data row3 col1\" >0.9930</td>\n",
              "      <td id=\"T_0fce8_row3_col2\" class=\"data row3 col2\" >0.9937</td>\n",
              "      <td id=\"T_0fce8_row3_col3\" class=\"data row3 col3\" >0.9930</td>\n",
              "      <td id=\"T_0fce8_row3_col4\" class=\"data row3 col4\" >0.9930</td>\n",
              "      <td id=\"T_0fce8_row3_col5\" class=\"data row3 col5\" >0.9929</td>\n",
              "      <td id=\"T_0fce8_row3_col6\" class=\"data row3 col6\" >0.9853</td>\n",
              "      <td id=\"T_0fce8_row3_col7\" class=\"data row3 col7\" >0.9853</td>\n",
              "      <td id=\"T_0fce8_row3_col8\" class=\"data row3 col8\" >1.2820</td>\n",
              "    </tr>\n",
              "    <tr>\n",
              "      <th id=\"T_0fce8_level0_row4\" class=\"row_heading level0 row4\" >rf</th>\n",
              "      <td id=\"T_0fce8_row4_col0\" class=\"data row4 col0\" >Random Forest Classifier</td>\n",
              "      <td id=\"T_0fce8_row4_col1\" class=\"data row4 col1\" >0.9797</td>\n",
              "      <td id=\"T_0fce8_row4_col2\" class=\"data row4 col2\" >0.9989</td>\n",
              "      <td id=\"T_0fce8_row4_col3\" class=\"data row4 col3\" >0.9797</td>\n",
              "      <td id=\"T_0fce8_row4_col4\" class=\"data row4 col4\" >0.9797</td>\n",
              "      <td id=\"T_0fce8_row4_col5\" class=\"data row4 col5\" >0.9797</td>\n",
              "      <td id=\"T_0fce8_row4_col6\" class=\"data row4 col6\" >0.9575</td>\n",
              "      <td id=\"T_0fce8_row4_col7\" class=\"data row4 col7\" >0.9576</td>\n",
              "      <td id=\"T_0fce8_row4_col8\" class=\"data row4 col8\" >3.6970</td>\n",
              "    </tr>\n",
              "    <tr>\n",
              "      <th id=\"T_0fce8_level0_row5\" class=\"row_heading level0 row5\" >knn</th>\n",
              "      <td id=\"T_0fce8_row5_col0\" class=\"data row5 col0\" >K Neighbors Classifier</td>\n",
              "      <td id=\"T_0fce8_row5_col1\" class=\"data row5 col1\" >0.9708</td>\n",
              "      <td id=\"T_0fce8_row5_col2\" class=\"data row5 col2\" >0.9928</td>\n",
              "      <td id=\"T_0fce8_row5_col3\" class=\"data row5 col3\" >0.9708</td>\n",
              "      <td id=\"T_0fce8_row5_col4\" class=\"data row5 col4\" >0.9706</td>\n",
              "      <td id=\"T_0fce8_row5_col5\" class=\"data row5 col5\" >0.9706</td>\n",
              "      <td id=\"T_0fce8_row5_col6\" class=\"data row5 col6\" >0.9387</td>\n",
              "      <td id=\"T_0fce8_row5_col7\" class=\"data row5 col7\" >0.9388</td>\n",
              "      <td id=\"T_0fce8_row5_col8\" class=\"data row5 col8\" >2.6070</td>\n",
              "    </tr>\n",
              "    <tr>\n",
              "      <th id=\"T_0fce8_level0_row6\" class=\"row_heading level0 row6\" >et</th>\n",
              "      <td id=\"T_0fce8_row6_col0\" class=\"data row6 col0\" >Extra Trees Classifier</td>\n",
              "      <td id=\"T_0fce8_row6_col1\" class=\"data row6 col1\" >0.9359</td>\n",
              "      <td id=\"T_0fce8_row6_col2\" class=\"data row6 col2\" >0.9913</td>\n",
              "      <td id=\"T_0fce8_row6_col3\" class=\"data row6 col3\" >0.9359</td>\n",
              "      <td id=\"T_0fce8_row6_col4\" class=\"data row6 col4\" >0.9346</td>\n",
              "      <td id=\"T_0fce8_row6_col5\" class=\"data row6 col5\" >0.9347</td>\n",
              "      <td id=\"T_0fce8_row6_col6\" class=\"data row6 col6\" >0.8635</td>\n",
              "      <td id=\"T_0fce8_row6_col7\" class=\"data row6 col7\" >0.8644</td>\n",
              "      <td id=\"T_0fce8_row6_col8\" class=\"data row6 col8\" >4.4080</td>\n",
              "    </tr>\n",
              "    <tr>\n",
              "      <th id=\"T_0fce8_level0_row7\" class=\"row_heading level0 row7\" >lr</th>\n",
              "      <td id=\"T_0fce8_row7_col0\" class=\"data row7 col0\" >Logistic Regression</td>\n",
              "      <td id=\"T_0fce8_row7_col1\" class=\"data row7 col1\" >0.8917</td>\n",
              "      <td id=\"T_0fce8_row7_col2\" class=\"data row7 col2\" >0.9749</td>\n",
              "      <td id=\"T_0fce8_row7_col3\" class=\"data row7 col3\" >0.8917</td>\n",
              "      <td id=\"T_0fce8_row7_col4\" class=\"data row7 col4\" >0.8873</td>\n",
              "      <td id=\"T_0fce8_row7_col5\" class=\"data row7 col5\" >0.8883</td>\n",
              "      <td id=\"T_0fce8_row7_col6\" class=\"data row7 col6\" >0.7662</td>\n",
              "      <td id=\"T_0fce8_row7_col7\" class=\"data row7 col7\" >0.7683</td>\n",
              "      <td id=\"T_0fce8_row7_col8\" class=\"data row7 col8\" >11.2130</td>\n",
              "    </tr>\n",
              "    <tr>\n",
              "      <th id=\"T_0fce8_level0_row8\" class=\"row_heading level0 row8\" >svm</th>\n",
              "      <td id=\"T_0fce8_row8_col0\" class=\"data row8 col0\" >SVM - Linear Kernel</td>\n",
              "      <td id=\"T_0fce8_row8_col1\" class=\"data row8 col1\" >0.8691</td>\n",
              "      <td id=\"T_0fce8_row8_col2\" class=\"data row8 col2\" >0.0000</td>\n",
              "      <td id=\"T_0fce8_row8_col3\" class=\"data row8 col3\" >0.8691</td>\n",
              "      <td id=\"T_0fce8_row8_col4\" class=\"data row8 col4\" >0.8626</td>\n",
              "      <td id=\"T_0fce8_row8_col5\" class=\"data row8 col5\" >0.8617</td>\n",
              "      <td id=\"T_0fce8_row8_col6\" class=\"data row8 col6\" >0.7134</td>\n",
              "      <td id=\"T_0fce8_row8_col7\" class=\"data row8 col7\" >0.7189</td>\n",
              "      <td id=\"T_0fce8_row8_col8\" class=\"data row8 col8\" >2.0260</td>\n",
              "    </tr>\n",
              "    <tr>\n",
              "      <th id=\"T_0fce8_level0_row9\" class=\"row_heading level0 row9\" >ada</th>\n",
              "      <td id=\"T_0fce8_row9_col0\" class=\"data row9 col0\" >Ada Boost Classifier</td>\n",
              "      <td id=\"T_0fce8_row9_col1\" class=\"data row9 col1\" >0.8367</td>\n",
              "      <td id=\"T_0fce8_row9_col2\" class=\"data row9 col2\" >0.9523</td>\n",
              "      <td id=\"T_0fce8_row9_col3\" class=\"data row9 col3\" >0.8367</td>\n",
              "      <td id=\"T_0fce8_row9_col4\" class=\"data row9 col4\" >0.8455</td>\n",
              "      <td id=\"T_0fce8_row9_col5\" class=\"data row9 col5\" >0.8392</td>\n",
              "      <td id=\"T_0fce8_row9_col6\" class=\"data row9 col6\" >0.6572</td>\n",
              "      <td id=\"T_0fce8_row9_col7\" class=\"data row9 col7\" >0.6581</td>\n",
              "      <td id=\"T_0fce8_row9_col8\" class=\"data row9 col8\" >2.2680</td>\n",
              "    </tr>\n",
              "    <tr>\n",
              "      <th id=\"T_0fce8_level0_row10\" class=\"row_heading level0 row10\" >lda</th>\n",
              "      <td id=\"T_0fce8_row10_col0\" class=\"data row10 col0\" >Linear Discriminant Analysis</td>\n",
              "      <td id=\"T_0fce8_row10_col1\" class=\"data row10 col1\" >0.7924</td>\n",
              "      <td id=\"T_0fce8_row10_col2\" class=\"data row10 col2\" >0.8992</td>\n",
              "      <td id=\"T_0fce8_row10_col3\" class=\"data row10 col3\" >0.7924</td>\n",
              "      <td id=\"T_0fce8_row10_col4\" class=\"data row10 col4\" >0.7895</td>\n",
              "      <td id=\"T_0fce8_row10_col5\" class=\"data row10 col5\" >0.7905</td>\n",
              "      <td id=\"T_0fce8_row10_col6\" class=\"data row10 col6\" >0.5652</td>\n",
              "      <td id=\"T_0fce8_row10_col7\" class=\"data row10 col7\" >0.5656</td>\n",
              "      <td id=\"T_0fce8_row10_col8\" class=\"data row10 col8\" >0.9980</td>\n",
              "    </tr>\n",
              "    <tr>\n",
              "      <th id=\"T_0fce8_level0_row11\" class=\"row_heading level0 row11\" >ridge</th>\n",
              "      <td id=\"T_0fce8_row11_col0\" class=\"data row11 col0\" >Ridge Classifier</td>\n",
              "      <td id=\"T_0fce8_row11_col1\" class=\"data row11 col1\" >0.7888</td>\n",
              "      <td id=\"T_0fce8_row11_col2\" class=\"data row11 col2\" >0.0000</td>\n",
              "      <td id=\"T_0fce8_row11_col3\" class=\"data row11 col3\" >0.7888</td>\n",
              "      <td id=\"T_0fce8_row11_col4\" class=\"data row11 col4\" >0.7719</td>\n",
              "      <td id=\"T_0fce8_row11_col5\" class=\"data row11 col5\" >0.7777</td>\n",
              "      <td id=\"T_0fce8_row11_col6\" class=\"data row11 col6\" >0.5334</td>\n",
              "      <td id=\"T_0fce8_row11_col7\" class=\"data row11 col7\" >0.5377</td>\n",
              "      <td id=\"T_0fce8_row11_col8\" class=\"data row11 col8\" >1.0650</td>\n",
              "    </tr>\n",
              "    <tr>\n",
              "      <th id=\"T_0fce8_level0_row12\" class=\"row_heading level0 row12\" >dummy</th>\n",
              "      <td id=\"T_0fce8_row12_col0\" class=\"data row12 col0\" >Dummy Classifier</td>\n",
              "      <td id=\"T_0fce8_row12_col1\" class=\"data row12 col1\" >0.6824</td>\n",
              "      <td id=\"T_0fce8_row12_col2\" class=\"data row12 col2\" >0.5000</td>\n",
              "      <td id=\"T_0fce8_row12_col3\" class=\"data row12 col3\" >0.6824</td>\n",
              "      <td id=\"T_0fce8_row12_col4\" class=\"data row12 col4\" >0.4657</td>\n",
              "      <td id=\"T_0fce8_row12_col5\" class=\"data row12 col5\" >0.5536</td>\n",
              "      <td id=\"T_0fce8_row12_col6\" class=\"data row12 col6\" >0.0000</td>\n",
              "      <td id=\"T_0fce8_row12_col7\" class=\"data row12 col7\" >0.0000</td>\n",
              "      <td id=\"T_0fce8_row12_col8\" class=\"data row12 col8\" >0.8750</td>\n",
              "    </tr>\n",
              "    <tr>\n",
              "      <th id=\"T_0fce8_level0_row13\" class=\"row_heading level0 row13\" >nb</th>\n",
              "      <td id=\"T_0fce8_row13_col0\" class=\"data row13 col0\" >Naive Bayes</td>\n",
              "      <td id=\"T_0fce8_row13_col1\" class=\"data row13 col1\" >0.6246</td>\n",
              "      <td id=\"T_0fce8_row13_col2\" class=\"data row13 col2\" >0.7983</td>\n",
              "      <td id=\"T_0fce8_row13_col3\" class=\"data row13 col3\" >0.6246</td>\n",
              "      <td id=\"T_0fce8_row13_col4\" class=\"data row13 col4\" >0.7381</td>\n",
              "      <td id=\"T_0fce8_row13_col5\" class=\"data row13 col5\" >0.6479</td>\n",
              "      <td id=\"T_0fce8_row13_col6\" class=\"data row13 col6\" >0.3681</td>\n",
              "      <td id=\"T_0fce8_row13_col7\" class=\"data row13 col7\" >0.3965</td>\n",
              "      <td id=\"T_0fce8_row13_col8\" class=\"data row13 col8\" >1.1820</td>\n",
              "    </tr>\n",
              "    <tr>\n",
              "      <th id=\"T_0fce8_level0_row14\" class=\"row_heading level0 row14\" >qda</th>\n",
              "      <td id=\"T_0fce8_row14_col0\" class=\"data row14 col0\" >Quadratic Discriminant Analysis</td>\n",
              "      <td id=\"T_0fce8_row14_col1\" class=\"data row14 col1\" >0.2374</td>\n",
              "      <td id=\"T_0fce8_row14_col2\" class=\"data row14 col2\" >0.7795</td>\n",
              "      <td id=\"T_0fce8_row14_col3\" class=\"data row14 col3\" >0.2374</td>\n",
              "      <td id=\"T_0fce8_row14_col4\" class=\"data row14 col4\" >0.7430</td>\n",
              "      <td id=\"T_0fce8_row14_col5\" class=\"data row14 col5\" >0.2116</td>\n",
              "      <td id=\"T_0fce8_row14_col6\" class=\"data row14 col6\" >0.0629</td>\n",
              "      <td id=\"T_0fce8_row14_col7\" class=\"data row14 col7\" >0.1314</td>\n",
              "      <td id=\"T_0fce8_row14_col8\" class=\"data row14 col8\" >1.0390</td>\n",
              "    </tr>\n",
              "  </tbody>\n",
              "</table>\n"
            ]
          },
          "metadata": {}
        },
        {
          "output_type": "display_data",
          "data": {
            "text/plain": [
              "Processing:   0%|          | 0/65 [00:00<?, ?it/s]"
            ],
            "application/vnd.jupyter.widget-view+json": {
              "version_major": 2,
              "version_minor": 0,
              "model_id": "8fb5322c07a74197be3c212e82354580"
            }
          },
          "metadata": {
            "application/vnd.jupyter.widget-view+json": {
              "colab": {
                "custom_widget_manager": {
                  "url": "https://ssl.gstatic.com/colaboratory-static/widgets/colab-cdn-widget-manager/b3e629b1971e1542/manager.min.js"
                }
              }
            }
          }
        },
        {
          "output_type": "display_data",
          "data": {
            "text/plain": [
              "<IPython.core.display.HTML object>"
            ],
            "text/html": []
          },
          "metadata": {}
        }
      ],
      "source": [
        "# functional API\n",
        "best = compare_models()"
      ]
    },
    {
      "cell_type": "code",
      "execution_count": 15,
      "metadata": {
        "colab": {
          "base_uri": "https://localhost:8080/",
          "height": 551
        },
        "id": "Qq3glqEJ_S1l",
        "outputId": "8477f32f-5a8e-4be0-dfdc-7c16831a22a2"
      },
      "outputs": [
        {
          "output_type": "display_data",
          "data": {
            "text/plain": [
              "<IPython.core.display.HTML object>"
            ],
            "text/html": []
          },
          "metadata": {}
        },
        {
          "output_type": "display_data",
          "data": {
            "text/plain": [
              "<Figure size 800x550 with 1 Axes>"
            ],
            "image/png": "[encoded data removed]"
          },
          "metadata": {}
        }
      ],
      "source": [
        "# functional API\n",
        "plot_model(best, plot = 'confusion_matrix')"
      ]
    },
    {
      "cell_type": "markdown",
      "source": [
        "###### Explane results using shap"
      ],
      "metadata": {
        "id": "orIZu99EzeXx"
      }
    },
    {
      "cell_type": "code",
      "source": [
        "best_model = automl(optimize='Accuracy')#.best_model"
      ],
      "metadata": {
        "colab": {
          "base_uri": "https://localhost:8080/",
          "height": 167
        },
        "id": "hrh0QNCdzdhZ",
        "outputId": "995bce23-f245-4f1b-8678-db4b0a84bf30"
      },
      "execution_count": 2,
      "outputs": [
        {
          "output_type": "error",
          "ename": "NameError",
          "evalue": "ignored",
          "traceback": [
            "\u001b[0;31m---------------------------------------------------------------------------\u001b[0m",
            "\u001b[0;31mNameError\u001b[0m                                 Traceback (most recent call last)",
            "\u001b[0;32m<ipython-input-2-f3c3bfe5587a>\u001b[0m in \u001b[0;36m<cell line: 1>\u001b[0;34m()\u001b[0m\n\u001b[0;32m----> 1\u001b[0;31m \u001b[0mbest_model\u001b[0m \u001b[0;34m=\u001b[0m \u001b[0mautoml\u001b[0m\u001b[0;34m(\u001b[0m\u001b[0moptimize\u001b[0m\u001b[0;34m=\u001b[0m\u001b[0;34m'Accuracy'\u001b[0m\u001b[0;34m)\u001b[0m\u001b[0;31m#.best_model\u001b[0m\u001b[0;34m\u001b[0m\u001b[0;34m\u001b[0m\u001b[0m\n\u001b[0m",
            "\u001b[0;31mNameError\u001b[0m: name 'automl' is not defined"
          ]
        }
      ]
    },
    {
      "cell_type": "code",
      "source": [
        "explainer_best_model = shap.Explainer(best_model,x_train)"
      ],
      "metadata": {
        "id": "nc3uYiZi4lbs"
      },
      "execution_count": 29,
      "outputs": []
    },
    {
      "cell_type": "code",
      "source": [
        "shap_values = explainer_best_model.shap_values(x_train,check_additivity=False )"
      ],
      "metadata": {
        "colab": {
          "base_uri": "https://localhost:8080/"
        },
        "outputId": "9d3738ea-3a30-42a8-d4ed-67b7058ad904",
        "id": "gzxTH48P4lbw"
      },
      "execution_count": 30,
      "outputs": [
        {
          "output_type": "stream",
          "name": "stderr",
          "text": [
            "100%|===================| 122028/122202 [09:16<00:00]       "
          ]
        }
      ]
    },
    {
      "cell_type": "code",
      "source": [
        "shap.summary_plot(shap_values, x_train)#, feature_names=X_train.feature_names)"
      ],
      "metadata": {
        "colab": {
          "base_uri": "https://localhost:8080/",
          "height": 167
        },
        "outputId": "c58588bc-f394-48d7-e39a-46889014e09f",
        "id": "Sm858zkv4lb0"
      },
      "execution_count": 14,
      "outputs": [
        {
          "output_type": "error",
          "ename": "NameError",
          "evalue": "ignored",
          "traceback": [
            "\u001b[0;31m---------------------------------------------------------------------------\u001b[0m",
            "\u001b[0;31mNameError\u001b[0m                                 Traceback (most recent call last)",
            "\u001b[0;32m<ipython-input-14-3a556fc889a4>\u001b[0m in \u001b[0;36m<cell line: 1>\u001b[0;34m()\u001b[0m\n\u001b[0;32m----> 1\u001b[0;31m \u001b[0mshap\u001b[0m\u001b[0;34m.\u001b[0m\u001b[0msummary_plot\u001b[0m\u001b[0;34m(\u001b[0m\u001b[0mshap_values\u001b[0m\u001b[0;34m,\u001b[0m \u001b[0mx_train\u001b[0m\u001b[0;34m)\u001b[0m\u001b[0;31m#, feature_names=X_train.feature_names)\u001b[0m\u001b[0;34m\u001b[0m\u001b[0;34m\u001b[0m\u001b[0m\n\u001b[0m",
            "\u001b[0;31mNameError\u001b[0m: name 'shap_values' is not defined"
          ]
        }
      ]
    },
    {
      "cell_type": "markdown",
      "metadata": {
        "id": "LhoJeEd4I0Ld"
      },
      "source": [
        "#### Random Forest"
      ]
    },
    {
      "cell_type": "markdown",
      "source": [
        "###### Prepare data"
      ],
      "metadata": {
        "id": "lnMhSv8Byj6S"
      }
    },
    {
      "cell_type": "code",
      "execution_count": 27,
      "metadata": {
        "id": "uln_L55v-5q5"
      },
      "outputs": [],
      "source": [
        "# encode columns using label encoder \n",
        "le = preprocessing.LabelEncoder()"
      ]
    },
    {
      "cell_type": "code",
      "execution_count": 28,
      "metadata": {
        "id": "ib-0xJjd_ext"
      },
      "outputs": [],
      "source": [
        "data1[\"Agency_Text\"] = le.fit_transform(data1[\"Agency_Text\"])\n",
        "data1[\"Sex_Code_Text\"] = le.fit_transform(data1[\"Sex_Code_Text\"])\n",
        "data1[\"Ethnic_Code_Text\"] = le.fit_transform(data1[\"Ethnic_Code_Text\"])\n",
        "data1[\"RecSupervisionLevelText\"] = le.fit_transform(data1[\"RecSupervisionLevelText\"])\n",
        "data1[\"ScaleSet\"] = le.fit_transform(data1[\"ScaleSet\"])\n",
        "data1[\"Language\"] = le.fit_transform(data1[\"Language\"])\n",
        "data1[\"LegalStatus\"] = le.fit_transform(data1[\"LegalStatus\"])\n",
        "data1[\"CustodyStatus\"] = le.fit_transform(data1[\"CustodyStatus\"])\n",
        "data1[\"MaritalStatus\"] = le.fit_transform(data1[\"MaritalStatus\"])\n",
        "data1[\"DisplayText\"] = le.fit_transform(data1[\"DisplayText\"])\n",
        "data1[\"ScoreText\"] = le.fit_transform(data1[\"ScoreText\"])\n",
        "data1[\"AssessmentType\"] = le.fit_transform(data1[\"AssessmentType\"])"
      ]
    },
    {
      "cell_type": "code",
      "source": [
        "data1.head()"
      ],
      "metadata": {
        "colab": {
          "base_uri": "https://localhost:8080/",
          "height": 270
        },
        "id": "lHkg2i-obw-A",
        "outputId": "27fc406d-8754-4498-d2a7-0d67026bc580"
      },
      "execution_count": 29,
      "outputs": [
        {
          "output_type": "execute_result",
          "data": {
            "text/plain": [
              "   Agency_Text  Sex_Code_Text  Ethnic_Code_Text DateOfBirth  ScaleSet  \\\n",
              "0            2              1                 4    12/05/92         1   \n",
              "1            2              1                 4    12/05/92         1   \n",
              "2            2              1                 4    12/05/92         1   \n",
              "3            2              1                 4    09/16/84         1   \n",
              "4            2              1                 4    09/16/84         1   \n",
              "\n",
              "   Language  LegalStatus  CustodyStatus  MaritalStatus  RecSupervisionLevel  \\\n",
              "0         0            5              0              4                    1   \n",
              "1         0            5              0              4                    1   \n",
              "2         0            5              0              4                    1   \n",
              "3         0            5              0              1                    1   \n",
              "4         0            5              0              1                    1   \n",
              "\n",
              "   RecSupervisionLevelText  DisplayText  RawScore  DecileScore  ScoreText  \\\n",
              "0                        1            2     -2.08            4          1   \n",
              "1                        1            1     -1.06            2          1   \n",
              "2                        1            0     15.00            1          1   \n",
              "3                        1            2     -2.84            2          1   \n",
              "4                        1            1     -1.50            1          1   \n",
              "\n",
              "   AssessmentType  \n",
              "0               1  \n",
              "1               1  \n",
              "2               1  \n",
              "3               1  \n",
              "4               1  "
            ],
            "text/html": [
              "\n",
              "  <div id=\"df-9b50b63c-6a56-4587-9612-53f0ae201a5f\">\n",
              "    <div class=\"colab-df-container\">\n",
              "      <div>\n",
              "<style scoped>\n",
              "    .dataframe tbody tr th:only-of-type {\n",
              "        vertical-align: middle;\n",
              "    }\n",
              "\n",
              "    .dataframe tbody tr th {\n",
              "        vertical-align: top;\n",
              "    }\n",
              "\n",
              "    .dataframe thead th {\n",
              "        text-align: right;\n",
              "    }\n",
              "</style>\n",
              "<table border=\"1\" class=\"dataframe\">\n",
              "  <thead>\n",
              "    <tr style=\"text-align: right;\">\n",
              "      <th></th>\n",
              "      <th>Agency_Text</th>\n",
              "      <th>Sex_Code_Text</th>\n",
              "      <th>Ethnic_Code_Text</th>\n",
              "      <th>DateOfBirth</th>\n",
              "      <th>ScaleSet</th>\n",
              "      <th>Language</th>\n",
              "      <th>LegalStatus</th>\n",
              "      <th>CustodyStatus</th>\n",
              "      <th>MaritalStatus</th>\n",
              "      <th>RecSupervisionLevel</th>\n",
              "      <th>RecSupervisionLevelText</th>\n",
              "      <th>DisplayText</th>\n",
              "      <th>RawScore</th>\n",
              "      <th>DecileScore</th>\n",
              "      <th>ScoreText</th>\n",
              "      <th>AssessmentType</th>\n",
              "    </tr>\n",
              "  </thead>\n",
              "  <tbody>\n",
              "    <tr>\n",
              "      <th>0</th>\n",
              "      <td>2</td>\n",
              "      <td>1</td>\n",
              "      <td>4</td>\n",
              "      <td>12/05/92</td>\n",
              "      <td>1</td>\n",
              "      <td>0</td>\n",
              "      <td>5</td>\n",
              "      <td>0</td>\n",
              "      <td>4</td>\n",
              "      <td>1</td>\n",
              "      <td>1</td>\n",
              "      <td>2</td>\n",
              "      <td>-2.08</td>\n",
              "      <td>4</td>\n",
              "      <td>1</td>\n",
              "      <td>1</td>\n",
              "    </tr>\n",
              "    <tr>\n",
              "      <th>1</th>\n",
              "      <td>2</td>\n",
              "      <td>1</td>\n",
              "      <td>4</td>\n",
              "      <td>12/05/92</td>\n",
              "      <td>1</td>\n",
              "      <td>0</td>\n",
              "      <td>5</td>\n",
              "      <td>0</td>\n",
              "      <td>4</td>\n",
              "      <td>1</td>\n",
              "      <td>1</td>\n",
              "      <td>1</td>\n",
              "      <td>-1.06</td>\n",
              "      <td>2</td>\n",
              "      <td>1</td>\n",
              "      <td>1</td>\n",
              "    </tr>\n",
              "    <tr>\n",
              "      <th>2</th>\n",
              "      <td>2</td>\n",
              "      <td>1</td>\n",
              "      <td>4</td>\n",
              "      <td>12/05/92</td>\n",
              "      <td>1</td>\n",
              "      <td>0</td>\n",
              "      <td>5</td>\n",
              "      <td>0</td>\n",
              "      <td>4</td>\n",
              "      <td>1</td>\n",
              "      <td>1</td>\n",
              "      <td>0</td>\n",
              "      <td>15.00</td>\n",
              "      <td>1</td>\n",
              "      <td>1</td>\n",
              "      <td>1</td>\n",
              "    </tr>\n",
              "    <tr>\n",
              "      <th>3</th>\n",
              "      <td>2</td>\n",
              "      <td>1</td>\n",
              "      <td>4</td>\n",
              "      <td>09/16/84</td>\n",
              "      <td>1</td>\n",
              "      <td>0</td>\n",
              "      <td>5</td>\n",
              "      <td>0</td>\n",
              "      <td>1</td>\n",
              "      <td>1</td>\n",
              "      <td>1</td>\n",
              "      <td>2</td>\n",
              "      <td>-2.84</td>\n",
              "      <td>2</td>\n",
              "      <td>1</td>\n",
              "      <td>1</td>\n",
              "    </tr>\n",
              "    <tr>\n",
              "      <th>4</th>\n",
              "      <td>2</td>\n",
              "      <td>1</td>\n",
              "      <td>4</td>\n",
              "      <td>09/16/84</td>\n",
              "      <td>1</td>\n",
              "      <td>0</td>\n",
              "      <td>5</td>\n",
              "      <td>0</td>\n",
              "      <td>1</td>\n",
              "      <td>1</td>\n",
              "      <td>1</td>\n",
              "      <td>1</td>\n",
              "      <td>-1.50</td>\n",
              "      <td>1</td>\n",
              "      <td>1</td>\n",
              "      <td>1</td>\n",
              "    </tr>\n",
              "  </tbody>\n",
              "</table>\n",
              "</div>\n",
              "      <button class=\"colab-df-convert\" onclick=\"convertToInteractive('df-9b50b63c-6a56-4587-9612-53f0ae201a5f')\"\n",
              "              title=\"Convert this dataframe to an interactive table.\"\n",
              "              style=\"display:none;\">\n",
              "        \n",
              "  <svg xmlns=\"http://www.w3.org/2000/svg\" height=\"24px\"viewBox=\"0 0 24 24\"\n",
              "       width=\"24px\">\n",
              "    <path d=\"M0 0h24v24H0V0z\" fill=\"none\"/>\n",
              "    <path d=\"M18.56 5.44l.94 2.06.94-2.06 2.06-.94-2.06-.94-.94-2.06-.94 2.06-2.06.94zm-11 1L8.5 8.5l.94-2.06 2.06-.94-2.06-.94L8.5 2.5l-.94 2.06-2.06.94zm10 10l.94 2.06.94-2.06 2.06-.94-2.06-.94-.94-2.06-.94 2.06-2.06.94z\"/><path d=\"M17.41 7.96l-1.37-1.37c-.4-.4-.92-.59-1.43-.59-.52 0-1.04.2-1.43.59L10.3 9.45l-7.72 7.72c-.78.78-.78 2.05 0 2.83L4 21.41c.39.39.9.59 1.41.59.51 0 1.02-.2 1.41-.59l7.78-7.78 2.81-2.81c.8-.78.8-2.07 0-2.86zM5.41 20L4 18.59l7.72-7.72 1.47 1.35L5.41 20z\"/>\n",
              "  </svg>\n",
              "      </button>\n",
              "      \n",
              "  <style>\n",
              "    .colab-df-container {\n",
              "      display:flex;\n",
              "      flex-wrap:wrap;\n",
              "      gap: 12px;\n",
              "    }\n",
              "\n",
              "    .colab-df-convert {\n",
              "      background-color: #E8F0FE;\n",
              "      border: none;\n",
              "      border-radius: 50%;\n",
              "      cursor: pointer;\n",
              "      display: none;\n",
              "      fill: #1967D2;\n",
              "      height: 32px;\n",
              "      padding: 0 0 0 0;\n",
              "      width: 32px;\n",
              "    }\n",
              "\n",
              "    .colab-df-convert:hover {\n",
              "      background-color: #E2EBFA;\n",
              "      box-shadow: 0px 1px 2px rgba(60, 64, 67, 0.3), 0px 1px 3px 1px rgba(60, 64, 67, 0.15);\n",
              "      fill: #174EA6;\n",
              "    }\n",
              "\n",
              "    [theme=dark] .colab-df-convert {\n",
              "      background-color: #3B4455;\n",
              "      fill: #D2E3FC;\n",
              "    }\n",
              "\n",
              "    [theme=dark] .colab-df-convert:hover {\n",
              "      background-color: #434B5C;\n",
              "      box-shadow: 0px 1px 3px 1px rgba(0, 0, 0, 0.15);\n",
              "      filter: drop-shadow(0px 1px 2px rgba(0, 0, 0, 0.3));\n",
              "      fill: #FFFFFF;\n",
              "    }\n",
              "  </style>\n",
              "\n",
              "      <script>\n",
              "        const buttonEl =\n",
              "          document.querySelector('#df-9b50b63c-6a56-4587-9612-53f0ae201a5f button.colab-df-convert');\n",
              "        buttonEl.style.display =\n",
              "          google.colab.kernel.accessAllowed ? 'block' : 'none';\n",
              "\n",
              "        async function convertToInteractive(key) {\n",
              "          const element = document.querySelector('#df-9b50b63c-6a56-4587-9612-53f0ae201a5f');\n",
              "          const dataTable =\n",
              "            await google.colab.kernel.invokeFunction('convertToInteractive',\n",
              "                                                     [key], {});\n",
              "          if (!dataTable) return;\n",
              "\n",
              "          const docLinkHtml = 'Like what you see? Visit the ' +\n",
              "            '<a target=\"_blank\" href=https://colab.research.google.com/notebooks/data_table.ipynb>data table notebook</a>'\n",
              "            + ' to learn more about interactive tables.';\n",
              "          element.innerHTML = '';\n",
              "          dataTable['output_type'] = 'display_data';\n",
              "          await google.colab.output.renderOutput(dataTable, element);\n",
              "          const docLink = document.createElement('div');\n",
              "          docLink.innerHTML = docLinkHtml;\n",
              "          element.appendChild(docLink);\n",
              "        }\n",
              "      </script>\n",
              "    </div>\n",
              "  </div>\n",
              "  "
            ]
          },
          "metadata": {},
          "execution_count": 29
        }
      ]
    },
    {
      "cell_type": "code",
      "execution_count": 30,
      "metadata": {
        "id": "c1avVD959qx8"
      },
      "outputs": [],
      "source": [
        "# Random Forest Classifier\n",
        "clf = RandomForestClassifier()"
      ]
    },
    {
      "cell_type": "code",
      "execution_count": 31,
      "metadata": {
        "id": "OaSSvUheDb6F"
      },
      "outputs": [],
      "source": [
        "# define target and features\n",
        "x = data1.drop([\"ScoreText\", \"DateOfBirth\", \"DecileScore\", \"RawScore\"], axis =1) \n",
        "y = data1[\"ScoreText\"]"
      ]
    },
    {
      "cell_type": "markdown",
      "source": [
        "###### Train test split"
      ],
      "metadata": {
        "id": "zamgKPf7ysrf"
      }
    },
    {
      "cell_type": "code",
      "execution_count": 32,
      "metadata": {
        "id": "Li4oUCjKDKUw"
      },
      "outputs": [],
      "source": [
        "# Train test split using new features   \n",
        "x_train, x_test, y_train, y_test = train_test_split(x, y, test_size=0.33, random_state=42)"
      ]
    },
    {
      "cell_type": "markdown",
      "source": [
        "###### Fit model and make prediction"
      ],
      "metadata": {
        "id": "PUleTqhTyvUZ"
      }
    },
    {
      "cell_type": "code",
      "execution_count": 33,
      "metadata": {
        "id": "624j1KzX9quA"
      },
      "outputs": [],
      "source": [
        "# Fit model to make prediction \n",
        "y_predict = clf.fit(x_train, y_train).predict(x_test)"
      ]
    },
    {
      "cell_type": "markdown",
      "source": [
        "###### Reporting"
      ],
      "metadata": {
        "id": "J-hYTTNjyy_n"
      }
    },
    {
      "cell_type": "code",
      "source": [
        "# Classification report \n",
        "report_df = pd.DataFrame.from_dict(classification_report(y_test, y_predict, output_dict=True)).transpose()"
      ],
      "metadata": {
        "id": "BiytevwbXR44"
      },
      "execution_count": 34,
      "outputs": []
    },
    {
      "cell_type": "code",
      "source": [
        "report_df"
      ],
      "metadata": {
        "colab": {
          "base_uri": "https://localhost:8080/",
          "height": 354
        },
        "id": "0ruTbuCVXWUF",
        "outputId": "068d37ae-b7cf-479a-e590-92dc87c96a4f"
      },
      "execution_count": 35,
      "outputs": [
        {
          "output_type": "execute_result",
          "data": {
            "text/plain": [
              "              precision    recall  f1-score       support\n",
              "0              0.899845  0.759477  0.823724   2295.000000\n",
              "1              0.845207  0.942947  0.891406  13689.000000\n",
              "2              0.686515  0.480392  0.565249   4080.000000\n",
              "accuracy       0.827901  0.827901  0.827901      0.827901\n",
              "macro avg      0.810522  0.727605  0.760126  20064.000000\n",
              "weighted avg   0.819187  0.827901  0.817340  20064.000000"
            ],
            "text/html": [
              "\n",
              "  <div id=\"df-e11d0474-9e97-4a11-af40-fbfad87eeade\">\n",
              "    <div class=\"colab-df-container\">\n",
              "      <div>\n",
              "<style scoped>\n",
              "    .dataframe tbody tr th:only-of-type {\n",
              "        vertical-align: middle;\n",
              "    }\n",
              "\n",
              "    .dataframe tbody tr th {\n",
              "        vertical-align: top;\n",
              "    }\n",
              "\n",
              "    .dataframe thead th {\n",
              "        text-align: right;\n",
              "    }\n",
              "</style>\n",
              "<table border=\"1\" class=\"dataframe\">\n",
              "  <thead>\n",
              "    <tr style=\"text-align: right;\">\n",
              "      <th></th>\n",
              "      <th>precision</th>\n",
              "      <th>recall</th>\n",
              "      <th>f1-score</th>\n",
              "      <th>support</th>\n",
              "    </tr>\n",
              "  </thead>\n",
              "  <tbody>\n",
              "    <tr>\n",
              "      <th>0</th>\n",
              "      <td>0.899845</td>\n",
              "      <td>0.759477</td>\n",
              "      <td>0.823724</td>\n",
              "      <td>2295.000000</td>\n",
              "    </tr>\n",
              "    <tr>\n",
              "      <th>1</th>\n",
              "      <td>0.845207</td>\n",
              "      <td>0.942947</td>\n",
              "      <td>0.891406</td>\n",
              "      <td>13689.000000</td>\n",
              "    </tr>\n",
              "    <tr>\n",
              "      <th>2</th>\n",
              "      <td>0.686515</td>\n",
              "      <td>0.480392</td>\n",
              "      <td>0.565249</td>\n",
              "      <td>4080.000000</td>\n",
              "    </tr>\n",
              "    <tr>\n",
              "      <th>accuracy</th>\n",
              "      <td>0.827901</td>\n",
              "      <td>0.827901</td>\n",
              "      <td>0.827901</td>\n",
              "      <td>0.827901</td>\n",
              "    </tr>\n",
              "    <tr>\n",
              "      <th>macro avg</th>\n",
              "      <td>0.810522</td>\n",
              "      <td>0.727605</td>\n",
              "      <td>0.760126</td>\n",
              "      <td>20064.000000</td>\n",
              "    </tr>\n",
              "    <tr>\n",
              "      <th>weighted avg</th>\n",
              "      <td>0.819187</td>\n",
              "      <td>0.827901</td>\n",
              "      <td>0.817340</td>\n",
              "      <td>20064.000000</td>\n",
              "    </tr>\n",
              "  </tbody>\n",
              "</table>\n",
              "</div>\n",
              "      <button class=\"colab-df-convert\" onclick=\"convertToInteractive('df-e11d0474-9e97-4a11-af40-fbfad87eeade')\"\n",
              "              title=\"Convert this dataframe to an interactive table.\"\n",
              "              style=\"display:none;\">\n",
              "        \n",
              "  <svg xmlns=\"http://www.w3.org/2000/svg\" height=\"24px\"viewBox=\"0 0 24 24\"\n",
              "       width=\"24px\">\n",
              "    <path d=\"M0 0h24v24H0V0z\" fill=\"none\"/>\n",
              "    <path d=\"M18.56 5.44l.94 2.06.94-2.06 2.06-.94-2.06-.94-.94-2.06-.94 2.06-2.06.94zm-11 1L8.5 8.5l.94-2.06 2.06-.94-2.06-.94L8.5 2.5l-.94 2.06-2.06.94zm10 10l.94 2.06.94-2.06 2.06-.94-2.06-.94-.94-2.06-.94 2.06-2.06.94z\"/><path d=\"M17.41 7.96l-1.37-1.37c-.4-.4-.92-.59-1.43-.59-.52 0-1.04.2-1.43.59L10.3 9.45l-7.72 7.72c-.78.78-.78 2.05 0 2.83L4 21.41c.39.39.9.59 1.41.59.51 0 1.02-.2 1.41-.59l7.78-7.78 2.81-2.81c.8-.78.8-2.07 0-2.86zM5.41 20L4 18.59l7.72-7.72 1.47 1.35L5.41 20z\"/>\n",
              "  </svg>\n",
              "      </button>\n",
              "      \n",
              "  <style>\n",
              "    .colab-df-container {\n",
              "      display:flex;\n",
              "      flex-wrap:wrap;\n",
              "      gap: 12px;\n",
              "    }\n",
              "\n",
              "    .colab-df-convert {\n",
              "      background-color: #E8F0FE;\n",
              "      border: none;\n",
              "      border-radius: 50%;\n",
              "      cursor: pointer;\n",
              "      display: none;\n",
              "      fill: #1967D2;\n",
              "      height: 32px;\n",
              "      padding: 0 0 0 0;\n",
              "      width: 32px;\n",
              "    }\n",
              "\n",
              "    .colab-df-convert:hover {\n",
              "      background-color: #E2EBFA;\n",
              "      box-shadow: 0px 1px 2px rgba(60, 64, 67, 0.3), 0px 1px 3px 1px rgba(60, 64, 67, 0.15);\n",
              "      fill: #174EA6;\n",
              "    }\n",
              "\n",
              "    [theme=dark] .colab-df-convert {\n",
              "      background-color: #3B4455;\n",
              "      fill: #D2E3FC;\n",
              "    }\n",
              "\n",
              "    [theme=dark] .colab-df-convert:hover {\n",
              "      background-color: #434B5C;\n",
              "      box-shadow: 0px 1px 3px 1px rgba(0, 0, 0, 0.15);\n",
              "      filter: drop-shadow(0px 1px 2px rgba(0, 0, 0, 0.3));\n",
              "      fill: #FFFFFF;\n",
              "    }\n",
              "  </style>\n",
              "\n",
              "      <script>\n",
              "        const buttonEl =\n",
              "          document.querySelector('#df-e11d0474-9e97-4a11-af40-fbfad87eeade button.colab-df-convert');\n",
              "        buttonEl.style.display =\n",
              "          google.colab.kernel.accessAllowed ? 'block' : 'none';\n",
              "\n",
              "        async function convertToInteractive(key) {\n",
              "          const element = document.querySelector('#df-e11d0474-9e97-4a11-af40-fbfad87eeade');\n",
              "          const dataTable =\n",
              "            await google.colab.kernel.invokeFunction('convertToInteractive',\n",
              "                                                     [key], {});\n",
              "          if (!dataTable) return;\n",
              "\n",
              "          const docLinkHtml = 'Like what you see? Visit the ' +\n",
              "            '<a target=\"_blank\" href=https://colab.research.google.com/notebooks/data_table.ipynb>data table notebook</a>'\n",
              "            + ' to learn more about interactive tables.';\n",
              "          element.innerHTML = '';\n",
              "          dataTable['output_type'] = 'display_data';\n",
              "          await google.colab.output.renderOutput(dataTable, element);\n",
              "          const docLink = document.createElement('div');\n",
              "          docLink.innerHTML = docLinkHtml;\n",
              "          element.appendChild(docLink);\n",
              "        }\n",
              "      </script>\n",
              "    </div>\n",
              "  </div>\n",
              "  "
            ]
          },
          "metadata": {},
          "execution_count": 35
        }
      ]
    },
    {
      "cell_type": "code",
      "execution_count": 36,
      "metadata": {
        "colab": {
          "base_uri": "https://localhost:8080/",
          "height": 89
        },
        "id": "ZICSv26HayZK",
        "outputId": "2fe92564-d37b-4310-f036-753d9013fb27"
      },
      "outputs": [
        {
          "output_type": "execute_result",
          "data": {
            "text/plain": [
              "<Axes: >"
            ]
          },
          "metadata": {},
          "execution_count": 36
        },
        {
          "output_type": "display_data",
          "data": {
            "text/plain": [
              "<Figure size 800x550 with 1 Axes>"
            ],
            "image/png": "[encoded data removed]"
          },
          "metadata": {}
        }
      ],
      "source": [
        "#confusion matrix\n",
        "mat = confusion_matrix(y_test, y_predict)\n",
        "sns.heatmap(mat, square=True, annot=True, fmt='d', cbar=False, cmap='Blues')"
      ]
    },
    {
      "cell_type": "code",
      "execution_count": 37,
      "metadata": {
        "colab": {
          "base_uri": "https://localhost:8080/"
        },
        "id": "p6QvJfaAbFle",
        "outputId": "13fbda75-92d0-4db4-cf63-0c5ce44e2360"
      },
      "outputs": [
        {
          "output_type": "stream",
          "name": "stdout",
          "text": [
            "Precision: 0.8105223073670788\n",
            "Recall: 0.7276053909035306\n"
          ]
        }
      ],
      "source": [
        "precision = precision_score(y_test, y_predict,average='macro')\n",
        "recall = recall_score(y_test, y_predict,average='macro')\n",
        "\n",
        "print(\"Precision:\", precision)\n",
        "print(\"Recall:\", recall)"
      ]
    },
    {
      "cell_type": "markdown",
      "source": [
        "###### Explane results using Shap"
      ],
      "metadata": {
        "id": "TEwYKCqRyc40"
      }
    },
    {
      "cell_type": "code",
      "source": [
        "explainer = shap.Explainer(clf,x_train)"
      ],
      "metadata": {
        "id": "240Ga7a4hAga"
      },
      "execution_count": 38,
      "outputs": []
    },
    {
      "cell_type": "code",
      "source": [
        "shap_values = explainer.shap_values(x_test)"
      ],
      "metadata": {
        "colab": {
          "base_uri": "https://localhost:8080/"
        },
        "id": "6LBsV--ehLtI",
        "outputId": "6da8bce4-1297-45ef-c663-6fa6dd4908fe"
      },
      "execution_count": null,
      "outputs": [
        {
          "output_type": "stream",
          "name": "stderr",
          "text": [
            " 11%|==                  | 6574/60192 [08:26<68:46]       "
          ]
        }
      ]
    },
    {
      "cell_type": "code",
      "source": [
        "shap.summary_plot(shap_values, x_test)#, feature_names=X_train.feature_names)"
      ],
      "metadata": {
        "id": "s7-J2scshSew"
      },
      "execution_count": null,
      "outputs": []
    },
    {
      "cell_type": "markdown",
      "metadata": {
        "id": "I8dgvZYjEkvq"
      },
      "source": [
        "#### XGBoost"
      ]
    },
    {
      "cell_type": "markdown",
      "source": [
        "###### Fit model and make prediction"
      ],
      "metadata": {
        "id": "py-w81QAzCGN"
      }
    },
    {
      "cell_type": "code",
      "execution_count": 38,
      "metadata": {
        "id": "8CDg-ag3EuAW"
      },
      "outputs": [],
      "source": [
        "model_xgb = XGBClassifier()"
      ]
    },
    {
      "cell_type": "code",
      "execution_count": 39,
      "metadata": {
        "colab": {
          "base_uri": "https://localhost:8080/",
          "height": 248
        },
        "id": "7VlAhXpSEtSO",
        "outputId": "59c6d73e-a117-48b6-e541-73278669d760"
      },
      "outputs": [
        {
          "output_type": "execute_result",
          "data": {
            "text/plain": [
              "XGBClassifier(base_score=None, booster=None, callbacks=None,\n",
              "              colsample_bylevel=None, colsample_bynode=None,\n",
              "              colsample_bytree=None, early_stopping_rounds=None,\n",
              "              enable_categorical=False, eval_metric=None, feature_types=None,\n",
              "              gamma=None, gpu_id=None, grow_policy=None, importance_type=None,\n",
              "              interaction_constraints=None, learning_rate=None, max_bin=None,\n",
              "              max_cat_threshold=None, max_cat_to_onehot=None,\n",
              "              max_delta_step=None, max_depth=None, max_leaves=None,\n",
              "              min_child_weight=None, missing=nan, monotone_constraints=None,\n",
              "              n_estimators=100, n_jobs=None, num_parallel_tree=None,\n",
              "              objective='multi:softprob', predictor=None, ...)"
            ],
            "text/html": [
              "<style>#sk-container-id-1 {color: black;background-color: white;}#sk-container-id-1 pre{padding: 0;}#sk-container-id-1 div.sk-toggleable {background-color: white;}#sk-container-id-1 label.sk-toggleable__label {cursor: pointer;display: block;width: 100%;margin-bottom: 0;padding: 0.3em;box-sizing: border-box;text-align: center;}#sk-container-id-1 label.sk-toggleable__label-arrow:before {content: \"▸\";float: left;margin-right: 0.25em;color: #696969;}#sk-container-id-1 label.sk-toggleable__label-arrow:hover:before {color: black;}#sk-container-id-1 div.sk-estimator:hover label.sk-toggleable__label-arrow:before {color: black;}#sk-container-id-1 div.sk-toggleable__content {max-height: 0;max-width: 0;overflow: hidden;text-align: left;background-color: #f0f8ff;}#sk-container-id-1 div.sk-toggleable__content pre {margin: 0.2em;color: black;border-radius: 0.25em;background-color: #f0f8ff;}#sk-container-id-1 input.sk-toggleable__control:checked~div.sk-toggleable__content {max-height: 200px;max-width: 100%;overflow: auto;}#sk-container-id-1 input.sk-toggleable__control:checked~label.sk-toggleable__label-arrow:before {content: \"▾\";}#sk-container-id-1 div.sk-estimator input.sk-toggleable__control:checked~label.sk-toggleable__label {background-color: #d4ebff;}#sk-container-id-1 div.sk-label input.sk-toggleable__control:checked~label.sk-toggleable__label {background-color: #d4ebff;}#sk-container-id-1 input.sk-hidden--visually {border: 0;clip: rect(1px 1px 1px 1px);clip: rect(1px, 1px, 1px, 1px);height: 1px;margin: -1px;overflow: hidden;padding: 0;position: absolute;width: 1px;}#sk-container-id-1 div.sk-estimator {font-family: monospace;background-color: #f0f8ff;border: 1px dotted black;border-radius: 0.25em;box-sizing: border-box;margin-bottom: 0.5em;}#sk-container-id-1 div.sk-estimator:hover {background-color: #d4ebff;}#sk-container-id-1 div.sk-parallel-item::after {content: \"\";width: 100%;border-bottom: 1px solid gray;flex-grow: 1;}#sk-container-id-1 div.sk-label:hover label.sk-toggleable__label {background-color: #d4ebff;}#sk-container-id-1 div.sk-serial::before {content: \"\";position: absolute;border-left: 1px solid gray;box-sizing: border-box;top: 0;bottom: 0;left: 50%;z-index: 0;}#sk-container-id-1 div.sk-serial {display: flex;flex-direction: column;align-items: center;background-color: white;padding-right: 0.2em;padding-left: 0.2em;position: relative;}#sk-container-id-1 div.sk-item {position: relative;z-index: 1;}#sk-container-id-1 div.sk-parallel {display: flex;align-items: stretch;justify-content: center;background-color: white;position: relative;}#sk-container-id-1 div.sk-item::before, #sk-container-id-1 div.sk-parallel-item::before {content: \"\";position: absolute;border-left: 1px solid gray;box-sizing: border-box;top: 0;bottom: 0;left: 50%;z-index: -1;}#sk-container-id-1 div.sk-parallel-item {display: flex;flex-direction: column;z-index: 1;position: relative;background-color: white;}#sk-container-id-1 div.sk-parallel-item:first-child::after {align-self: flex-end;width: 50%;}#sk-container-id-1 div.sk-parallel-item:last-child::after {align-self: flex-start;width: 50%;}#sk-container-id-1 div.sk-parallel-item:only-child::after {width: 0;}#sk-container-id-1 div.sk-dashed-wrapped {border: 1px dashed gray;margin: 0 0.4em 0.5em 0.4em;box-sizing: border-box;padding-bottom: 0.4em;background-color: white;}#sk-container-id-1 div.sk-label label {font-family: monospace;font-weight: bold;display: inline-block;line-height: 1.2em;}#sk-container-id-1 div.sk-label-container {text-align: center;}#sk-container-id-1 div.sk-container {/* jupyter's `normalize.less` sets `[hidden] { display: none; }` but bootstrap.min.css set `[hidden] { display: none !important; }` so we also need the `!important` here to be able to override the default hidden behavior on the sphinx rendered scikit-learn.org. See: https://github.com/scikit-learn/scikit-learn/issues/21755 */display: inline-block !important;position: relative;}#sk-container-id-1 div.sk-text-repr-fallback {display: none;}</style><div id=\"sk-container-id-1\" class=\"sk-top-container\"><div class=\"sk-text-repr-fallback\"><pre>XGBClassifier(base_score=None, booster=None, callbacks=None,\n",
              "              colsample_bylevel=None, colsample_bynode=None,\n",
              "              colsample_bytree=None, early_stopping_rounds=None,\n",
              "              enable_categorical=False, eval_metric=None, feature_types=None,\n",
              "              gamma=None, gpu_id=None, grow_policy=None, importance_type=None,\n",
              "              interaction_constraints=None, learning_rate=None, max_bin=None,\n",
              "              max_cat_threshold=None, max_cat_to_onehot=None,\n",
              "              max_delta_step=None, max_depth=None, max_leaves=None,\n",
              "              min_child_weight=None, missing=nan, monotone_constraints=None,\n",
              "              n_estimators=100, n_jobs=None, num_parallel_tree=None,\n",
              "              objective=&#x27;multi:softprob&#x27;, predictor=None, ...)</pre><b>In a Jupyter environment, please rerun this cell to show the HTML representation or trust the notebook. <br />On GitHub, the HTML representation is unable to render, please try loading this page with nbviewer.org.</b></div><div class=\"sk-container\" hidden><div class=\"sk-item\"><div class=\"sk-estimator sk-toggleable\"><input class=\"sk-toggleable__control sk-hidden--visually\" id=\"sk-estimator-id-1\" type=\"checkbox\" checked><label for=\"sk-estimator-id-1\" class=\"sk-toggleable__label sk-toggleable__label-arrow\">XGBClassifier</label><div class=\"sk-toggleable__content\"><pre>XGBClassifier(base_score=None, booster=None, callbacks=None,\n",
              "              colsample_bylevel=None, colsample_bynode=None,\n",
              "              colsample_bytree=None, early_stopping_rounds=None,\n",
              "              enable_categorical=False, eval_metric=None, feature_types=None,\n",
              "              gamma=None, gpu_id=None, grow_policy=None, importance_type=None,\n",
              "              interaction_constraints=None, learning_rate=None, max_bin=None,\n",
              "              max_cat_threshold=None, max_cat_to_onehot=None,\n",
              "              max_delta_step=None, max_depth=None, max_leaves=None,\n",
              "              min_child_weight=None, missing=nan, monotone_constraints=None,\n",
              "              n_estimators=100, n_jobs=None, num_parallel_tree=None,\n",
              "              objective=&#x27;multi:softprob&#x27;, predictor=None, ...)</pre></div></div></div></div></div>"
            ]
          },
          "metadata": {},
          "execution_count": 39
        }
      ],
      "source": [
        "model_xgb.fit(x_train, y_train)"
      ]
    },
    {
      "cell_type": "code",
      "execution_count": 40,
      "metadata": {
        "id": "RW3XDK8DRhoP"
      },
      "outputs": [],
      "source": [
        "y_pred = model_xgb.predict(x_test)"
      ]
    },
    {
      "cell_type": "markdown",
      "source": [
        "###### Reporting"
      ],
      "metadata": {
        "id": "g4_fBQiszMPq"
      }
    },
    {
      "cell_type": "code",
      "execution_count": 41,
      "metadata": {
        "id": "J71fqZegEsnK"
      },
      "outputs": [],
      "source": [
        "accuracy = model_xgb.score(x_test, y_test)"
      ]
    },
    {
      "cell_type": "code",
      "source": [
        "report_xgb = pd.DataFrame.from_dict(classification_report(y_test, y_pred, output_dict=True)).transpose()"
      ],
      "metadata": {
        "id": "9Tj1y9dHmgFg"
      },
      "execution_count": 43,
      "outputs": []
    },
    {
      "cell_type": "code",
      "source": [
        "report_xgb"
      ],
      "metadata": {
        "colab": {
          "base_uri": "https://localhost:8080/",
          "height": 238
        },
        "id": "q3AcGrPzmkFW",
        "outputId": "7cb9e7cf-8fb3-4e02-b03d-ff897438a3cb"
      },
      "execution_count": 44,
      "outputs": [
        {
          "output_type": "execute_result",
          "data": {
            "text/plain": [
              "              precision    recall  f1-score       support\n",
              "0              0.915478  0.755120  0.827603   2295.000000\n",
              "1              0.845039  0.950106  0.894498  13689.000000\n",
              "2              0.712950  0.485784  0.577843   4080.000000\n",
              "accuracy       0.833383  0.833383  0.833383      0.833383\n",
              "macro avg      0.824489  0.730337  0.766648  20064.000000\n",
              "weighted avg   0.826236  0.833383  0.822455  20064.000000"
            ],
            "text/html": [
              "\n",
              "  <div id=\"df-8981eb90-aa81-4c3a-91c0-700ff658dbc8\">\n",
              "    <div class=\"colab-df-container\">\n",
              "      <div>\n",
              "<style scoped>\n",
              "    .dataframe tbody tr th:only-of-type {\n",
              "        vertical-align: middle;\n",
              "    }\n",
              "\n",
              "    .dataframe tbody tr th {\n",
              "        vertical-align: top;\n",
              "    }\n",
              "\n",
              "    .dataframe thead th {\n",
              "        text-align: right;\n",
              "    }\n",
              "</style>\n",
              "<table border=\"1\" class=\"dataframe\">\n",
              "  <thead>\n",
              "    <tr style=\"text-align: right;\">\n",
              "      <th></th>\n",
              "      <th>precision</th>\n",
              "      <th>recall</th>\n",
              "      <th>f1-score</th>\n",
              "      <th>support</th>\n",
              "    </tr>\n",
              "  </thead>\n",
              "  <tbody>\n",
              "    <tr>\n",
              "      <th>0</th>\n",
              "      <td>0.915478</td>\n",
              "      <td>0.755120</td>\n",
              "      <td>0.827603</td>\n",
              "      <td>2295.000000</td>\n",
              "    </tr>\n",
              "    <tr>\n",
              "      <th>1</th>\n",
              "      <td>0.845039</td>\n",
              "      <td>0.950106</td>\n",
              "      <td>0.894498</td>\n",
              "      <td>13689.000000</td>\n",
              "    </tr>\n",
              "    <tr>\n",
              "      <th>2</th>\n",
              "      <td>0.712950</td>\n",
              "      <td>0.485784</td>\n",
              "      <td>0.577843</td>\n",
              "      <td>4080.000000</td>\n",
              "    </tr>\n",
              "    <tr>\n",
              "      <th>accuracy</th>\n",
              "      <td>0.833383</td>\n",
              "      <td>0.833383</td>\n",
              "      <td>0.833383</td>\n",
              "      <td>0.833383</td>\n",
              "    </tr>\n",
              "    <tr>\n",
              "      <th>macro avg</th>\n",
              "      <td>0.824489</td>\n",
              "      <td>0.730337</td>\n",
              "      <td>0.766648</td>\n",
              "      <td>20064.000000</td>\n",
              "    </tr>\n",
              "    <tr>\n",
              "      <th>weighted avg</th>\n",
              "      <td>0.826236</td>\n",
              "      <td>0.833383</td>\n",
              "      <td>0.822455</td>\n",
              "      <td>20064.000000</td>\n",
              "    </tr>\n",
              "  </tbody>\n",
              "</table>\n",
              "</div>\n",
              "      <button class=\"colab-df-convert\" onclick=\"convertToInteractive('df-8981eb90-aa81-4c3a-91c0-700ff658dbc8')\"\n",
              "              title=\"Convert this dataframe to an interactive table.\"\n",
              "              style=\"display:none;\">\n",
              "        \n",
              "  <svg xmlns=\"http://www.w3.org/2000/svg\" height=\"24px\"viewBox=\"0 0 24 24\"\n",
              "       width=\"24px\">\n",
              "    <path d=\"M0 0h24v24H0V0z\" fill=\"none\"/>\n",
              "    <path d=\"M18.56 5.44l.94 2.06.94-2.06 2.06-.94-2.06-.94-.94-2.06-.94 2.06-2.06.94zm-11 1L8.5 8.5l.94-2.06 2.06-.94-2.06-.94L8.5 2.5l-.94 2.06-2.06.94zm10 10l.94 2.06.94-2.06 2.06-.94-2.06-.94-.94-2.06-.94 2.06-2.06.94z\"/><path d=\"M17.41 7.96l-1.37-1.37c-.4-.4-.92-.59-1.43-.59-.52 0-1.04.2-1.43.59L10.3 9.45l-7.72 7.72c-.78.78-.78 2.05 0 2.83L4 21.41c.39.39.9.59 1.41.59.51 0 1.02-.2 1.41-.59l7.78-7.78 2.81-2.81c.8-.78.8-2.07 0-2.86zM5.41 20L4 18.59l7.72-7.72 1.47 1.35L5.41 20z\"/>\n",
              "  </svg>\n",
              "      </button>\n",
              "      \n",
              "  <style>\n",
              "    .colab-df-container {\n",
              "      display:flex;\n",
              "      flex-wrap:wrap;\n",
              "      gap: 12px;\n",
              "    }\n",
              "\n",
              "    .colab-df-convert {\n",
              "      background-color: #E8F0FE;\n",
              "      border: none;\n",
              "      border-radius: 50%;\n",
              "      cursor: pointer;\n",
              "      display: none;\n",
              "      fill: #1967D2;\n",
              "      height: 32px;\n",
              "      padding: 0 0 0 0;\n",
              "      width: 32px;\n",
              "    }\n",
              "\n",
              "    .colab-df-convert:hover {\n",
              "      background-color: #E2EBFA;\n",
              "      box-shadow: 0px 1px 2px rgba(60, 64, 67, 0.3), 0px 1px 3px 1px rgba(60, 64, 67, 0.15);\n",
              "      fill: #174EA6;\n",
              "    }\n",
              "\n",
              "    [theme=dark] .colab-df-convert {\n",
              "      background-color: #3B4455;\n",
              "      fill: #D2E3FC;\n",
              "    }\n",
              "\n",
              "    [theme=dark] .colab-df-convert:hover {\n",
              "      background-color: #434B5C;\n",
              "      box-shadow: 0px 1px 3px 1px rgba(0, 0, 0, 0.15);\n",
              "      filter: drop-shadow(0px 1px 2px rgba(0, 0, 0, 0.3));\n",
              "      fill: #FFFFFF;\n",
              "    }\n",
              "  </style>\n",
              "\n",
              "      <script>\n",
              "        const buttonEl =\n",
              "          document.querySelector('#df-8981eb90-aa81-4c3a-91c0-700ff658dbc8 button.colab-df-convert');\n",
              "        buttonEl.style.display =\n",
              "          google.colab.kernel.accessAllowed ? 'block' : 'none';\n",
              "\n",
              "        async function convertToInteractive(key) {\n",
              "          const element = document.querySelector('#df-8981eb90-aa81-4c3a-91c0-700ff658dbc8');\n",
              "          const dataTable =\n",
              "            await google.colab.kernel.invokeFunction('convertToInteractive',\n",
              "                                                     [key], {});\n",
              "          if (!dataTable) return;\n",
              "\n",
              "          const docLinkHtml = 'Like what you see? Visit the ' +\n",
              "            '<a target=\"_blank\" href=https://colab.research.google.com/notebooks/data_table.ipynb>data table notebook</a>'\n",
              "            + ' to learn more about interactive tables.';\n",
              "          element.innerHTML = '';\n",
              "          dataTable['output_type'] = 'display_data';\n",
              "          await google.colab.output.renderOutput(dataTable, element);\n",
              "          const docLink = document.createElement('div');\n",
              "          docLink.innerHTML = docLinkHtml;\n",
              "          element.appendChild(docLink);\n",
              "        }\n",
              "      </script>\n",
              "    </div>\n",
              "  </div>\n",
              "  "
            ]
          },
          "metadata": {},
          "execution_count": 44
        }
      ]
    },
    {
      "cell_type": "code",
      "source": [
        "mat = confusion_matrix(y_test, y_pred)\n",
        "sns.heatmap(mat, square=True, annot=True, fmt='d', cbar=False, cmap='Blues')"
      ],
      "metadata": {
        "colab": {
          "base_uri": "https://localhost:8080/",
          "height": 501
        },
        "id": "HPp1x8KEmmE0",
        "outputId": "ef70321f-89ee-44a1-b20d-31766b1907cc"
      },
      "execution_count": 45,
      "outputs": [
        {
          "output_type": "execute_result",
          "data": {
            "text/plain": [
              "<Axes: >"
            ]
          },
          "metadata": {},
          "execution_count": 45
        },
        {
          "output_type": "display_data",
          "data": {
            "text/plain": [
              "<Figure size 800x550 with 1 Axes>"
            ],
            "image/png": "[encoded data removed]"
          },
          "metadata": {}
        }
      ]
    },
    {
      "cell_type": "markdown",
      "source": [
        "###### Explane results using Shap"
      ],
      "metadata": {
        "id": "UgNAf6XbzPA5"
      }
    },
    {
      "cell_type": "code",
      "source": [
        "explainer_xgb = shap.Explainer(model_xgb,x_train)"
      ],
      "metadata": {
        "id": "yxlksfrtmxnb"
      },
      "execution_count": 48,
      "outputs": []
    },
    {
      "cell_type": "code",
      "source": [
        "shap_values = explainer_xgb.shap_values(x_test)"
      ],
      "metadata": {
        "colab": {
          "base_uri": "https://localhost:8080/"
        },
        "id": "wFWSnrREm2BH",
        "outputId": "1b77e4ff-cb20-4750-fe81-b2352ac6c40b"
      },
      "execution_count": 49,
      "outputs": [
        {
          "output_type": "stream",
          "name": "stderr",
          "text": [
            "100%|===================| 60169/60192 [13:34<00:00]       "
          ]
        }
      ]
    },
    {
      "cell_type": "code",
      "source": [
        "shap.summary_plot(shap_values, x_test)"
      ],
      "metadata": {
        "colab": {
          "base_uri": "https://localhost:8080/",
          "height": 631
        },
        "id": "w_Ri_4alm9hF",
        "outputId": "ee309a54-aa92-4356-a6a8-83973ba2fcc5"
      },
      "execution_count": 52,
      "outputs": [
        {
          "output_type": "display_data",
          "data": {
            "text/plain": [
              "<Figure size 800x630 with 1 Axes>"
            ],
            "image/png": "[encoded data removed]"
          },
          "metadata": {}
        }
      ]
    },
    {
      "cell_type": "code",
      "source": [
        "index=1\n",
        "tree_explainer = shap.TreeExplainer(model_xgb)\n",
        "tree_values = tree_explainer.shap_values(x_train)\n",
        "tree_values_array = np.array(tree_values)\n",
        "\n",
        "print(\"Predicted value is:\", y_pred[index])\n",
        "shap_force_plot(tree_explainer, tree_values_array[index, :], x_train.iloc[index, :])\n"
      ],
      "metadata": {
        "colab": {
          "base_uri": "https://localhost:8080/",
          "height": 237
        },
        "id": "6ssIfUPgH6tA",
        "outputId": "d02b40c2-de10-4a4a-c24f-0d7123cc073d"
      },
      "execution_count": 17,
      "outputs": [
        {
          "output_type": "error",
          "ename": "NameError",
          "evalue": "ignored",
          "traceback": [
            "\u001b[0;31m---------------------------------------------------------------------------\u001b[0m",
            "\u001b[0;31mNameError\u001b[0m                                 Traceback (most recent call last)",
            "\u001b[0;32m<ipython-input-17-71707d9d5d61>\u001b[0m in \u001b[0;36m<cell line: 2>\u001b[0;34m()\u001b[0m\n\u001b[1;32m      1\u001b[0m \u001b[0mindex\u001b[0m\u001b[0;34m=\u001b[0m\u001b[0;36m1\u001b[0m\u001b[0;34m\u001b[0m\u001b[0;34m\u001b[0m\u001b[0m\n\u001b[0;32m----> 2\u001b[0;31m \u001b[0mtree_explainer\u001b[0m \u001b[0;34m=\u001b[0m \u001b[0mshap\u001b[0m\u001b[0;34m.\u001b[0m\u001b[0mTreeExplainer\u001b[0m\u001b[0;34m(\u001b[0m\u001b[0mmodel_xgb\u001b[0m\u001b[0;34m)\u001b[0m\u001b[0;34m\u001b[0m\u001b[0;34m\u001b[0m\u001b[0m\n\u001b[0m\u001b[1;32m      3\u001b[0m \u001b[0mtree_values\u001b[0m \u001b[0;34m=\u001b[0m \u001b[0mtree_explainer\u001b[0m\u001b[0;34m.\u001b[0m\u001b[0mshap_values\u001b[0m\u001b[0;34m(\u001b[0m\u001b[0mx_train\u001b[0m\u001b[0;34m)\u001b[0m\u001b[0;34m\u001b[0m\u001b[0;34m\u001b[0m\u001b[0m\n\u001b[1;32m      4\u001b[0m \u001b[0mtree_values_array\u001b[0m \u001b[0;34m=\u001b[0m \u001b[0mnp\u001b[0m\u001b[0;34m.\u001b[0m\u001b[0marray\u001b[0m\u001b[0;34m(\u001b[0m\u001b[0mtree_values\u001b[0m\u001b[0;34m)\u001b[0m\u001b[0;34m\u001b[0m\u001b[0;34m\u001b[0m\u001b[0m\n\u001b[1;32m      5\u001b[0m \u001b[0;34m\u001b[0m\u001b[0m\n",
            "\u001b[0;31mNameError\u001b[0m: name 'model_xgb' is not defined"
          ]
        }
      ]
    },
    {
      "cell_type": "markdown",
      "metadata": {
        "id": "7QyAL0wrCb71"
      },
      "source": [
        "###### Shap"
      ]
    },
    {
      "cell_type": "code",
      "execution_count": null,
      "metadata": {
        "id": "MKH3Gamnli28"
      },
      "outputs": [],
      "source": [
        "tree_explainer = shap.TreeExplainer(model_xgb)\n",
        "tree_values = tree_explainer.shap_values(x_train)"
      ]
    },
    {
      "cell_type": "code",
      "execution_count": null,
      "metadata": {
        "id": "6WTAac_8liz0"
      },
      "outputs": [],
      "source": [
        "def shap_feature_importance(values, X):\n",
        "    shap_sum = np.abs(values).mean(axis=1)\n",
        "    importance_df = pd.DataFrame([X.columns, shap_sum.tolist()]).T\n",
        "    importance_df.columns = ['column_name', 'shap_importance']\n",
        "    importance_df = importance_df.sort_values('shap_importance', ascending=False)\n",
        "    return importance_df "
      ]
    },
    {
      "cell_type": "code",
      "execution_count": null,
      "metadata": {
        "colab": {
          "base_uri": "https://localhost:8080/",
          "height": 426
        },
        "id": "sDwvTt0cmU0Y",
        "outputId": "93b30586-855a-4f09-9098-cec51a9ad785"
      },
      "outputs": [
        {
          "output_type": "execute_result",
          "data": {
            "text/plain": [
              "                column_name                                    shap_importance\n",
              "0               Agency_Text  [0.054492056369781494, 0.04301374778151512, 0....\n",
              "1             Sex_Code_Text  [0.04009751230478287, 0.054409634321928024, 0....\n",
              "2          Ethnic_Code_Text  [0.036023177206516266, 0.046500008553266525, 0...\n",
              "3                  ScaleSet                                               None\n",
              "4                  Language                                               None\n",
              "5               LegalStatus                                               None\n",
              "6             CustodyStatus                                               None\n",
              "7             MaritalStatus                                               None\n",
              "8       RecSupervisionLevel                                               None\n",
              "9   RecSupervisionLevelText                                               None\n",
              "10              DisplayText                                               None\n",
              "11           AssessmentType                                               None"
            ],
            "text/html": [
              "\n",
              "  <div id=\"df-21d39074-af48-44f4-a52c-3ae1f1662af1\">\n",
              "    <div class=\"colab-df-container\">\n",
              "      <div>\n",
              "<style scoped>\n",
              "    .dataframe tbody tr th:only-of-type {\n",
              "        vertical-align: middle;\n",
              "    }\n",
              "\n",
              "    .dataframe tbody tr th {\n",
              "        vertical-align: top;\n",
              "    }\n",
              "\n",
              "    .dataframe thead th {\n",
              "        text-align: right;\n",
              "    }\n",
              "</style>\n",
              "<table border=\"1\" class=\"dataframe\">\n",
              "  <thead>\n",
              "    <tr style=\"text-align: right;\">\n",
              "      <th></th>\n",
              "      <th>column_name</th>\n",
              "      <th>shap_importance</th>\n",
              "    </tr>\n",
              "  </thead>\n",
              "  <tbody>\n",
              "    <tr>\n",
              "      <th>0</th>\n",
              "      <td>Agency_Text</td>\n",
              "      <td>[0.054492056369781494, 0.04301374778151512, 0....</td>\n",
              "    </tr>\n",
              "    <tr>\n",
              "      <th>1</th>\n",
              "      <td>Sex_Code_Text</td>\n",
              "      <td>[0.04009751230478287, 0.054409634321928024, 0....</td>\n",
              "    </tr>\n",
              "    <tr>\n",
              "      <th>2</th>\n",
              "      <td>Ethnic_Code_Text</td>\n",
              "      <td>[0.036023177206516266, 0.046500008553266525, 0...</td>\n",
              "    </tr>\n",
              "    <tr>\n",
              "      <th>3</th>\n",
              "      <td>ScaleSet</td>\n",
              "      <td>None</td>\n",
              "    </tr>\n",
              "    <tr>\n",
              "      <th>4</th>\n",
              "      <td>Language</td>\n",
              "      <td>None</td>\n",
              "    </tr>\n",
              "    <tr>\n",
              "      <th>5</th>\n",
              "      <td>LegalStatus</td>\n",
              "      <td>None</td>\n",
              "    </tr>\n",
              "    <tr>\n",
              "      <th>6</th>\n",
              "      <td>CustodyStatus</td>\n",
              "      <td>None</td>\n",
              "    </tr>\n",
              "    <tr>\n",
              "      <th>7</th>\n",
              "      <td>MaritalStatus</td>\n",
              "      <td>None</td>\n",
              "    </tr>\n",
              "    <tr>\n",
              "      <th>8</th>\n",
              "      <td>RecSupervisionLevel</td>\n",
              "      <td>None</td>\n",
              "    </tr>\n",
              "    <tr>\n",
              "      <th>9</th>\n",
              "      <td>RecSupervisionLevelText</td>\n",
              "      <td>None</td>\n",
              "    </tr>\n",
              "    <tr>\n",
              "      <th>10</th>\n",
              "      <td>DisplayText</td>\n",
              "      <td>None</td>\n",
              "    </tr>\n",
              "    <tr>\n",
              "      <th>11</th>\n",
              "      <td>AssessmentType</td>\n",
              "      <td>None</td>\n",
              "    </tr>\n",
              "  </tbody>\n",
              "</table>\n",
              "</div>\n",
              "      <button class=\"colab-df-convert\" onclick=\"convertToInteractive('df-21d39074-af48-44f4-a52c-3ae1f1662af1')\"\n",
              "              title=\"Convert this dataframe to an interactive table.\"\n",
              "              style=\"display:none;\">\n",
              "        \n",
              "  <svg xmlns=\"http://www.w3.org/2000/svg\" height=\"24px\"viewBox=\"0 0 24 24\"\n",
              "       width=\"24px\">\n",
              "    <path d=\"M0 0h24v24H0V0z\" fill=\"none\"/>\n",
              "    <path d=\"M18.56 5.44l.94 2.06.94-2.06 2.06-.94-2.06-.94-.94-2.06-.94 2.06-2.06.94zm-11 1L8.5 8.5l.94-2.06 2.06-.94-2.06-.94L8.5 2.5l-.94 2.06-2.06.94zm10 10l.94 2.06.94-2.06 2.06-.94-2.06-.94-.94-2.06-.94 2.06-2.06.94z\"/><path d=\"M17.41 7.96l-1.37-1.37c-.4-.4-.92-.59-1.43-.59-.52 0-1.04.2-1.43.59L10.3 9.45l-7.72 7.72c-.78.78-.78 2.05 0 2.83L4 21.41c.39.39.9.59 1.41.59.51 0 1.02-.2 1.41-.59l7.78-7.78 2.81-2.81c.8-.78.8-2.07 0-2.86zM5.41 20L4 18.59l7.72-7.72 1.47 1.35L5.41 20z\"/>\n",
              "  </svg>\n",
              "      </button>\n",
              "      \n",
              "  <style>\n",
              "    .colab-df-container {\n",
              "      display:flex;\n",
              "      flex-wrap:wrap;\n",
              "      gap: 12px;\n",
              "    }\n",
              "\n",
              "    .colab-df-convert {\n",
              "      background-color: #E8F0FE;\n",
              "      border: none;\n",
              "      border-radius: 50%;\n",
              "      cursor: pointer;\n",
              "      display: none;\n",
              "      fill: #1967D2;\n",
              "      height: 32px;\n",
              "      padding: 0 0 0 0;\n",
              "      width: 32px;\n",
              "    }\n",
              "\n",
              "    .colab-df-convert:hover {\n",
              "      background-color: #E2EBFA;\n",
              "      box-shadow: 0px 1px 2px rgba(60, 64, 67, 0.3), 0px 1px 3px 1px rgba(60, 64, 67, 0.15);\n",
              "      fill: #174EA6;\n",
              "    }\n",
              "\n",
              "    [theme=dark] .colab-df-convert {\n",
              "      background-color: #3B4455;\n",
              "      fill: #D2E3FC;\n",
              "    }\n",
              "\n",
              "    [theme=dark] .colab-df-convert:hover {\n",
              "      background-color: #434B5C;\n",
              "      box-shadow: 0px 1px 3px 1px rgba(0, 0, 0, 0.15);\n",
              "      filter: drop-shadow(0px 1px 2px rgba(0, 0, 0, 0.3));\n",
              "      fill: #FFFFFF;\n",
              "    }\n",
              "  </style>\n",
              "\n",
              "      <script>\n",
              "        const buttonEl =\n",
              "          document.querySelector('#df-21d39074-af48-44f4-a52c-3ae1f1662af1 button.colab-df-convert');\n",
              "        buttonEl.style.display =\n",
              "          google.colab.kernel.accessAllowed ? 'block' : 'none';\n",
              "\n",
              "        async function convertToInteractive(key) {\n",
              "          const element = document.querySelector('#df-21d39074-af48-44f4-a52c-3ae1f1662af1');\n",
              "          const dataTable =\n",
              "            await google.colab.kernel.invokeFunction('convertToInteractive',\n",
              "                                                     [key], {});\n",
              "          if (!dataTable) return;\n",
              "\n",
              "          const docLinkHtml = 'Like what you see? Visit the ' +\n",
              "            '<a target=\"_blank\" href=https://colab.research.google.com/notebooks/data_table.ipynb>data table notebook</a>'\n",
              "            + ' to learn more about interactive tables.';\n",
              "          element.innerHTML = '';\n",
              "          dataTable['output_type'] = 'display_data';\n",
              "          await google.colab.output.renderOutput(dataTable, element);\n",
              "          const docLink = document.createElement('div');\n",
              "          docLink.innerHTML = docLinkHtml;\n",
              "          element.appendChild(docLink);\n",
              "        }\n",
              "      </script>\n",
              "    </div>\n",
              "  </div>\n",
              "  "
            ]
          },
          "metadata": {},
          "execution_count": 44
        }
      ],
      "source": [
        "shap_feature_importance(tree_values, x_train)"
      ]
    },
    {
      "cell_type": "code",
      "source": [
        "x_train.shape"
      ],
      "metadata": {
        "colab": {
          "base_uri": "https://localhost:8080/"
        },
        "id": "n50uteWyBlD0",
        "outputId": "b6fc1f1b-1c24-44ec-be96-27751f3957a8"
      },
      "execution_count": null,
      "outputs": [
        {
          "output_type": "execute_result",
          "data": {
            "text/plain": [
              "(40734, 12)"
            ]
          },
          "metadata": {},
          "execution_count": 49
        }
      ]
    },
    {
      "cell_type": "code",
      "execution_count": null,
      "metadata": {
        "id": "IXG0_jlXpRB_"
      },
      "outputs": [],
      "source": [
        "# Create a SHAP explainer object\n",
        "explainer = shap.Explainer(model_xgb, x_train)"
      ]
    },
    {
      "cell_type": "code",
      "execution_count": null,
      "metadata": {
        "colab": {
          "base_uri": "https://localhost:8080/"
        },
        "id": "tiCNtBBnpQ_Q",
        "outputId": "b98c7a5b-ead1-4dc0-88a5-8ca7cce5002e"
      },
      "outputs": [
        {
          "output_type": "stream",
          "name": "stderr",
          "text": [
            "100%|===================| 122167/122202 [26:35<00:00]       "
          ]
        }
      ],
      "source": [
        "# Compute SHAP values\n",
        "shap_values = explainer.shap_values(x_train)"
      ]
    },
    {
      "cell_type": "code",
      "source": [
        "shap_values_np = np.array(shap_values)"
      ],
      "metadata": {
        "id": "6TMOCkb8Cf7X"
      },
      "execution_count": null,
      "outputs": []
    },
    {
      "cell_type": "code",
      "source": [
        "feature_importance = pd.DataFrame({'Feature': aa, 'Importance': np.mean(shap_values_reshaped, axis=0)})"
      ],
      "metadata": {
        "colab": {
          "base_uri": "https://localhost:8080/",
          "height": 313
        },
        "id": "a6k-9HxoC6gj",
        "outputId": "8f735042-6428-4a88-dc08-0733513e5903"
      },
      "execution_count": null,
      "outputs": [
        {
          "output_type": "error",
          "ename": "ValueError",
          "evalue": "ignored",
          "traceback": [
            "\u001b[0;31m---------------------------------------------------------------------------\u001b[0m",
            "\u001b[0;31mValueError\u001b[0m                                Traceback (most recent call last)",
            "\u001b[0;32m<ipython-input-101-1c3fb51bee7a>\u001b[0m in \u001b[0;36m<cell line: 1>\u001b[0;34m()\u001b[0m\n\u001b[0;32m----> 1\u001b[0;31m \u001b[0mfeature_importance\u001b[0m \u001b[0;34m=\u001b[0m \u001b[0mpd\u001b[0m\u001b[0;34m.\u001b[0m\u001b[0mDataFrame\u001b[0m\u001b[0;34m(\u001b[0m\u001b[0;34m{\u001b[0m\u001b[0;34m'Feature'\u001b[0m\u001b[0;34m:\u001b[0m \u001b[0maa\u001b[0m\u001b[0;34m,\u001b[0m \u001b[0;34m'Importance'\u001b[0m\u001b[0;34m:\u001b[0m \u001b[0mnp\u001b[0m\u001b[0;34m.\u001b[0m\u001b[0mmean\u001b[0m\u001b[0;34m(\u001b[0m\u001b[0mshap_values_reshaped\u001b[0m\u001b[0;34m,\u001b[0m \u001b[0maxis\u001b[0m\u001b[0;34m=\u001b[0m\u001b[0;36m0\u001b[0m\u001b[0;34m)\u001b[0m\u001b[0;34m}\u001b[0m\u001b[0;34m)\u001b[0m\u001b[0;34m\u001b[0m\u001b[0;34m\u001b[0m\u001b[0m\n\u001b[0m",
            "\u001b[0;32m/usr/local/lib/python3.10/dist-packages/pandas/core/frame.py\u001b[0m in \u001b[0;36m__init__\u001b[0;34m(self, data, index, columns, dtype, copy)\u001b[0m\n\u001b[1;32m    662\u001b[0m         \u001b[0;32melif\u001b[0m \u001b[0misinstance\u001b[0m\u001b[0;34m(\u001b[0m\u001b[0mdata\u001b[0m\u001b[0;34m,\u001b[0m \u001b[0mdict\u001b[0m\u001b[0;34m)\u001b[0m\u001b[0;34m:\u001b[0m\u001b[0;34m\u001b[0m\u001b[0;34m\u001b[0m\u001b[0m\n\u001b[1;32m    663\u001b[0m             \u001b[0;31m# GH#38939 de facto copy defaults to False only in non-dict cases\u001b[0m\u001b[0;34m\u001b[0m\u001b[0;34m\u001b[0m\u001b[0m\n\u001b[0;32m--> 664\u001b[0;31m             \u001b[0mmgr\u001b[0m \u001b[0;34m=\u001b[0m \u001b[0mdict_to_mgr\u001b[0m\u001b[0;34m(\u001b[0m\u001b[0mdata\u001b[0m\u001b[0;34m,\u001b[0m \u001b[0mindex\u001b[0m\u001b[0;34m,\u001b[0m \u001b[0mcolumns\u001b[0m\u001b[0;34m,\u001b[0m \u001b[0mdtype\u001b[0m\u001b[0;34m=\u001b[0m\u001b[0mdtype\u001b[0m\u001b[0;34m,\u001b[0m \u001b[0mcopy\u001b[0m\u001b[0;34m=\u001b[0m\u001b[0mcopy\u001b[0m\u001b[0;34m,\u001b[0m \u001b[0mtyp\u001b[0m\u001b[0;34m=\u001b[0m\u001b[0mmanager\u001b[0m\u001b[0;34m)\u001b[0m\u001b[0;34m\u001b[0m\u001b[0;34m\u001b[0m\u001b[0m\n\u001b[0m\u001b[1;32m    665\u001b[0m         \u001b[0;32melif\u001b[0m \u001b[0misinstance\u001b[0m\u001b[0;34m(\u001b[0m\u001b[0mdata\u001b[0m\u001b[0;34m,\u001b[0m \u001b[0mma\u001b[0m\u001b[0;34m.\u001b[0m\u001b[0mMaskedArray\u001b[0m\u001b[0;34m)\u001b[0m\u001b[0;34m:\u001b[0m\u001b[0;34m\u001b[0m\u001b[0;34m\u001b[0m\u001b[0m\n\u001b[1;32m    666\u001b[0m             \u001b[0;32mimport\u001b[0m \u001b[0mnumpy\u001b[0m\u001b[0;34m.\u001b[0m\u001b[0mma\u001b[0m\u001b[0;34m.\u001b[0m\u001b[0mmrecords\u001b[0m \u001b[0;32mas\u001b[0m \u001b[0mmrecords\u001b[0m\u001b[0;34m\u001b[0m\u001b[0;34m\u001b[0m\u001b[0m\n",
            "\u001b[0;32m/usr/local/lib/python3.10/dist-packages/pandas/core/internals/construction.py\u001b[0m in \u001b[0;36mdict_to_mgr\u001b[0;34m(data, index, columns, dtype, typ, copy)\u001b[0m\n\u001b[1;32m    491\u001b[0m             \u001b[0marrays\u001b[0m \u001b[0;34m=\u001b[0m \u001b[0;34m[\u001b[0m\u001b[0mx\u001b[0m\u001b[0;34m.\u001b[0m\u001b[0mcopy\u001b[0m\u001b[0;34m(\u001b[0m\u001b[0;34m)\u001b[0m \u001b[0;32mif\u001b[0m \u001b[0mhasattr\u001b[0m\u001b[0;34m(\u001b[0m\u001b[0mx\u001b[0m\u001b[0;34m,\u001b[0m \u001b[0;34m\"dtype\"\u001b[0m\u001b[0;34m)\u001b[0m \u001b[0;32melse\u001b[0m \u001b[0mx\u001b[0m \u001b[0;32mfor\u001b[0m \u001b[0mx\u001b[0m \u001b[0;32min\u001b[0m \u001b[0marrays\u001b[0m\u001b[0;34m]\u001b[0m\u001b[0;34m\u001b[0m\u001b[0;34m\u001b[0m\u001b[0m\n\u001b[1;32m    492\u001b[0m \u001b[0;34m\u001b[0m\u001b[0m\n\u001b[0;32m--> 493\u001b[0;31m     \u001b[0;32mreturn\u001b[0m \u001b[0marrays_to_mgr\u001b[0m\u001b[0;34m(\u001b[0m\u001b[0marrays\u001b[0m\u001b[0;34m,\u001b[0m \u001b[0mcolumns\u001b[0m\u001b[0;34m,\u001b[0m \u001b[0mindex\u001b[0m\u001b[0;34m,\u001b[0m \u001b[0mdtype\u001b[0m\u001b[0;34m=\u001b[0m\u001b[0mdtype\u001b[0m\u001b[0;34m,\u001b[0m \u001b[0mtyp\u001b[0m\u001b[0;34m=\u001b[0m\u001b[0mtyp\u001b[0m\u001b[0;34m,\u001b[0m \u001b[0mconsolidate\u001b[0m\u001b[0;34m=\u001b[0m\u001b[0mcopy\u001b[0m\u001b[0;34m)\u001b[0m\u001b[0;34m\u001b[0m\u001b[0;34m\u001b[0m\u001b[0m\n\u001b[0m\u001b[1;32m    494\u001b[0m \u001b[0;34m\u001b[0m\u001b[0m\n\u001b[1;32m    495\u001b[0m \u001b[0;34m\u001b[0m\u001b[0m\n",
            "\u001b[0;32m/usr/local/lib/python3.10/dist-packages/pandas/core/internals/construction.py\u001b[0m in \u001b[0;36marrays_to_mgr\u001b[0;34m(arrays, columns, index, dtype, verify_integrity, typ, consolidate)\u001b[0m\n\u001b[1;32m    116\u001b[0m         \u001b[0;31m# figure out the index, if necessary\u001b[0m\u001b[0;34m\u001b[0m\u001b[0;34m\u001b[0m\u001b[0m\n\u001b[1;32m    117\u001b[0m         \u001b[0;32mif\u001b[0m \u001b[0mindex\u001b[0m \u001b[0;32mis\u001b[0m \u001b[0;32mNone\u001b[0m\u001b[0;34m:\u001b[0m\u001b[0;34m\u001b[0m\u001b[0;34m\u001b[0m\u001b[0m\n\u001b[0;32m--> 118\u001b[0;31m             \u001b[0mindex\u001b[0m \u001b[0;34m=\u001b[0m \u001b[0m_extract_index\u001b[0m\u001b[0;34m(\u001b[0m\u001b[0marrays\u001b[0m\u001b[0;34m)\u001b[0m\u001b[0;34m\u001b[0m\u001b[0;34m\u001b[0m\u001b[0m\n\u001b[0m\u001b[1;32m    119\u001b[0m         \u001b[0;32melse\u001b[0m\u001b[0;34m:\u001b[0m\u001b[0;34m\u001b[0m\u001b[0;34m\u001b[0m\u001b[0m\n\u001b[1;32m    120\u001b[0m             \u001b[0mindex\u001b[0m \u001b[0;34m=\u001b[0m \u001b[0mensure_index\u001b[0m\u001b[0;34m(\u001b[0m\u001b[0mindex\u001b[0m\u001b[0;34m)\u001b[0m\u001b[0;34m\u001b[0m\u001b[0;34m\u001b[0m\u001b[0m\n",
            "\u001b[0;32m/usr/local/lib/python3.10/dist-packages/pandas/core/internals/construction.py\u001b[0m in \u001b[0;36m_extract_index\u001b[0;34m(data)\u001b[0m\n\u001b[1;32m    651\u001b[0m                 \u001b[0mraw_lengths\u001b[0m\u001b[0;34m.\u001b[0m\u001b[0mappend\u001b[0m\u001b[0;34m(\u001b[0m\u001b[0mlen\u001b[0m\u001b[0;34m(\u001b[0m\u001b[0mval\u001b[0m\u001b[0;34m)\u001b[0m\u001b[0;34m)\u001b[0m\u001b[0;34m\u001b[0m\u001b[0;34m\u001b[0m\u001b[0m\n\u001b[1;32m    652\u001b[0m             \u001b[0;32melif\u001b[0m \u001b[0misinstance\u001b[0m\u001b[0;34m(\u001b[0m\u001b[0mval\u001b[0m\u001b[0;34m,\u001b[0m \u001b[0mnp\u001b[0m\u001b[0;34m.\u001b[0m\u001b[0mndarray\u001b[0m\u001b[0;34m)\u001b[0m \u001b[0;32mand\u001b[0m \u001b[0mval\u001b[0m\u001b[0;34m.\u001b[0m\u001b[0mndim\u001b[0m \u001b[0;34m>\u001b[0m \u001b[0;36m1\u001b[0m\u001b[0;34m:\u001b[0m\u001b[0;34m\u001b[0m\u001b[0;34m\u001b[0m\u001b[0m\n\u001b[0;32m--> 653\u001b[0;31m                 \u001b[0;32mraise\u001b[0m \u001b[0mValueError\u001b[0m\u001b[0;34m(\u001b[0m\u001b[0;34m\"Per-column arrays must each be 1-dimensional\"\u001b[0m\u001b[0;34m)\u001b[0m\u001b[0;34m\u001b[0m\u001b[0;34m\u001b[0m\u001b[0m\n\u001b[0m\u001b[1;32m    654\u001b[0m \u001b[0;34m\u001b[0m\u001b[0m\n\u001b[1;32m    655\u001b[0m         \u001b[0;32mif\u001b[0m \u001b[0;32mnot\u001b[0m \u001b[0mindexes\u001b[0m \u001b[0;32mand\u001b[0m \u001b[0;32mnot\u001b[0m \u001b[0mraw_lengths\u001b[0m\u001b[0;34m:\u001b[0m\u001b[0;34m\u001b[0m\u001b[0;34m\u001b[0m\u001b[0m\n",
            "\u001b[0;31mValueError\u001b[0m: Per-column arrays must each be 1-dimensional"
          ]
        }
      ]
    },
    {
      "cell_type": "code",
      "execution_count": null,
      "metadata": {
        "id": "6D7_Yca8pQ9E",
        "colab": {
          "base_uri": "https://localhost:8080/",
          "height": 330
        },
        "outputId": "8b16e007-108a-406b-b399-3def00e7a269"
      },
      "outputs": [
        {
          "output_type": "error",
          "ename": "ValueError",
          "evalue": "ignored",
          "traceback": [
            "\u001b[0;31m---------------------------------------------------------------------------\u001b[0m",
            "\u001b[0;31mValueError\u001b[0m                                Traceback (most recent call last)",
            "\u001b[0;32m<ipython-input-58-0fb4cf519bf5>\u001b[0m in \u001b[0;36m<cell line: 2>\u001b[0;34m()\u001b[0m\n\u001b[1;32m      1\u001b[0m \u001b[0;31m# Calculate feature importance as absolute mean SHAP values\u001b[0m\u001b[0;34m\u001b[0m\u001b[0;34m\u001b[0m\u001b[0m\n\u001b[0;32m----> 2\u001b[0;31m \u001b[0mfeature_importance\u001b[0m \u001b[0;34m=\u001b[0m \u001b[0mpd\u001b[0m\u001b[0;34m.\u001b[0m\u001b[0mDataFrame\u001b[0m\u001b[0;34m(\u001b[0m\u001b[0;34m{\u001b[0m\u001b[0;34m'Feature'\u001b[0m\u001b[0;34m:\u001b[0m \u001b[0mx_train\u001b[0m\u001b[0;34m.\u001b[0m\u001b[0mcolumns\u001b[0m\u001b[0;34m,\u001b[0m \u001b[0;34m'Importance'\u001b[0m\u001b[0;34m:\u001b[0m \u001b[0mshap_values_np\u001b[0m\u001b[0;34m.\u001b[0m\u001b[0mmean\u001b[0m\u001b[0;34m(\u001b[0m\u001b[0maxis\u001b[0m\u001b[0;34m=\u001b[0m\u001b[0;36m1\u001b[0m\u001b[0;34m)\u001b[0m\u001b[0;34m}\u001b[0m\u001b[0;34m)\u001b[0m\u001b[0;34m\u001b[0m\u001b[0;34m\u001b[0m\u001b[0m\n\u001b[0m",
            "\u001b[0;32m/usr/local/lib/python3.10/dist-packages/pandas/core/frame.py\u001b[0m in \u001b[0;36m__init__\u001b[0;34m(self, data, index, columns, dtype, copy)\u001b[0m\n\u001b[1;32m    662\u001b[0m         \u001b[0;32melif\u001b[0m \u001b[0misinstance\u001b[0m\u001b[0;34m(\u001b[0m\u001b[0mdata\u001b[0m\u001b[0;34m,\u001b[0m \u001b[0mdict\u001b[0m\u001b[0;34m)\u001b[0m\u001b[0;34m:\u001b[0m\u001b[0;34m\u001b[0m\u001b[0;34m\u001b[0m\u001b[0m\n\u001b[1;32m    663\u001b[0m             \u001b[0;31m# GH#38939 de facto copy defaults to False only in non-dict cases\u001b[0m\u001b[0;34m\u001b[0m\u001b[0;34m\u001b[0m\u001b[0m\n\u001b[0;32m--> 664\u001b[0;31m             \u001b[0mmgr\u001b[0m \u001b[0;34m=\u001b[0m \u001b[0mdict_to_mgr\u001b[0m\u001b[0;34m(\u001b[0m\u001b[0mdata\u001b[0m\u001b[0;34m,\u001b[0m \u001b[0mindex\u001b[0m\u001b[0;34m,\u001b[0m \u001b[0mcolumns\u001b[0m\u001b[0;34m,\u001b[0m \u001b[0mdtype\u001b[0m\u001b[0;34m=\u001b[0m\u001b[0mdtype\u001b[0m\u001b[0;34m,\u001b[0m \u001b[0mcopy\u001b[0m\u001b[0;34m=\u001b[0m\u001b[0mcopy\u001b[0m\u001b[0;34m,\u001b[0m \u001b[0mtyp\u001b[0m\u001b[0;34m=\u001b[0m\u001b[0mmanager\u001b[0m\u001b[0;34m)\u001b[0m\u001b[0;34m\u001b[0m\u001b[0;34m\u001b[0m\u001b[0m\n\u001b[0m\u001b[1;32m    665\u001b[0m         \u001b[0;32melif\u001b[0m \u001b[0misinstance\u001b[0m\u001b[0;34m(\u001b[0m\u001b[0mdata\u001b[0m\u001b[0;34m,\u001b[0m \u001b[0mma\u001b[0m\u001b[0;34m.\u001b[0m\u001b[0mMaskedArray\u001b[0m\u001b[0;34m)\u001b[0m\u001b[0;34m:\u001b[0m\u001b[0;34m\u001b[0m\u001b[0;34m\u001b[0m\u001b[0m\n\u001b[1;32m    666\u001b[0m             \u001b[0;32mimport\u001b[0m \u001b[0mnumpy\u001b[0m\u001b[0;34m.\u001b[0m\u001b[0mma\u001b[0m\u001b[0;34m.\u001b[0m\u001b[0mmrecords\u001b[0m \u001b[0;32mas\u001b[0m \u001b[0mmrecords\u001b[0m\u001b[0;34m\u001b[0m\u001b[0;34m\u001b[0m\u001b[0m\n",
            "\u001b[0;32m/usr/local/lib/python3.10/dist-packages/pandas/core/internals/construction.py\u001b[0m in \u001b[0;36mdict_to_mgr\u001b[0;34m(data, index, columns, dtype, typ, copy)\u001b[0m\n\u001b[1;32m    491\u001b[0m             \u001b[0marrays\u001b[0m \u001b[0;34m=\u001b[0m \u001b[0;34m[\u001b[0m\u001b[0mx\u001b[0m\u001b[0;34m.\u001b[0m\u001b[0mcopy\u001b[0m\u001b[0;34m(\u001b[0m\u001b[0;34m)\u001b[0m \u001b[0;32mif\u001b[0m \u001b[0mhasattr\u001b[0m\u001b[0;34m(\u001b[0m\u001b[0mx\u001b[0m\u001b[0;34m,\u001b[0m \u001b[0;34m\"dtype\"\u001b[0m\u001b[0;34m)\u001b[0m \u001b[0;32melse\u001b[0m \u001b[0mx\u001b[0m \u001b[0;32mfor\u001b[0m \u001b[0mx\u001b[0m \u001b[0;32min\u001b[0m \u001b[0marrays\u001b[0m\u001b[0;34m]\u001b[0m\u001b[0;34m\u001b[0m\u001b[0;34m\u001b[0m\u001b[0m\n\u001b[1;32m    492\u001b[0m \u001b[0;34m\u001b[0m\u001b[0m\n\u001b[0;32m--> 493\u001b[0;31m     \u001b[0;32mreturn\u001b[0m \u001b[0marrays_to_mgr\u001b[0m\u001b[0;34m(\u001b[0m\u001b[0marrays\u001b[0m\u001b[0;34m,\u001b[0m \u001b[0mcolumns\u001b[0m\u001b[0;34m,\u001b[0m \u001b[0mindex\u001b[0m\u001b[0;34m,\u001b[0m \u001b[0mdtype\u001b[0m\u001b[0;34m=\u001b[0m\u001b[0mdtype\u001b[0m\u001b[0;34m,\u001b[0m \u001b[0mtyp\u001b[0m\u001b[0;34m=\u001b[0m\u001b[0mtyp\u001b[0m\u001b[0;34m,\u001b[0m \u001b[0mconsolidate\u001b[0m\u001b[0;34m=\u001b[0m\u001b[0mcopy\u001b[0m\u001b[0;34m)\u001b[0m\u001b[0;34m\u001b[0m\u001b[0;34m\u001b[0m\u001b[0m\n\u001b[0m\u001b[1;32m    494\u001b[0m \u001b[0;34m\u001b[0m\u001b[0m\n\u001b[1;32m    495\u001b[0m \u001b[0;34m\u001b[0m\u001b[0m\n",
            "\u001b[0;32m/usr/local/lib/python3.10/dist-packages/pandas/core/internals/construction.py\u001b[0m in \u001b[0;36marrays_to_mgr\u001b[0;34m(arrays, columns, index, dtype, verify_integrity, typ, consolidate)\u001b[0m\n\u001b[1;32m    116\u001b[0m         \u001b[0;31m# figure out the index, if necessary\u001b[0m\u001b[0;34m\u001b[0m\u001b[0;34m\u001b[0m\u001b[0m\n\u001b[1;32m    117\u001b[0m         \u001b[0;32mif\u001b[0m \u001b[0mindex\u001b[0m \u001b[0;32mis\u001b[0m \u001b[0;32mNone\u001b[0m\u001b[0;34m:\u001b[0m\u001b[0;34m\u001b[0m\u001b[0;34m\u001b[0m\u001b[0m\n\u001b[0;32m--> 118\u001b[0;31m             \u001b[0mindex\u001b[0m \u001b[0;34m=\u001b[0m \u001b[0m_extract_index\u001b[0m\u001b[0;34m(\u001b[0m\u001b[0marrays\u001b[0m\u001b[0;34m)\u001b[0m\u001b[0;34m\u001b[0m\u001b[0;34m\u001b[0m\u001b[0m\n\u001b[0m\u001b[1;32m    119\u001b[0m         \u001b[0;32melse\u001b[0m\u001b[0;34m:\u001b[0m\u001b[0;34m\u001b[0m\u001b[0;34m\u001b[0m\u001b[0m\n\u001b[1;32m    120\u001b[0m             \u001b[0mindex\u001b[0m \u001b[0;34m=\u001b[0m \u001b[0mensure_index\u001b[0m\u001b[0;34m(\u001b[0m\u001b[0mindex\u001b[0m\u001b[0;34m)\u001b[0m\u001b[0;34m\u001b[0m\u001b[0;34m\u001b[0m\u001b[0m\n",
            "\u001b[0;32m/usr/local/lib/python3.10/dist-packages/pandas/core/internals/construction.py\u001b[0m in \u001b[0;36m_extract_index\u001b[0;34m(data)\u001b[0m\n\u001b[1;32m    651\u001b[0m                 \u001b[0mraw_lengths\u001b[0m\u001b[0;34m.\u001b[0m\u001b[0mappend\u001b[0m\u001b[0;34m(\u001b[0m\u001b[0mlen\u001b[0m\u001b[0;34m(\u001b[0m\u001b[0mval\u001b[0m\u001b[0;34m)\u001b[0m\u001b[0;34m)\u001b[0m\u001b[0;34m\u001b[0m\u001b[0;34m\u001b[0m\u001b[0m\n\u001b[1;32m    652\u001b[0m             \u001b[0;32melif\u001b[0m \u001b[0misinstance\u001b[0m\u001b[0;34m(\u001b[0m\u001b[0mval\u001b[0m\u001b[0;34m,\u001b[0m \u001b[0mnp\u001b[0m\u001b[0;34m.\u001b[0m\u001b[0mndarray\u001b[0m\u001b[0;34m)\u001b[0m \u001b[0;32mand\u001b[0m \u001b[0mval\u001b[0m\u001b[0;34m.\u001b[0m\u001b[0mndim\u001b[0m \u001b[0;34m>\u001b[0m \u001b[0;36m1\u001b[0m\u001b[0;34m:\u001b[0m\u001b[0;34m\u001b[0m\u001b[0;34m\u001b[0m\u001b[0m\n\u001b[0;32m--> 653\u001b[0;31m                 \u001b[0;32mraise\u001b[0m \u001b[0mValueError\u001b[0m\u001b[0;34m(\u001b[0m\u001b[0;34m\"Per-column arrays must each be 1-dimensional\"\u001b[0m\u001b[0;34m)\u001b[0m\u001b[0;34m\u001b[0m\u001b[0;34m\u001b[0m\u001b[0m\n\u001b[0m\u001b[1;32m    654\u001b[0m \u001b[0;34m\u001b[0m\u001b[0m\n\u001b[1;32m    655\u001b[0m         \u001b[0;32mif\u001b[0m \u001b[0;32mnot\u001b[0m \u001b[0mindexes\u001b[0m \u001b[0;32mand\u001b[0m \u001b[0;32mnot\u001b[0m \u001b[0mraw_lengths\u001b[0m\u001b[0;34m:\u001b[0m\u001b[0;34m\u001b[0m\u001b[0;34m\u001b[0m\u001b[0m\n",
            "\u001b[0;31mValueError\u001b[0m: Per-column arrays must each be 1-dimensional"
          ]
        }
      ],
      "source": [
        "# Calculate feature importance as absolute mean SHAP values\n",
        "feature_importance = pd.DataFrame({'Feature': x_train.columns, 'Importance': shap_values_np.mean(axis=1)})"
      ]
    },
    {
      "cell_type": "code",
      "execution_count": null,
      "metadata": {
        "id": "LwHg_cx3pQ6k"
      },
      "outputs": [],
      "source": [
        "# Sort the feature importance in descending order\n",
        "feature_importance = feature_importance.sort_values(by='Importance', ascending=False)\n",
        "\n"
      ]
    },
    {
      "cell_type": "code",
      "execution_count": null,
      "metadata": {
        "id": "MUXuuQr5vj2a"
      },
      "outputs": [],
      "source": [
        "# Display the feature importance dataframe\n",
        "print(feature_importance)"
      ]
    },
    {
      "cell_type": "code",
      "execution_count": null,
      "metadata": {
        "id": "oiCwxOLdhocR"
      },
      "outputs": [],
      "source": [
        "explainer = shap.Explainer(model_xgb,x_train)"
      ]
    },
    {
      "cell_type": "code",
      "execution_count": null,
      "metadata": {
        "colab": {
          "base_uri": "https://localhost:8080/"
        },
        "id": "3PxZk_6hhoX1",
        "outputId": "8d2fd256-ea3a-4c35-d760-8978892eb8a7"
      },
      "outputs": [
        {
          "output_type": "stream",
          "name": "stderr",
          "text": [
            "100%|===================| 60173/60192 [13:04<00:00]       "
          ]
        }
      ],
      "source": [
        "#X_test = X_train[:10]  # Example test data\n",
        "shap_values = explainer.shap_values(x_test)"
      ]
    },
    {
      "cell_type": "code",
      "execution_count": null,
      "metadata": {
        "colab": {
          "base_uri": "https://localhost:8080/",
          "height": 631
        },
        "id": "W82JWVYrhoUX",
        "outputId": "142f7940-361a-4a6c-812c-60a57f38425d"
      },
      "outputs": [
        {
          "output_type": "display_data",
          "data": {
            "text/plain": [
              "<Figure size 800x630 with 1 Axes>"
            ],
            "image/png": "[encoded data removed]"
          },
          "metadata": {}
        }
      ],
      "source": [
        "shap.summary_plot(shap_values, x_test)"
      ]
    },
    {
      "cell_type": "code",
      "execution_count": null,
      "metadata": {
        "id": "75bkXIUEUfCi"
      },
      "outputs": [],
      "source": [
        "def shap_feature_importance_plot(values, X):\n",
        "    shap.summary_plot(tree_values, X)\n",
        "    return"
      ]
    },
    {
      "cell_type": "code",
      "execution_count": null,
      "metadata": {
        "colab": {
          "base_uri": "https://localhost:8080/",
          "height": 631
        },
        "id": "znM34m3rVDCl",
        "outputId": "3cc31d2d-10ff-44b3-9e2c-8606ba97251d"
      },
      "outputs": [
        {
          "output_type": "display_data",
          "data": {
            "text/plain": [
              "<Figure size 800x630 with 1 Axes>"
            ],
            "image/png": "[encoded data removed]"
          },
          "metadata": {}
        }
      ],
      "source": [
        "shap_feature_importance_plot(tree_values, x_train)"
      ]
    },
    {
      "cell_type": "code",
      "source": [
        "tree_explainer = shap.TreeExplainer(model_xgb)"
      ],
      "metadata": {
        "id": "XYoD1KrpqasS"
      },
      "execution_count": 54,
      "outputs": []
    },
    {
      "cell_type": "code",
      "source": [
        "tree_values = tree_explainer.shap_values(x_train)"
      ],
      "metadata": {
        "id": "YgK_P9Lyqn9p"
      },
      "execution_count": 57,
      "outputs": []
    },
    {
      "cell_type": "code",
      "source": [
        "def shap_force_plot(explainer, values, X):\n",
        "    \"\"\"\n",
        "    shap_value can be an element of explainer.shap_values(train_X) or subset\n",
        "    \"\"\"\n",
        "    shap.initjs()\n",
        "    display(shap.force_plot(explainer.expected_value, values, X))\n",
        "    return\n"
      ],
      "metadata": {
        "id": "hssphvIpptRi"
      },
      "execution_count": 58,
      "outputs": []
    },
    {
      "cell_type": "code",
      "execution_count": 65,
      "metadata": {
        "colab": {
          "base_uri": "https://localhost:8080/",
          "height": 237
        },
        "id": "__wnt5umYste",
        "outputId": "4d52f81c-3171-4780-81fb-5ea01c9fa963"
      },
      "outputs": [
        {
          "output_type": "stream",
          "name": "stdout",
          "text": [
            "Real value is : 1\n",
            "Predicted value is : 1\n"
          ]
        },
        {
          "output_type": "error",
          "ename": "TypeError",
          "evalue": "ignored",
          "traceback": [
            "\u001b[0;31m---------------------------------------------------------------------------\u001b[0m",
            "\u001b[0;31mTypeError\u001b[0m                                 Traceback (most recent call last)",
            "\u001b[0;32m<ipython-input-65-293f7ef29479>\u001b[0m in \u001b[0;36m<cell line: 4>\u001b[0;34m()\u001b[0m\n\u001b[1;32m      2\u001b[0m \u001b[0mprint\u001b[0m\u001b[0;34m(\u001b[0m\u001b[0;34m\"Real value is :\"\u001b[0m\u001b[0;34m,\u001b[0m\u001b[0my_train\u001b[0m\u001b[0;34m[\u001b[0m\u001b[0mindex\u001b[0m\u001b[0;34m]\u001b[0m\u001b[0;34m)\u001b[0m\u001b[0;34m\u001b[0m\u001b[0;34m\u001b[0m\u001b[0m\n\u001b[1;32m      3\u001b[0m \u001b[0mprint\u001b[0m\u001b[0;34m(\u001b[0m\u001b[0;34m\"Predicted value is :\"\u001b[0m\u001b[0;34m,\u001b[0m \u001b[0my_pred\u001b[0m\u001b[0;34m[\u001b[0m\u001b[0mindex\u001b[0m\u001b[0;34m]\u001b[0m\u001b[0;34m)\u001b[0m\u001b[0;34m\u001b[0m\u001b[0;34m\u001b[0m\u001b[0m\n\u001b[0;32m----> 4\u001b[0;31m \u001b[0mshap_force_plot\u001b[0m\u001b[0;34m(\u001b[0m\u001b[0mtree_explainer\u001b[0m\u001b[0;34m,\u001b[0m \u001b[0mtree_values\u001b[0m\u001b[0;34m[\u001b[0m\u001b[0mindex\u001b[0m\u001b[0;34m,\u001b[0m\u001b[0;34m:\u001b[0m\u001b[0;34m]\u001b[0m\u001b[0;34m,\u001b[0m \u001b[0mX_train\u001b[0m\u001b[0;34m.\u001b[0m\u001b[0miloc\u001b[0m\u001b[0;34m[\u001b[0m\u001b[0mindex\u001b[0m\u001b[0;34m,\u001b[0m\u001b[0;34m:\u001b[0m\u001b[0;34m]\u001b[0m\u001b[0;34m)\u001b[0m\u001b[0;34m\u001b[0m\u001b[0;34m\u001b[0m\u001b[0m\n\u001b[0m",
            "\u001b[0;31mTypeError\u001b[0m: list indices must be integers or slices, not tuple"
          ]
        }
      ],
      "source": [
        "index = 3\n",
        "print(\"Real value is :\",y_train[index])\n",
        "print(\"Predicted value is :\", y_pred[index])\n",
        "shap_force_plot(tree_explainer, tree_values[index,:], X_train.iloc[index,:])"
      ]
    },
    {
      "cell_type": "code",
      "execution_count": null,
      "metadata": {
        "id": "1c3o4xsDVEOv"
      },
      "outputs": [],
      "source": [
        "def shap_feature_importance(values, X):\n",
        "    shap_sum = np.abs(values).mean(axis=0)\n",
        "    importance_df = pd.DataFrame([X.columns.tolist(), shap_sum.tolist()]).T\n",
        "    importance_df.columns = ['column_name', 'shap_importance']\n",
        "    importance_df = importance_df.sort_values('shap_importance', ascending=False)\n",
        "    return importance_df \n"
      ]
    },
    {
      "cell_type": "code",
      "execution_count": null,
      "metadata": {
        "id": "5CJfbAgoq15B"
      },
      "outputs": [],
      "source": [
        "shap_feature_importance(tree_values, X_train)"
      ]
    },
    {
      "cell_type": "code",
      "source": [
        "def shap_feature_importance(values, X):\n",
        "    shap_sum = np.abs(values).mean(axis=0)\n",
        "    importance_df = pd.DataFrame([X.columns.tolist(), shap_sum.tolist()]).T\n",
        "    importance_df.columns = ['column_name', 'shap_importance']\n",
        "    importance_df = importance_df.sort_values('shap_importance', ascending=False)\n",
        "    return importance_df "
      ],
      "metadata": {
        "id": "TaJJY1ituud-"
      },
      "execution_count": 70,
      "outputs": []
    },
    {
      "cell_type": "code",
      "source": [
        "shap_feature_importance(tree_values, x_train)"
      ],
      "metadata": {
        "colab": {
          "base_uri": "https://localhost:8080/",
          "height": 424
        },
        "id": "FHN-KoSJu4jo",
        "outputId": "28548e8a-a4e5-4341-b0d3-5853c2696c40"
      },
      "execution_count": 71,
      "outputs": [
        {
          "output_type": "execute_result",
          "data": {
            "text/plain": [
              "      column_name                                    shap_importance\n",
              "32181        None  [0.876227080821991, 0.07581447809934616, 0.103...\n",
              "17980        None  [0.7998425364494324, 0.037973854690790176, 0.0...\n",
              "5017         None  [0.7631092071533203, 0.031687427312135696, 0.0...\n",
              "19008        None  [0.7555252909660339, 0.02595943957567215, 0.15...\n",
              "12936        None  [0.7548548579216003, 0.0751953199505806, 0.128...\n",
              "...           ...                                                ...\n",
              "20238        None  [0.00218165572732687, 0.05677661672234535, 0.0...\n",
              "4648         None  [0.00218165572732687, 0.05677661672234535, 0.0...\n",
              "26661        None  [0.00218165572732687, 0.05677661672234535, 0.0...\n",
              "22103        None  [0.00218165572732687, 0.05677661672234535, 0.0...\n",
              "14596        None  [0.00218165572732687, 0.05677661672234535, 0.0...\n",
              "\n",
              "[40734 rows x 2 columns]"
            ],
            "text/html": [
              "\n",
              "  <div id=\"df-0c7a88a5-a37b-4cd4-b9d9-5171f4af72ea\">\n",
              "    <div class=\"colab-df-container\">\n",
              "      <div>\n",
              "<style scoped>\n",
              "    .dataframe tbody tr th:only-of-type {\n",
              "        vertical-align: middle;\n",
              "    }\n",
              "\n",
              "    .dataframe tbody tr th {\n",
              "        vertical-align: top;\n",
              "    }\n",
              "\n",
              "    .dataframe thead th {\n",
              "        text-align: right;\n",
              "    }\n",
              "</style>\n",
              "<table border=\"1\" class=\"dataframe\">\n",
              "  <thead>\n",
              "    <tr style=\"text-align: right;\">\n",
              "      <th></th>\n",
              "      <th>column_name</th>\n",
              "      <th>shap_importance</th>\n",
              "    </tr>\n",
              "  </thead>\n",
              "  <tbody>\n",
              "    <tr>\n",
              "      <th>32181</th>\n",
              "      <td>None</td>\n",
              "      <td>[0.876227080821991, 0.07581447809934616, 0.103...</td>\n",
              "    </tr>\n",
              "    <tr>\n",
              "      <th>17980</th>\n",
              "      <td>None</td>\n",
              "      <td>[0.7998425364494324, 0.037973854690790176, 0.0...</td>\n",
              "    </tr>\n",
              "    <tr>\n",
              "      <th>5017</th>\n",
              "      <td>None</td>\n",
              "      <td>[0.7631092071533203, 0.031687427312135696, 0.0...</td>\n",
              "    </tr>\n",
              "    <tr>\n",
              "      <th>19008</th>\n",
              "      <td>None</td>\n",
              "      <td>[0.7555252909660339, 0.02595943957567215, 0.15...</td>\n",
              "    </tr>\n",
              "    <tr>\n",
              "      <th>12936</th>\n",
              "      <td>None</td>\n",
              "      <td>[0.7548548579216003, 0.0751953199505806, 0.128...</td>\n",
              "    </tr>\n",
              "    <tr>\n",
              "      <th>...</th>\n",
              "      <td>...</td>\n",
              "      <td>...</td>\n",
              "    </tr>\n",
              "    <tr>\n",
              "      <th>20238</th>\n",
              "      <td>None</td>\n",
              "      <td>[0.00218165572732687, 0.05677661672234535, 0.0...</td>\n",
              "    </tr>\n",
              "    <tr>\n",
              "      <th>4648</th>\n",
              "      <td>None</td>\n",
              "      <td>[0.00218165572732687, 0.05677661672234535, 0.0...</td>\n",
              "    </tr>\n",
              "    <tr>\n",
              "      <th>26661</th>\n",
              "      <td>None</td>\n",
              "      <td>[0.00218165572732687, 0.05677661672234535, 0.0...</td>\n",
              "    </tr>\n",
              "    <tr>\n",
              "      <th>22103</th>\n",
              "      <td>None</td>\n",
              "      <td>[0.00218165572732687, 0.05677661672234535, 0.0...</td>\n",
              "    </tr>\n",
              "    <tr>\n",
              "      <th>14596</th>\n",
              "      <td>None</td>\n",
              "      <td>[0.00218165572732687, 0.05677661672234535, 0.0...</td>\n",
              "    </tr>\n",
              "  </tbody>\n",
              "</table>\n",
              "<p>40734 rows × 2 columns</p>\n",
              "</div>\n",
              "      <button class=\"colab-df-convert\" onclick=\"convertToInteractive('df-0c7a88a5-a37b-4cd4-b9d9-5171f4af72ea')\"\n",
              "              title=\"Convert this dataframe to an interactive table.\"\n",
              "              style=\"display:none;\">\n",
              "        \n",
              "  <svg xmlns=\"http://www.w3.org/2000/svg\" height=\"24px\"viewBox=\"0 0 24 24\"\n",
              "       width=\"24px\">\n",
              "    <path d=\"M0 0h24v24H0V0z\" fill=\"none\"/>\n",
              "    <path d=\"M18.56 5.44l.94 2.06.94-2.06 2.06-.94-2.06-.94-.94-2.06-.94 2.06-2.06.94zm-11 1L8.5 8.5l.94-2.06 2.06-.94-2.06-.94L8.5 2.5l-.94 2.06-2.06.94zm10 10l.94 2.06.94-2.06 2.06-.94-2.06-.94-.94-2.06-.94 2.06-2.06.94z\"/><path d=\"M17.41 7.96l-1.37-1.37c-.4-.4-.92-.59-1.43-.59-.52 0-1.04.2-1.43.59L10.3 9.45l-7.72 7.72c-.78.78-.78 2.05 0 2.83L4 21.41c.39.39.9.59 1.41.59.51 0 1.02-.2 1.41-.59l7.78-7.78 2.81-2.81c.8-.78.8-2.07 0-2.86zM5.41 20L4 18.59l7.72-7.72 1.47 1.35L5.41 20z\"/>\n",
              "  </svg>\n",
              "      </button>\n",
              "      \n",
              "  <style>\n",
              "    .colab-df-container {\n",
              "      display:flex;\n",
              "      flex-wrap:wrap;\n",
              "      gap: 12px;\n",
              "    }\n",
              "\n",
              "    .colab-df-convert {\n",
              "      background-color: #E8F0FE;\n",
              "      border: none;\n",
              "      border-radius: 50%;\n",
              "      cursor: pointer;\n",
              "      display: none;\n",
              "      fill: #1967D2;\n",
              "      height: 32px;\n",
              "      padding: 0 0 0 0;\n",
              "      width: 32px;\n",
              "    }\n",
              "\n",
              "    .colab-df-convert:hover {\n",
              "      background-color: #E2EBFA;\n",
              "      box-shadow: 0px 1px 2px rgba(60, 64, 67, 0.3), 0px 1px 3px 1px rgba(60, 64, 67, 0.15);\n",
              "      fill: #174EA6;\n",
              "    }\n",
              "\n",
              "    [theme=dark] .colab-df-convert {\n",
              "      background-color: #3B4455;\n",
              "      fill: #D2E3FC;\n",
              "    }\n",
              "\n",
              "    [theme=dark] .colab-df-convert:hover {\n",
              "      background-color: #434B5C;\n",
              "      box-shadow: 0px 1px 3px 1px rgba(0, 0, 0, 0.15);\n",
              "      filter: drop-shadow(0px 1px 2px rgba(0, 0, 0, 0.3));\n",
              "      fill: #FFFFFF;\n",
              "    }\n",
              "  </style>\n",
              "\n",
              "      <script>\n",
              "        const buttonEl =\n",
              "          document.querySelector('#df-0c7a88a5-a37b-4cd4-b9d9-5171f4af72ea button.colab-df-convert');\n",
              "        buttonEl.style.display =\n",
              "          google.colab.kernel.accessAllowed ? 'block' : 'none';\n",
              "\n",
              "        async function convertToInteractive(key) {\n",
              "          const element = document.querySelector('#df-0c7a88a5-a37b-4cd4-b9d9-5171f4af72ea');\n",
              "          const dataTable =\n",
              "            await google.colab.kernel.invokeFunction('convertToInteractive',\n",
              "                                                     [key], {});\n",
              "          if (!dataTable) return;\n",
              "\n",
              "          const docLinkHtml = 'Like what you see? Visit the ' +\n",
              "            '<a target=\"_blank\" href=https://colab.research.google.com/notebooks/data_table.ipynb>data table notebook</a>'\n",
              "            + ' to learn more about interactive tables.';\n",
              "          element.innerHTML = '';\n",
              "          dataTable['output_type'] = 'display_data';\n",
              "          await google.colab.output.renderOutput(dataTable, element);\n",
              "          const docLink = document.createElement('div');\n",
              "          docLink.innerHTML = docLinkHtml;\n",
              "          element.appendChild(docLink);\n",
              "        }\n",
              "      </script>\n",
              "    </div>\n",
              "  </div>\n",
              "  "
            ]
          },
          "metadata": {},
          "execution_count": 71
        }
      ]
    },
    {
      "cell_type": "code",
      "execution_count": 72,
      "metadata": {
        "id": "7da101duYc5U"
      },
      "outputs": [],
      "source": [
        "\n",
        "def shap_dependance_plot(feature1, values, X, feature2 = None):\n",
        "    if feature2 is None:\n",
        "        shap.dependence_plot(feature1, values, X)\n",
        "    else :\n",
        "        shap.dependence_plot(feature1, values, X, interaction_index=feature2)\n",
        "    return\n"
      ]
    },
    {
      "cell_type": "code",
      "source": [
        "for feature in shap_feature_importance(tree_values, x_train).column_name.tolist():\n",
        "    shap_dependance_plot(feature, tree_values, X_train)"
      ],
      "metadata": {
        "colab": {
          "base_uri": "https://localhost:8080/",
          "height": 365
        },
        "id": "XXkOksfiufGu",
        "outputId": "fa723cf7-1e8b-47f9-b336-750428ffe760"
      },
      "execution_count": 73,
      "outputs": [
        {
          "output_type": "error",
          "ename": "TypeError",
          "evalue": "ignored",
          "traceback": [
            "\u001b[0;31m---------------------------------------------------------------------------\u001b[0m",
            "\u001b[0;31mTypeError\u001b[0m                                 Traceback (most recent call last)",
            "\u001b[0;32m<ipython-input-73-d38301f38de4>\u001b[0m in \u001b[0;36m<cell line: 1>\u001b[0;34m()\u001b[0m\n\u001b[1;32m      1\u001b[0m \u001b[0;32mfor\u001b[0m \u001b[0mfeature\u001b[0m \u001b[0;32min\u001b[0m \u001b[0mshap_feature_importance\u001b[0m\u001b[0;34m(\u001b[0m\u001b[0mtree_values\u001b[0m\u001b[0;34m,\u001b[0m \u001b[0mx_train\u001b[0m\u001b[0;34m)\u001b[0m\u001b[0;34m.\u001b[0m\u001b[0mcolumn_name\u001b[0m\u001b[0;34m.\u001b[0m\u001b[0mtolist\u001b[0m\u001b[0;34m(\u001b[0m\u001b[0;34m)\u001b[0m\u001b[0;34m:\u001b[0m\u001b[0;34m\u001b[0m\u001b[0;34m\u001b[0m\u001b[0m\n\u001b[0;32m----> 2\u001b[0;31m     \u001b[0mshap_dependance_plot\u001b[0m\u001b[0;34m(\u001b[0m\u001b[0mfeature\u001b[0m\u001b[0;34m,\u001b[0m \u001b[0mtree_values\u001b[0m\u001b[0;34m,\u001b[0m \u001b[0mX_train\u001b[0m\u001b[0;34m)\u001b[0m\u001b[0;34m\u001b[0m\u001b[0;34m\u001b[0m\u001b[0m\n\u001b[0m",
            "\u001b[0;32m<ipython-input-72-2168e2d61c10>\u001b[0m in \u001b[0;36mshap_dependance_plot\u001b[0;34m(feature1, values, X, feature2)\u001b[0m\n\u001b[1;32m      1\u001b[0m \u001b[0;32mdef\u001b[0m \u001b[0mshap_dependance_plot\u001b[0m\u001b[0;34m(\u001b[0m\u001b[0mfeature1\u001b[0m\u001b[0;34m,\u001b[0m \u001b[0mvalues\u001b[0m\u001b[0;34m,\u001b[0m \u001b[0mX\u001b[0m\u001b[0;34m,\u001b[0m \u001b[0mfeature2\u001b[0m \u001b[0;34m=\u001b[0m \u001b[0;32mNone\u001b[0m\u001b[0;34m)\u001b[0m\u001b[0;34m:\u001b[0m\u001b[0;34m\u001b[0m\u001b[0;34m\u001b[0m\u001b[0m\n\u001b[1;32m      2\u001b[0m     \u001b[0;32mif\u001b[0m \u001b[0mfeature2\u001b[0m \u001b[0;32mis\u001b[0m \u001b[0;32mNone\u001b[0m\u001b[0;34m:\u001b[0m\u001b[0;34m\u001b[0m\u001b[0;34m\u001b[0m\u001b[0m\n\u001b[0;32m----> 3\u001b[0;31m         \u001b[0mshap\u001b[0m\u001b[0;34m.\u001b[0m\u001b[0mdependence_plot\u001b[0m\u001b[0;34m(\u001b[0m\u001b[0mfeature1\u001b[0m\u001b[0;34m,\u001b[0m \u001b[0mvalues\u001b[0m\u001b[0;34m,\u001b[0m \u001b[0mX\u001b[0m\u001b[0;34m)\u001b[0m\u001b[0;34m\u001b[0m\u001b[0;34m\u001b[0m\u001b[0m\n\u001b[0m\u001b[1;32m      4\u001b[0m     \u001b[0;32melse\u001b[0m \u001b[0;34m:\u001b[0m\u001b[0;34m\u001b[0m\u001b[0;34m\u001b[0m\u001b[0m\n\u001b[1;32m      5\u001b[0m         \u001b[0mshap\u001b[0m\u001b[0;34m.\u001b[0m\u001b[0mdependence_plot\u001b[0m\u001b[0;34m(\u001b[0m\u001b[0mfeature1\u001b[0m\u001b[0;34m,\u001b[0m \u001b[0mvalues\u001b[0m\u001b[0;34m,\u001b[0m \u001b[0mX\u001b[0m\u001b[0;34m,\u001b[0m \u001b[0minteraction_index\u001b[0m\u001b[0;34m=\u001b[0m\u001b[0mfeature2\u001b[0m\u001b[0;34m)\u001b[0m\u001b[0;34m\u001b[0m\u001b[0;34m\u001b[0m\u001b[0m\n",
            "\u001b[0;32m/usr/local/lib/python3.10/dist-packages/shap/plots/_scatter.py\u001b[0m in \u001b[0;36mdependence_legacy\u001b[0;34m(ind, shap_values, features, feature_names, display_features, interaction_index, color, axis_color, cmap, dot_size, x_jitter, alpha, title, xmin, xmax, ax, show, ymin, ymax)\u001b[0m\n\u001b[1;32m    537\u001b[0m \u001b[0;34m\u001b[0m\u001b[0m\n\u001b[1;32m    538\u001b[0m     \u001b[0;32mif\u001b[0m \u001b[0mtype\u001b[0m\u001b[0;34m(\u001b[0m\u001b[0mshap_values\u001b[0m\u001b[0;34m)\u001b[0m \u001b[0;32mis\u001b[0m \u001b[0mlist\u001b[0m\u001b[0;34m:\u001b[0m\u001b[0;34m\u001b[0m\u001b[0;34m\u001b[0m\u001b[0m\n\u001b[0;32m--> 539\u001b[0;31m         raise TypeError(\"The passed shap_values are a list not an array! If you have a list of explanations try \" \\\n\u001b[0m\u001b[1;32m    540\u001b[0m                         \"passing shap_values[0] instead to explain the first output class of a multi-output model.\")\n\u001b[1;32m    541\u001b[0m \u001b[0;34m\u001b[0m\u001b[0m\n",
            "\u001b[0;31mTypeError\u001b[0m: The passed shap_values are a list not an array! If you have a list of explanations try passing shap_values[0] instead to explain the first output class of a multi-output model."
          ]
        }
      ]
    }
  ],
  "metadata": {
    "colab": {
      "collapsed_sections": [
        "Lax63lgN87lv",
        "orIZu99EzeXx",
        "LhoJeEd4I0Ld",
        "lnMhSv8Byj6S",
        "PUleTqhTyvUZ"
      ],
      "provenance": [],
      "authorship_tag": "ABX9TyO/n3pDjF8SQE0e/DMxpOwD",
      "include_colab_link": true
    },
    "kernelspec": {
      "display_name": "Python 3",
      "name": "python3"
    },
    "language_info": {
      "name": "python"
    },
    "widgets": {
      "application/vnd.jupyter.widget-state+json": {
        "8fb5322c07a74197be3c212e82354580": {
          "model_module": "@jupyter-widgets/controls",
          "model_name": "HBoxModel",
          "model_module_version": "1.5.0",
          "state": {
            "_dom_classes": [],
            "_model_module": "@jupyter-widgets/controls",
            "_model_module_version": "1.5.0",
            "_model_name": "HBoxModel",
            "_view_count": null,
            "_view_module": "@jupyter-widgets/controls",
            "_view_module_version": "1.5.0",
            "_view_name": "HBoxView",
            "box_style": "",
            "children": [
              "IPY_MODEL_6ee9de578ff947a4989be447142283e9",
              "IPY_MODEL_61133aa6d6b54c188e0d64ab614451bc",
              "IPY_MODEL_8cbf2747a9cb4d1f9aca2b02db0c6d45"
            ],
            "layout": "IPY_MODEL_5ff6b6f498ec4cf1be0b713ac335384b"
          }
        },
        "6ee9de578ff947a4989be447142283e9": {
          "model_module": "@jupyter-widgets/controls",
          "model_name": "HTMLModel",
          "model_module_version": "1.5.0",
          "state": {
            "_dom_classes": [],
            "_model_module": "@jupyter-widgets/controls",
            "_model_module_version": "1.5.0",
            "_model_name": "HTMLModel",
            "_view_count": null,
            "_view_module": "@jupyter-widgets/controls",
            "_view_module_version": "1.5.0",
            "_view_name": "HTMLView",
            "description": "",
            "description_tooltip": null,
            "layout": "IPY_MODEL_78d4ae67ac7e4877b4d3173e5fc4c936",
            "placeholder": "​",
            "style": "IPY_MODEL_0f50bc913c8840069210cec32286b15b",
            "value": "Processing: 100%"
          }
        },
        "61133aa6d6b54c188e0d64ab614451bc": {
          "model_module": "@jupyter-widgets/controls",
          "model_name": "FloatProgressModel",
          "model_module_version": "1.5.0",
          "state": {
            "_dom_classes": [],
            "_model_module": "@jupyter-widgets/controls",
            "_model_module_version": "1.5.0",
            "_model_name": "FloatProgressModel",
            "_view_count": null,
            "_view_module": "@jupyter-widgets/controls",
            "_view_module_version": "1.5.0",
            "_view_name": "ProgressView",
            "bar_style": "",
            "description": "",
            "description_tooltip": null,
            "layout": "IPY_MODEL_5365c57e711f4e349c0b7bd1df00255f",
            "max": 65,
            "min": 0,
            "orientation": "horizontal",
            "style": "IPY_MODEL_bb8a086ddb414c39bf78851ced3d9348",
            "value": 65
          }
        },
        "8cbf2747a9cb4d1f9aca2b02db0c6d45": {
          "model_module": "@jupyter-widgets/controls",
          "model_name": "HTMLModel",
          "model_module_version": "1.5.0",
          "state": {
            "_dom_classes": [],
            "_model_module": "@jupyter-widgets/controls",
            "_model_module_version": "1.5.0",
            "_model_name": "HTMLModel",
            "_view_count": null,
            "_view_module": "@jupyter-widgets/controls",
            "_view_module_version": "1.5.0",
            "_view_name": "HTMLView",
            "description": "",
            "description_tooltip": null,
            "layout": "IPY_MODEL_7e41a05b9cb9467b8ee3d216a2e4e454",
            "placeholder": "​",
            "style": "IPY_MODEL_9d45821f3de94bcebb3a2c73831f2540",
            "value": " 65/65 [11:52&lt;00:00,  8.32s/it]"
          }
        },
        "5ff6b6f498ec4cf1be0b713ac335384b": {
          "model_module": "@jupyter-widgets/base",
          "model_name": "LayoutModel",
          "model_module_version": "1.2.0",
          "state": {
            "_model_module": "@jupyter-widgets/base",
            "_model_module_version": "1.2.0",
            "_model_name": "LayoutModel",
            "_view_count": null,
            "_view_module": "@jupyter-widgets/base",
            "_view_module_version": "1.2.0",
            "_view_name": "LayoutView",
            "align_content": null,
            "align_items": null,
            "align_self": null,
            "border": null,
            "bottom": null,
            "display": null,
            "flex": null,
            "flex_flow": null,
            "grid_area": null,
            "grid_auto_columns": null,
            "grid_auto_flow": null,
            "grid_auto_rows": null,
            "grid_column": null,
            "grid_gap": null,
            "grid_row": null,
            "grid_template_areas": null,
            "grid_template_columns": null,
            "grid_template_rows": null,
            "height": null,
            "justify_content": null,
            "justify_items": null,
            "left": null,
            "margin": null,
            "max_height": null,
            "max_width": null,
            "min_height": null,
            "min_width": null,
            "object_fit": null,
            "object_position": null,
            "order": null,
            "overflow": null,
            "overflow_x": null,
            "overflow_y": null,
            "padding": null,
            "right": null,
            "top": null,
            "visibility": "hidden",
            "width": null
          }
        },
        "78d4ae67ac7e4877b4d3173e5fc4c936": {
          "model_module": "@jupyter-widgets/base",
          "model_name": "LayoutModel",
          "model_module_version": "1.2.0",
          "state": {
            "_model_module": "@jupyter-widgets/base",
            "_model_module_version": "1.2.0",
            "_model_name": "LayoutModel",
            "_view_count": null,
            "_view_module": "@jupyter-widgets/base",
            "_view_module_version": "1.2.0",
            "_view_name": "LayoutView",
            "align_content": null,
            "align_items": null,
            "align_self": null,
            "border": null,
            "bottom": null,
            "display": null,
            "flex": null,
            "flex_flow": null,
            "grid_area": null,
            "grid_auto_columns": null,
            "grid_auto_flow": null,
            "grid_auto_rows": null,
            "grid_column": null,
            "grid_gap": null,
            "grid_row": null,
            "grid_template_areas": null,
            "grid_template_columns": null,
            "grid_template_rows": null,
            "height": null,
            "justify_content": null,
            "justify_items": null,
            "left": null,
            "margin": null,
            "max_height": null,
            "max_width": null,
            "min_height": null,
            "min_width": null,
            "object_fit": null,
            "object_position": null,
            "order": null,
            "overflow": null,
            "overflow_x": null,
            "overflow_y": null,
            "padding": null,
            "right": null,
            "top": null,
            "visibility": null,
            "width": null
          }
        },
        "0f50bc913c8840069210cec32286b15b": {
          "model_module": "@jupyter-widgets/controls",
          "model_name": "DescriptionStyleModel",
          "model_module_version": "1.5.0",
          "state": {
            "_model_module": "@jupyter-widgets/controls",
            "_model_module_version": "1.5.0",
            "_model_name": "DescriptionStyleModel",
            "_view_count": null,
            "_view_module": "@jupyter-widgets/base",
            "_view_module_version": "1.2.0",
            "_view_name": "StyleView",
            "description_width": ""
          }
        },
        "5365c57e711f4e349c0b7bd1df00255f": {
          "model_module": "@jupyter-widgets/base",
          "model_name": "LayoutModel",
          "model_module_version": "1.2.0",
          "state": {
            "_model_module": "@jupyter-widgets/base",
            "_model_module_version": "1.2.0",
            "_model_name": "LayoutModel",
            "_view_count": null,
            "_view_module": "@jupyter-widgets/base",
            "_view_module_version": "1.2.0",
            "_view_name": "LayoutView",
            "align_content": null,
            "align_items": null,
            "align_self": null,
            "border": null,
            "bottom": null,
            "display": null,
            "flex": null,
            "flex_flow": null,
            "grid_area": null,
            "grid_auto_columns": null,
            "grid_auto_flow": null,
            "grid_auto_rows": null,
            "grid_column": null,
            "grid_gap": null,
            "grid_row": null,
            "grid_template_areas": null,
            "grid_template_columns": null,
            "grid_template_rows": null,
            "height": null,
            "justify_content": null,
            "justify_items": null,
            "left": null,
            "margin": null,
            "max_height": null,
            "max_width": null,
            "min_height": null,
            "min_width": null,
            "object_fit": null,
            "object_position": null,
            "order": null,
            "overflow": null,
            "overflow_x": null,
            "overflow_y": null,
            "padding": null,
            "right": null,
            "top": null,
            "visibility": null,
            "width": null
          }
        },
        "bb8a086ddb414c39bf78851ced3d9348": {
          "model_module": "@jupyter-widgets/controls",
          "model_name": "ProgressStyleModel",
          "model_module_version": "1.5.0",
          "state": {
            "_model_module": "@jupyter-widgets/controls",
            "_model_module_version": "1.5.0",
            "_model_name": "ProgressStyleModel",
            "_view_count": null,
            "_view_module": "@jupyter-widgets/base",
            "_view_module_version": "1.2.0",
            "_view_name": "StyleView",
            "bar_color": null,
            "description_width": ""
          }
        },
        "7e41a05b9cb9467b8ee3d216a2e4e454": {
          "model_module": "@jupyter-widgets/base",
          "model_name": "LayoutModel",
          "model_module_version": "1.2.0",
          "state": {
            "_model_module": "@jupyter-widgets/base",
            "_model_module_version": "1.2.0",
            "_model_name": "LayoutModel",
            "_view_count": null,
            "_view_module": "@jupyter-widgets/base",
            "_view_module_version": "1.2.0",
            "_view_name": "LayoutView",
            "align_content": null,
            "align_items": null,
            "align_self": null,
            "border": null,
            "bottom": null,
            "display": null,
            "flex": null,
            "flex_flow": null,
            "grid_area": null,
            "grid_auto_columns": null,
            "grid_auto_flow": null,
            "grid_auto_rows": null,
            "grid_column": null,
            "grid_gap": null,
            "grid_row": null,
            "grid_template_areas": null,
            "grid_template_columns": null,
            "grid_template_rows": null,
            "height": null,
            "justify_content": null,
            "justify_items": null,
            "left": null,
            "margin": null,
            "max_height": null,
            "max_width": null,
            "min_height": null,
            "min_width": null,
            "object_fit": null,
            "object_position": null,
            "order": null,
            "overflow": null,
            "overflow_x": null,
            "overflow_y": null,
            "padding": null,
            "right": null,
            "top": null,
            "visibility": null,
            "width": null
          }
        },
        "9d45821f3de94bcebb3a2c73831f2540": {
          "model_module": "@jupyter-widgets/controls",
          "model_name": "DescriptionStyleModel",
          "model_module_version": "1.5.0",
          "state": {
            "_model_module": "@jupyter-widgets/controls",
            "_model_module_version": "1.5.0",
            "_model_name": "DescriptionStyleModel",
            "_view_count": null,
            "_view_module": "@jupyter-widgets/base",
            "_view_module_version": "1.2.0",
            "_view_name": "StyleView",
            "description_width": ""
          }
        }
      }
    }
  },
  "nbformat": 4,
  "nbformat_minor": 0
}